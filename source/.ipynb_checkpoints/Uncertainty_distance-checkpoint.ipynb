{
 "cells": [
  {
   "cell_type": "markdown",
   "metadata": {},
   "source": [
    "# Uncertainty Quantification"
   ]
  },
  {
   "cell_type": "markdown",
   "metadata": {},
   "source": [
    "## Overview\n",
    "    we will analyze why we cannot get the right count for some transcripts using the output of salmon. "
   ]
  },
  {
   "cell_type": "markdown",
   "metadata": {},
   "source": [
    "## Analyze tools\n",
    "    we will mainly use dataframe of pandas to analyze the data."
   ]
  },
  {
   "cell_type": "code",
   "execution_count": 2,
   "metadata": {},
   "outputs": [],
   "source": [
    "import tsv\n",
    "import numpy as np\n",
    "import pandas as pd\n",
    "import matplotlib.pyplot as plt\n",
    "# import seaborn as sns\n",
    "# %matplotlib inline"
   ]
  },
  {
   "cell_type": "markdown",
   "metadata": {},
   "source": [
    "## root path"
   ]
  },
  {
   "cell_type": "code",
   "execution_count": 3,
   "metadata": {},
   "outputs": [],
   "source": [
    "root_path = \"../data/poly_mo/\""
   ]
  },
  {
   "cell_type": "markdown",
   "metadata": {},
   "source": [
    "# data Preprocess"
   ]
  },
  {
   "cell_type": "markdown",
   "metadata": {},
   "source": [
    "## Poly Truth\n",
    "    Read the file poly_truth.tsv\n",
    "    Poly_truth.tsv: true counts for each transcript"
   ]
  },
  {
   "cell_type": "code",
   "execution_count": 4,
   "metadata": {},
   "outputs": [],
   "source": [
    "# Poly_truth.tsv: true counts for each transcript\n",
    "poly_truth = open(root_path+\"poly_truth.tsv\")\n",
    "lines = poly_truth.readlines()\n",
    "poly_truth.close()\n",
    "# print l\n",
    "count = 0\n",
    "poly_truth = []\n",
    "for line in lines:\n",
    "    line = line[:-1]\n",
    "    l = line.split('\\t')\n",
    "    poly_truth.append(l)\n",
    "\n",
    "df_poly_truth = pd.DataFrame.from_records(poly_truth[1:], columns=poly_truth[0])"
   ]
  },
  {
   "cell_type": "code",
   "execution_count": 5,
   "metadata": {},
   "outputs": [],
   "source": [
    "df_poly_truth['transcript_id']=df_poly_truth['transcript_id'].astype(str)\n",
    "df_poly_truth['count']=df_poly_truth['count'].astype(int)"
   ]
  },
  {
   "cell_type": "code",
   "execution_count": 6,
   "metadata": {},
   "outputs": [],
   "source": [
    "id_in_true_count = df_poly_truth.transcript_id"
   ]
  },
  {
   "cell_type": "markdown",
   "metadata": {},
   "source": [
    "## Quant_bootstraps\n",
    "    Read the file quant_bootstraps.tsv\n",
    "    Quant_bootstraps.tsv :containing the matrix of bootstrap experiments containing the final count for each transcript in each round of bootstrapping with a row be a bootstrap output and columns be list of transcripts. "
   ]
  },
  {
   "cell_type": "code",
   "execution_count": 7,
   "metadata": {},
   "outputs": [],
   "source": [
    "# Quant_bootstraps.tsv :containing the matrix of bootstrap experiments \n",
    "# containing the final count for each transcript in each round of bootstrapping \n",
    "# with a row be a bootstrap output and columns be list of transcripts. \n",
    "\n",
    "quant_bootstraps = tsv.TsvReader(open(root_path+\"quant_bootstraps.tsv\"))\n",
    "count = 0\n",
    "quant_boot = []\n",
    "for parts in quant_bootstraps:\n",
    "    quant_boot.append(parts)\n",
    "#     print len(parts)\n",
    "# print(len(quant_boot))"
   ]
  },
  {
   "cell_type": "code",
   "execution_count": 8,
   "metadata": {},
   "outputs": [],
   "source": [
    "df_quant_boot = pd.DataFrame.from_records(quant_boot[1:], columns=quant_boot[0])\n",
    "# print(len(quant_boot[1,:]))"
   ]
  },
  {
   "cell_type": "code",
   "execution_count": 9,
   "metadata": {},
   "outputs": [],
   "source": [
    "df_quant_boot = df_quant_boot.astype('float')"
   ]
  },
  {
   "cell_type": "code",
   "execution_count": 10,
   "metadata": {},
   "outputs": [],
   "source": [
    "df_quant_boot_mean = df_quant_boot.mean()"
   ]
  },
  {
   "cell_type": "code",
   "execution_count": 11,
   "metadata": {},
   "outputs": [],
   "source": [
    "df_quant_boot_std = df_quant_boot.std()"
   ]
  },
  {
   "cell_type": "code",
   "execution_count": 12,
   "metadata": {},
   "outputs": [],
   "source": [
    "id_in_quant_boot = list(df_quant_boot.columns)"
   ]
  },
  {
   "cell_type": "markdown",
   "metadata": {},
   "source": [
    "### Get All use id\n",
    "#### Attention: there are some ids in truth_id but not in quant_boot"
   ]
  },
  {
   "cell_type": "code",
   "execution_count": 13,
   "metadata": {},
   "outputs": [],
   "source": [
    "sort_qb = []\n",
    "use_id = []\n",
    "for id in id_in_true_count:\n",
    "    try:\n",
    "        listed = list(df_quant_boot[id])        \n",
    "    except KeyError:\n",
    "#         print('has No '+id) # there are some ids in truth_id but not in quant_boot\n",
    "        pass\n",
    "    else:\n",
    "        use_id.append(id)"
   ]
  },
  {
   "cell_type": "markdown",
   "metadata": {},
   "source": [
    "## Get the distance between true_count and mean of bootstrapping"
   ]
  },
  {
   "cell_type": "markdown",
   "metadata": {},
   "source": [
    "### solve the distance of use_id"
   ]
  },
  {
   "cell_type": "code",
   "execution_count": 14,
   "metadata": {},
   "outputs": [],
   "source": [
    "df_poly_truth = df_poly_truth.set_index(['transcript_id'])"
   ]
  },
  {
   "cell_type": "code",
   "execution_count": 15,
   "metadata": {},
   "outputs": [],
   "source": [
    "# dist = []\n",
    "dist=[]\n",
    "for id in use_id:\n",
    "    mean = df_quant_boot_mean[id]\n",
    "    true_count = df_poly_truth.loc[id]\n",
    "    distance = true_count - mean\n",
    "    distance = float(distance)\n",
    "#     dist['id']=distance\n",
    "    dist.append(distance)"
   ]
  },
  {
   "cell_type": "markdown",
   "metadata": {},
   "source": [
    "### get the distance of  extended true_id"
   ]
  },
  {
   "cell_type": "code",
   "execution_count": 16,
   "metadata": {},
   "outputs": [],
   "source": [
    "extend_id = list(set(id_in_quant_boot).difference(set(use_id)))\n",
    "use_id.extend(extend_id)"
   ]
  },
  {
   "cell_type": "code",
   "execution_count": 17,
   "metadata": {},
   "outputs": [],
   "source": [
    "for id in extend_id:\n",
    "    mean = df_quant_boot_mean[id]\n",
    "    true_count = 0\n",
    "    distance = mean - true_count\n",
    "    dist.append(distance)"
   ]
  },
  {
   "cell_type": "markdown",
   "metadata": {},
   "source": [
    "### add label for the list\n",
    "    set distance as label for every transcript_id\n",
    "    And them we will merge this labeled list with list of properties in order to get a list which include both properties and label of every transcript."
   ]
  },
  {
   "cell_type": "code",
   "execution_count": 18,
   "metadata": {},
   "outputs": [],
   "source": [
    "labeled_id = [use_id,dist]\n",
    "labeled = list(map(list,zip(*labeled_id)))"
   ]
  },
  {
   "cell_type": "code",
   "execution_count": 19,
   "metadata": {},
   "outputs": [],
   "source": [
    "df_labeled_id = pd.DataFrame.from_records(labeled, columns=['Name','label'])\n",
    "df_labeled_id.Name = df_labeled_id.Name.astype(str)"
   ]
  },
  {
   "cell_type": "markdown",
   "metadata": {},
   "source": [
    "## Read Quant.sf\n",
    "    Read the quant.sf file.\n",
    "    Quant.sf :estimated quantifications for each transcript"
   ]
  },
  {
   "cell_type": "code",
   "execution_count": 21,
   "metadata": {},
   "outputs": [],
   "source": [
    "# Quant.sf :estimated quantifications for each transcript\n",
    "quant_file = open(root_path+\"quant.sf\")\n",
    "lines = quant_file.readlines()\n",
    "quant_file.close()\n",
    "count = 0\n",
    "quant = []\n",
    "for line in lines:\n",
    "    line = line[:-1]\n",
    "    l = line.split('\\t')\n",
    "    quant.append(l)"
   ]
  },
  {
   "cell_type": "code",
   "execution_count": 22,
   "metadata": {},
   "outputs": [],
   "source": [
    "df_quant = pd.DataFrame.from_records(quant[1:], columns=quant[0])"
   ]
  },
  {
   "cell_type": "code",
   "execution_count": 23,
   "metadata": {},
   "outputs": [],
   "source": [
    "df_quant.Name = df_quant.Name.astype(str)\n",
    "df_quant.Length = df_quant.Length.astype(int)\n",
    "df_quant.EffectiveLength = df_quant.EffectiveLength.astype(float)\n",
    "df_quant.TPM = df_quant.TPM.astype(float)\n",
    "df_quant.NumReads = df_quant.NumReads.astype(float)"
   ]
  },
  {
   "cell_type": "markdown",
   "metadata": {},
   "source": [
    "## Merge quant.sf and labeled_id to get the useful data for training\n",
    "    labeled_id is a list of transcript_id togather with label(success(true，set as 1) or fail(flase,set as 0))  \n",
    "    And we will add the label with the protery from quant.sf in order to analyze the properties of different label.\n",
    "    Then it will be easy for us to analyze the relation between properties and label and the difference between group of different label."
   ]
  },
  {
   "cell_type": "markdown",
   "metadata": {},
   "source": [
    "#### merge the data"
   ]
  },
  {
   "cell_type": "code",
   "execution_count": 24,
   "metadata": {},
   "outputs": [],
   "source": [
    "df_labeled = df_labeled_id.merge(df_quant, on='Name')"
   ]
  },
  {
   "cell_type": "code",
   "execution_count": 25,
   "metadata": {},
   "outputs": [],
   "source": [
    "label = df_labeled.pop('label')\n",
    "df_labeled.insert(5,'label',label)"
   ]
  },
  {
   "cell_type": "code",
   "execution_count": 26,
   "metadata": {},
   "outputs": [],
   "source": [
    "quant_boot_std = df_quant_boot_std.tolist()\n",
    "quant_boot_mean = df_quant_boot_mean.tolist()"
   ]
  },
  {
   "cell_type": "code",
   "execution_count": 27,
   "metadata": {},
   "outputs": [],
   "source": [
    "df_labeled.insert(5,'quant_boot_mean',quant_boot_mean)\n",
    "df_labeled.insert(6,'quant_boot_std',quant_boot_std)"
   ]
  },
  {
   "cell_type": "code",
   "execution_count": 28,
   "metadata": {},
   "outputs": [
    {
     "data": {
      "text/html": [
       "<div>\n",
       "<style>\n",
       "    .dataframe thead tr:only-child th {\n",
       "        text-align: right;\n",
       "    }\n",
       "\n",
       "    .dataframe thead th {\n",
       "        text-align: left;\n",
       "    }\n",
       "\n",
       "    .dataframe tbody tr th {\n",
       "        vertical-align: top;\n",
       "    }\n",
       "</style>\n",
       "<table border=\"1\" class=\"dataframe\">\n",
       "  <thead>\n",
       "    <tr style=\"text-align: right;\">\n",
       "      <th></th>\n",
       "      <th>Name</th>\n",
       "      <th>Length</th>\n",
       "      <th>EffectiveLength</th>\n",
       "      <th>TPM</th>\n",
       "      <th>NumReads</th>\n",
       "      <th>quant_boot_mean</th>\n",
       "      <th>quant_boot_std</th>\n",
       "      <th>label</th>\n",
       "    </tr>\n",
       "  </thead>\n",
       "  <tbody>\n",
       "    <tr>\n",
       "      <th>0</th>\n",
       "      <td>ENST00000608495</td>\n",
       "      <td>1672</td>\n",
       "      <td>1472.991</td>\n",
       "      <td>0.000000</td>\n",
       "      <td>0.000000</td>\n",
       "      <td>0.000000</td>\n",
       "      <td>0.000000</td>\n",
       "      <td>1.000000</td>\n",
       "    </tr>\n",
       "    <tr>\n",
       "      <th>1</th>\n",
       "      <td>ENST00000382369</td>\n",
       "      <td>1420</td>\n",
       "      <td>1220.991</td>\n",
       "      <td>1.180968</td>\n",
       "      <td>46.855146</td>\n",
       "      <td>0.000000</td>\n",
       "      <td>0.000000</td>\n",
       "      <td>9.348416</td>\n",
       "    </tr>\n",
       "    <tr>\n",
       "      <th>2</th>\n",
       "      <td>ENST00000360321</td>\n",
       "      <td>1575</td>\n",
       "      <td>1375.991</td>\n",
       "      <td>0.912080</td>\n",
       "      <td>40.780781</td>\n",
       "      <td>0.000000</td>\n",
       "      <td>0.000000</td>\n",
       "      <td>12.419083</td>\n",
       "    </tr>\n",
       "    <tr>\n",
       "      <th>3</th>\n",
       "      <td>ENST00000400269</td>\n",
       "      <td>1022</td>\n",
       "      <td>822.991</td>\n",
       "      <td>2.705958</td>\n",
       "      <td>72.364073</td>\n",
       "      <td>0.000000</td>\n",
       "      <td>0.000000</td>\n",
       "      <td>21.022501</td>\n",
       "    </tr>\n",
       "    <tr>\n",
       "      <th>4</th>\n",
       "      <td>ENST00000382352</td>\n",
       "      <td>3229</td>\n",
       "      <td>3029.991</td>\n",
       "      <td>20.638372</td>\n",
       "      <td>2032.000000</td>\n",
       "      <td>0.000000</td>\n",
       "      <td>0.000000</td>\n",
       "      <td>617.250000</td>\n",
       "    </tr>\n",
       "    <tr>\n",
       "      <th>5</th>\n",
       "      <td>ENST00000342665</td>\n",
       "      <td>4627</td>\n",
       "      <td>4427.991</td>\n",
       "      <td>13.886148</td>\n",
       "      <td>1998.000000</td>\n",
       "      <td>0.000000</td>\n",
       "      <td>0.000000</td>\n",
       "      <td>807.185000</td>\n",
       "    </tr>\n",
       "    <tr>\n",
       "      <th>6</th>\n",
       "      <td>ENST00000609179</td>\n",
       "      <td>578</td>\n",
       "      <td>379.005</td>\n",
       "      <td>14.940537</td>\n",
       "      <td>184.000000</td>\n",
       "      <td>0.000000</td>\n",
       "      <td>0.000000</td>\n",
       "      <td>77.610000</td>\n",
       "    </tr>\n",
       "    <tr>\n",
       "      <th>7</th>\n",
       "      <td>ENST00000217233</td>\n",
       "      <td>2499</td>\n",
       "      <td>2299.991</td>\n",
       "      <td>3.581666</td>\n",
       "      <td>267.681402</td>\n",
       "      <td>45.651584</td>\n",
       "      <td>12.636180</td>\n",
       "      <td>113.376762</td>\n",
       "    </tr>\n",
       "    <tr>\n",
       "      <th>8</th>\n",
       "      <td>ENST00000449710</td>\n",
       "      <td>1070</td>\n",
       "      <td>870.991</td>\n",
       "      <td>8.234501</td>\n",
       "      <td>233.054648</td>\n",
       "      <td>41.580917</td>\n",
       "      <td>11.378288</td>\n",
       "      <td>116.036500</td>\n",
       "    </tr>\n",
       "    <tr>\n",
       "      <th>9</th>\n",
       "      <td>ENST00000422053</td>\n",
       "      <td>1533</td>\n",
       "      <td>1333.991</td>\n",
       "      <td>4.643081</td>\n",
       "      <td>201.263950</td>\n",
       "      <td>70.977499</td>\n",
       "      <td>10.912630</td>\n",
       "      <td>60.696738</td>\n",
       "    </tr>\n",
       "  </tbody>\n",
       "</table>\n",
       "</div>"
      ],
      "text/plain": [
       "              Name  Length  EffectiveLength        TPM     NumReads  \\\n",
       "0  ENST00000608495    1672         1472.991   0.000000     0.000000   \n",
       "1  ENST00000382369    1420         1220.991   1.180968    46.855146   \n",
       "2  ENST00000360321    1575         1375.991   0.912080    40.780781   \n",
       "3  ENST00000400269    1022          822.991   2.705958    72.364073   \n",
       "4  ENST00000382352    3229         3029.991  20.638372  2032.000000   \n",
       "5  ENST00000342665    4627         4427.991  13.886148  1998.000000   \n",
       "6  ENST00000609179     578          379.005  14.940537   184.000000   \n",
       "7  ENST00000217233    2499         2299.991   3.581666   267.681402   \n",
       "8  ENST00000449710    1070          870.991   8.234501   233.054648   \n",
       "9  ENST00000422053    1533         1333.991   4.643081   201.263950   \n",
       "\n",
       "   quant_boot_mean  quant_boot_std       label  \n",
       "0         0.000000        0.000000    1.000000  \n",
       "1         0.000000        0.000000    9.348416  \n",
       "2         0.000000        0.000000   12.419083  \n",
       "3         0.000000        0.000000   21.022501  \n",
       "4         0.000000        0.000000  617.250000  \n",
       "5         0.000000        0.000000  807.185000  \n",
       "6         0.000000        0.000000   77.610000  \n",
       "7        45.651584       12.636180  113.376762  \n",
       "8        41.580917       11.378288  116.036500  \n",
       "9        70.977499       10.912630   60.696738  "
      ]
     },
     "execution_count": 28,
     "metadata": {},
     "output_type": "execute_result"
    }
   ],
   "source": [
    "df_labeled.head(10)"
   ]
  },
  {
   "cell_type": "code",
   "execution_count": 90,
   "metadata": {},
   "outputs": [
    {
     "data": {
      "text/html": [
       "<div>\n",
       "<style>\n",
       "    .dataframe thead tr:only-child th {\n",
       "        text-align: right;\n",
       "    }\n",
       "\n",
       "    .dataframe thead th {\n",
       "        text-align: left;\n",
       "    }\n",
       "\n",
       "    .dataframe tbody tr th {\n",
       "        vertical-align: top;\n",
       "    }\n",
       "</style>\n",
       "<table border=\"1\" class=\"dataframe\">\n",
       "  <thead>\n",
       "    <tr style=\"text-align: right;\">\n",
       "      <th></th>\n",
       "      <th>Length</th>\n",
       "      <th>EffectiveLength</th>\n",
       "      <th>TPM</th>\n",
       "      <th>NumReads</th>\n",
       "      <th>quant_boot_mean</th>\n",
       "      <th>quant_boot_std</th>\n",
       "      <th>label</th>\n",
       "    </tr>\n",
       "  </thead>\n",
       "  <tbody>\n",
       "    <tr>\n",
       "      <th>count</th>\n",
       "      <td>93109.000000</td>\n",
       "      <td>93109.000000</td>\n",
       "      <td>93109.000000</td>\n",
       "      <td>9.310900e+04</td>\n",
       "      <td>9.310900e+04</td>\n",
       "      <td>93109.000000</td>\n",
       "      <td>93109.000000</td>\n",
       "    </tr>\n",
       "    <tr>\n",
       "      <th>mean</th>\n",
       "      <td>2008.924164</td>\n",
       "      <td>1810.144491</td>\n",
       "      <td>10.740100</td>\n",
       "      <td>3.579084e+02</td>\n",
       "      <td>3.579084e+02</td>\n",
       "      <td>8.375432</td>\n",
       "      <td>73.778214</td>\n",
       "    </tr>\n",
       "    <tr>\n",
       "      <th>std</th>\n",
       "      <td>2132.499138</td>\n",
       "      <td>2132.174682</td>\n",
       "      <td>201.478857</td>\n",
       "      <td>6.924434e+03</td>\n",
       "      <td>6.924414e+03</td>\n",
       "      <td>27.312889</td>\n",
       "      <td>1282.693605</td>\n",
       "    </tr>\n",
       "    <tr>\n",
       "      <th>min</th>\n",
       "      <td>21.000000</td>\n",
       "      <td>9.784000</td>\n",
       "      <td>0.000000</td>\n",
       "      <td>0.000000e+00</td>\n",
       "      <td>0.000000e+00</td>\n",
       "      <td>0.000000</td>\n",
       "      <td>-57221.321454</td>\n",
       "    </tr>\n",
       "    <tr>\n",
       "      <th>25%</th>\n",
       "      <td>640.000000</td>\n",
       "      <td>441.002000</td>\n",
       "      <td>0.000000</td>\n",
       "      <td>0.000000e+00</td>\n",
       "      <td>0.000000e+00</td>\n",
       "      <td>0.000000</td>\n",
       "      <td>0.000000</td>\n",
       "    </tr>\n",
       "    <tr>\n",
       "      <th>50%</th>\n",
       "      <td>1344.000000</td>\n",
       "      <td>1144.991000</td>\n",
       "      <td>0.000000</td>\n",
       "      <td>0.000000e+00</td>\n",
       "      <td>0.000000e+00</td>\n",
       "      <td>0.000000</td>\n",
       "      <td>0.000000</td>\n",
       "    </tr>\n",
       "    <tr>\n",
       "      <th>75%</th>\n",
       "      <td>2640.000000</td>\n",
       "      <td>2439.991000</td>\n",
       "      <td>0.173865</td>\n",
       "      <td>6.000000e+00</td>\n",
       "      <td>6.949153e+00</td>\n",
       "      <td>4.249446</td>\n",
       "      <td>2.265762</td>\n",
       "    </tr>\n",
       "    <tr>\n",
       "      <th>max</th>\n",
       "      <td>109224.000000</td>\n",
       "      <td>109024.991000</td>\n",
       "      <td>23356.420222</td>\n",
       "      <td>1.109005e+06</td>\n",
       "      <td>1.109140e+06</td>\n",
       "      <td>1112.644975</td>\n",
       "      <td>207755.507950</td>\n",
       "    </tr>\n",
       "  </tbody>\n",
       "</table>\n",
       "</div>"
      ],
      "text/plain": [
       "              Length  EffectiveLength           TPM      NumReads  \\\n",
       "count   93109.000000     93109.000000  93109.000000  9.310900e+04   \n",
       "mean     2008.924164      1810.144491     10.740100  3.579084e+02   \n",
       "std      2132.499138      2132.174682    201.478857  6.924434e+03   \n",
       "min        21.000000         9.784000      0.000000  0.000000e+00   \n",
       "25%       640.000000       441.002000      0.000000  0.000000e+00   \n",
       "50%      1344.000000      1144.991000      0.000000  0.000000e+00   \n",
       "75%      2640.000000      2439.991000      0.173865  6.000000e+00   \n",
       "max    109224.000000    109024.991000  23356.420222  1.109005e+06   \n",
       "\n",
       "       quant_boot_mean  quant_boot_std          label  \n",
       "count     9.310900e+04    93109.000000   93109.000000  \n",
       "mean      3.579084e+02        8.375432      73.778214  \n",
       "std       6.924414e+03       27.312889    1282.693605  \n",
       "min       0.000000e+00        0.000000  -57221.321454  \n",
       "25%       0.000000e+00        0.000000       0.000000  \n",
       "50%       0.000000e+00        0.000000       0.000000  \n",
       "75%       6.949153e+00        4.249446       2.265762  \n",
       "max       1.109140e+06     1112.644975  207755.507950  "
      ]
     },
     "execution_count": 90,
     "metadata": {},
     "output_type": "execute_result"
    }
   ],
   "source": [
    "df_labeled.describe()"
   ]
  },
  {
   "cell_type": "code",
   "execution_count": 29,
   "metadata": {},
   "outputs": [],
   "source": [
    "data = df_labeled"
   ]
  },
  {
   "cell_type": "markdown",
   "metadata": {},
   "source": [
    "# Training"
   ]
  },
  {
   "cell_type": "markdown",
   "metadata": {},
   "source": [
    "## Prepare the Training data"
   ]
  },
  {
   "cell_type": "code",
   "execution_count": 30,
   "metadata": {},
   "outputs": [],
   "source": [
    "import sklearn\n",
    "from sklearn.utils import shuffle  "
   ]
  },
  {
   "cell_type": "markdown",
   "metadata": {},
   "source": [
    "## Shuffle the data"
   ]
  },
  {
   "cell_type": "code",
   "execution_count": 105,
   "metadata": {},
   "outputs": [],
   "source": [
    "sfdata = shuffle(data) # make the data random\n",
    "# input_data = sfdata[['Length','EffectiveLength','TPM','NumReads','quant_boot_mean','quant_boot_std']]\n",
    "input_data = sfdata[['Length','EffectiveLength','quant_boot_mean','quant_boot_std']]\n",
    "\n",
    "input_label = sfdata['label']"
   ]
  },
  {
   "cell_type": "code",
   "execution_count": 106,
   "metadata": {},
   "outputs": [],
   "source": [
    "train = int(len(input_data)*9/10)\n",
    "test = train+1\n",
    "train_data = input_data[0:train]\n",
    "train_label = input_label[0:train]\n",
    "test_data = input_data[test:]\n",
    "test_label = input_label[test:]"
   ]
  },
  {
   "cell_type": "code",
   "execution_count": 107,
   "metadata": {},
   "outputs": [],
   "source": [
    "train_data = train_data.as_matrix()\n",
    "train_label = train_label.as_matrix()\n",
    "test_data = test_data.as_matrix()\n",
    "test_label = test_label.as_matrix()"
   ]
  },
  {
   "cell_type": "code",
   "execution_count": 37,
   "metadata": {},
   "outputs": [],
   "source": [
    "# trian_data = np.reshape(train_data,(83798,6,1))"
   ]
  },
  {
   "cell_type": "markdown",
   "metadata": {},
   "source": [
    "## Some models"
   ]
  },
  {
   "cell_type": "code",
   "execution_count": 63,
   "metadata": {},
   "outputs": [],
   "source": [
    "def cal_mse(regr,test_label):\n",
    "    error = (regr-test_label)\n",
    "#     error = error.tolist()\n",
    "#     error_sq = error.apply(square)\n",
    "    error_sq = error**2\n",
    "    mse = error_sq.sum()/len(error)\n",
    "    return mse"
   ]
  },
  {
   "cell_type": "markdown",
   "metadata": {},
   "source": [
    "## Neural Network"
   ]
  },
  {
   "cell_type": "code",
   "execution_count": 39,
   "metadata": {
    "scrolled": true
   },
   "outputs": [
    {
     "name": "stderr",
     "output_type": "stream",
     "text": [
      "Using TensorFlow backend.\n"
     ]
    }
   ],
   "source": [
    "import keras\n",
    "from keras.models import Sequential\n",
    "from keras.layers import Dense\n",
    "from keras.layers import Activation\n",
    "from keras.layers import Dropout"
   ]
  },
  {
   "cell_type": "code",
   "execution_count": 118,
   "metadata": {},
   "outputs": [],
   "source": [
    "model = Sequential()\n",
    "model.add(Dense(1, input_shape=(4,)))\n",
    "model.add(Activation('sigmoid'))\n",
    "model.add(Dense(1))\n",
    "# sgd = keras.optimizers.SGD(lr=0.01, decay=1e-6, momentum=0.9, nesterov=True)\n",
    "rmsp = keras.optimizers.RMSprop(lr=0.001, rho=0.9, epsilon=1e-06)\n",
    "model.compile(optimizer=rmsp,loss='mse')"
   ]
  },
  {
   "cell_type": "code",
   "execution_count": null,
   "metadata": {
    "scrolled": false
   },
   "outputs": [
    {
     "name": "stdout",
     "output_type": "stream",
     "text": [
      "Epoch 1/10\n",
      "83798/83798 [==============================] - 7s 81us/step - loss: 1657277.3192\n",
      "Epoch 2/10\n",
      "83798/83798 [==============================] - 6s 76us/step - loss: 1656946.8748\n",
      "Epoch 3/10\n",
      "83798/83798 [==============================] - 6s 77us/step - loss: 1656637.7846\n",
      "Epoch 4/10\n",
      "55984/83798 [===================>..........] - ETA: 2s - loss: 2227416.1580"
     ]
    }
   ],
   "source": [
    "model.fit(train_data, train_label, epochs=3, batch_size=16)"
   ]
  },
  {
   "cell_type": "code",
   "execution_count": 110,
   "metadata": {},
   "outputs": [],
   "source": [
    "pred_distance = model.predict(test_data)"
   ]
  },
  {
   "cell_type": "code",
   "execution_count": 111,
   "metadata": {},
   "outputs": [
    {
     "data": {
      "text/plain": [
       "14750512325.551928"
      ]
     },
     "execution_count": 111,
     "metadata": {},
     "output_type": "execute_result"
    }
   ],
   "source": [
    "cal_mse(pred_distance,test_label)"
   ]
  },
  {
   "cell_type": "code",
   "execution_count": null,
   "metadata": {},
   "outputs": [],
   "source": [
    "model.save('nn.h5')"
   ]
  },
  {
   "cell_type": "markdown",
   "metadata": {},
   "source": [
    "## Linear Regression"
   ]
  },
  {
   "cell_type": "code",
   "execution_count": 48,
   "metadata": {},
   "outputs": [],
   "source": [
    "from sklearn.linear_model import LinearRegression"
   ]
  },
  {
   "cell_type": "code",
   "execution_count": 50,
   "metadata": {},
   "outputs": [],
   "source": [
    "lr = LinearRegression(fit_intercept=True, normalize=False, copy_X=True, n_jobs=1)"
   ]
  },
  {
   "cell_type": "code",
   "execution_count": 51,
   "metadata": {},
   "outputs": [
    {
     "data": {
      "text/plain": [
       "LinearRegression(copy_X=True, fit_intercept=True, n_jobs=1, normalize=False)"
      ]
     },
     "execution_count": 51,
     "metadata": {},
     "output_type": "execute_result"
    }
   ],
   "source": [
    "lr.fit(train_data,train_label)"
   ]
  },
  {
   "cell_type": "code",
   "execution_count": 52,
   "metadata": {},
   "outputs": [],
   "source": [
    "pred = lr.predict(test_data)"
   ]
  },
  {
   "cell_type": "code",
   "execution_count": 66,
   "metadata": {},
   "outputs": [
    {
     "name": "stdout",
     "output_type": "stream",
     "text": [
      "[ 16.39705994  16.46410104  16.4096305   16.41684938  16.31698863\n",
      "  15.78670591  20.69657738  16.83202467  16.37960305   8.25260346]\n"
     ]
    }
   ],
   "source": [
    "print(pred[0:10])"
   ]
  },
  {
   "cell_type": "code",
   "execution_count": 68,
   "metadata": {},
   "outputs": [
    {
     "name": "stdout",
     "output_type": "stream",
     "text": [
      "[ 0.          0.          0.29358114  0.          0.          0.          0.\n",
      "  0.          0.          0.        ]\n"
     ]
    }
   ],
   "source": [
    "print(test_label[0:10])"
   ]
  },
  {
   "cell_type": "code",
   "execution_count": 71,
   "metadata": {},
   "outputs": [
    {
     "data": {
      "text/plain": [
       "array([   0.        ,    0.        ,  533.6       ,    0.        ,\n",
       "         71.515     ,    0.        ,    0.        ,    0.        ,\n",
       "          2.11996099,    0.        ])"
      ]
     },
     "execution_count": 71,
     "metadata": {},
     "output_type": "execute_result"
    }
   ],
   "source": [
    "test_label[10:20]"
   ]
  },
  {
   "cell_type": "code",
   "execution_count": 64,
   "metadata": {},
   "outputs": [],
   "source": [
    "lr_mse = cal_mse(pred,test_label)"
   ]
  },
  {
   "cell_type": "code",
   "execution_count": 91,
   "metadata": {},
   "outputs": [],
   "source": [
    "train_pred = lr.predict(train_data)"
   ]
  },
  {
   "cell_type": "code",
   "execution_count": 92,
   "metadata": {},
   "outputs": [],
   "source": [
    "train_mse = cal_mse(train_pred,train_label)"
   ]
  },
  {
   "cell_type": "code",
   "execution_count": 93,
   "metadata": {},
   "outputs": [
    {
     "data": {
      "text/plain": [
       "223663.12443406248"
      ]
     },
     "execution_count": 93,
     "metadata": {},
     "output_type": "execute_result"
    }
   ],
   "source": [
    "train_mse"
   ]
  },
  {
   "cell_type": "code",
   "execution_count": 65,
   "metadata": {},
   "outputs": [
    {
     "data": {
      "text/plain": [
       "569298.01021590026"
      ]
     },
     "execution_count": 65,
     "metadata": {},
     "output_type": "execute_result"
    }
   ],
   "source": [
    "lr_mse"
   ]
  },
  {
   "cell_type": "markdown",
   "metadata": {},
   "source": [
    "## SVR"
   ]
  },
  {
   "cell_type": "code",
   "execution_count": 94,
   "metadata": {},
   "outputs": [],
   "source": [
    "from sklearn.svm import SVR"
   ]
  },
  {
   "cell_type": "code",
   "execution_count": 96,
   "metadata": {},
   "outputs": [
    {
     "data": {
      "text/plain": [
       "SVR(C=1.0, cache_size=200, coef0=0.0, degree=3, epsilon=0.2, gamma='auto',\n",
       "  kernel='rbf', max_iter=-1, shrinking=True, tol=0.001, verbose=False)"
      ]
     },
     "execution_count": 96,
     "metadata": {},
     "output_type": "execute_result"
    }
   ],
   "source": [
    "clf = SVR(C=1.0, epsilon=0.2)\n",
    "clf.fit(train_data,train_label)"
   ]
  },
  {
   "cell_type": "code",
   "execution_count": 97,
   "metadata": {},
   "outputs": [],
   "source": [
    "svr_regr = clf.predict(test_data)"
   ]
  },
  {
   "cell_type": "code",
   "execution_count": 99,
   "metadata": {},
   "outputs": [],
   "source": [
    "svr_mse = cal_mse(svr_regr,test_label)"
   ]
  },
  {
   "cell_type": "code",
   "execution_count": 100,
   "metadata": {},
   "outputs": [
    {
     "data": {
      "text/plain": [
       "4069770.9581566448"
      ]
     },
     "execution_count": 100,
     "metadata": {},
     "output_type": "execute_result"
    }
   ],
   "source": [
    "svr_mse"
   ]
  }
 ],
 "metadata": {
  "kernelspec": {
   "display_name": "Python 3",
   "language": "python",
   "name": "python3"
  },
  "language_info": {
   "codemirror_mode": {
    "name": "ipython",
    "version": 3
   },
   "file_extension": ".py",
   "mimetype": "text/x-python",
   "name": "python",
   "nbconvert_exporter": "python",
   "pygments_lexer": "ipython3",
   "version": "3.6.3"
  }
 },
 "nbformat": 4,
 "nbformat_minor": 2
}
