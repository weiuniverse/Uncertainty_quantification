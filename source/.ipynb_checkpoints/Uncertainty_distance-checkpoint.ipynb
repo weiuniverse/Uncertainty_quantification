{
 "cells": [
  {
   "cell_type": "markdown",
   "metadata": {},
   "source": [
    "# Uncertainty Quantification"
   ]
  },
  {
   "cell_type": "markdown",
   "metadata": {},
   "source": [
    "## Overview\n",
    "    we will analyze why we cannot get the right count for some transcripts using the output of salmon. "
   ]
  },
  {
   "cell_type": "markdown",
   "metadata": {},
   "source": [
    "## Analyze tools\n",
    "    we will mainly use dataframe of pandas to analyze the data."
   ]
  },
  {
   "cell_type": "code",
   "execution_count": 1,
   "metadata": {},
   "outputs": [],
   "source": [
    "import math\n",
    "import tsv\n",
    "import numpy as np\n",
    "import pandas as pd\n",
    "import matplotlib.pyplot as plt\n",
    "# import seaborn as sns\n",
    "# %matplotlib inline"
   ]
  },
  {
   "cell_type": "markdown",
   "metadata": {},
   "source": [
    "## root path"
   ]
  },
  {
   "cell_type": "code",
   "execution_count": 2,
   "metadata": {},
   "outputs": [],
   "source": [
    "root_path = \"../data/poly_mo/\""
   ]
  },
  {
   "cell_type": "markdown",
   "metadata": {},
   "source": [
    "# data Preprocess"
   ]
  },
  {
   "cell_type": "markdown",
   "metadata": {},
   "source": [
    "## Poly Truth\n",
    "    Read the file poly_truth.tsv\n",
    "    Poly_truth.tsv: true counts for each transcript"
   ]
  },
  {
   "cell_type": "code",
   "execution_count": 3,
   "metadata": {},
   "outputs": [],
   "source": [
    "# Poly_truth.tsv: true counts for each transcript\n",
    "poly_truth = open(root_path+\"poly_truth.tsv\")\n",
    "lines = poly_truth.readlines()\n",
    "poly_truth.close()\n",
    "# print l\n",
    "count = 0\n",
    "poly_truth = []\n",
    "for line in lines:\n",
    "    line = line[:-1]\n",
    "    l = line.split('\\t')\n",
    "    poly_truth.append(l)\n",
    "\n",
    "df_poly_truth = pd.DataFrame.from_records(poly_truth[1:], columns=poly_truth[0])"
   ]
  },
  {
   "cell_type": "code",
   "execution_count": 4,
   "metadata": {},
   "outputs": [],
   "source": [
    "df_poly_truth['transcript_id']=df_poly_truth['transcript_id'].astype(str)\n",
    "df_poly_truth['count']=df_poly_truth['count'].astype(int)"
   ]
  },
  {
   "cell_type": "code",
   "execution_count": 5,
   "metadata": {},
   "outputs": [],
   "source": [
    "id_in_true_count = df_poly_truth.transcript_id"
   ]
  },
  {
   "cell_type": "markdown",
   "metadata": {},
   "source": [
    "## Quant_bootstraps\n",
    "    Read the file quant_bootstraps.tsv\n",
    "    Quant_bootstraps.tsv :containing the matrix of bootstrap experiments containing the final count for each transcript in each round of bootstrapping with a row be a bootstrap output and columns be list of transcripts. "
   ]
  },
  {
   "cell_type": "code",
   "execution_count": 6,
   "metadata": {},
   "outputs": [],
   "source": [
    "# Quant_bootstraps.tsv :containing the matrix of bootstrap experiments \n",
    "# containing the final count for each transcript in each round of bootstrapping \n",
    "# with a row be a bootstrap output and columns be list of transcripts. \n",
    "\n",
    "quant_bootstraps = tsv.TsvReader(open(root_path+\"quant_bootstraps.tsv\"))\n",
    "count = 0\n",
    "quant_boot = []\n",
    "for parts in quant_bootstraps:\n",
    "    quant_boot.append(parts)\n",
    "#     print len(parts)\n",
    "# print(len(quant_boot))"
   ]
  },
  {
   "cell_type": "code",
   "execution_count": 7,
   "metadata": {},
   "outputs": [],
   "source": [
    "df_quant_boot = pd.DataFrame.from_records(quant_boot[1:], columns=quant_boot[0])\n",
    "# print(len(quant_boot[1,:]))"
   ]
  },
  {
   "cell_type": "code",
   "execution_count": 8,
   "metadata": {},
   "outputs": [],
   "source": [
    "df_quant_boot = df_quant_boot.astype('float')"
   ]
  },
  {
   "cell_type": "code",
   "execution_count": 9,
   "metadata": {},
   "outputs": [],
   "source": [
    "df_quant_boot_mean = df_quant_boot.mean()"
   ]
  },
  {
   "cell_type": "code",
   "execution_count": 10,
   "metadata": {},
   "outputs": [],
   "source": [
    "df_quant_boot_std = df_quant_boot.std()"
   ]
  },
  {
   "cell_type": "code",
   "execution_count": 11,
   "metadata": {},
   "outputs": [
    {
     "data": {
      "text/plain": [
       "pandas.core.series.Series"
      ]
     },
     "execution_count": 11,
     "metadata": {},
     "output_type": "execute_result"
    }
   ],
   "source": [
    "type(df_quant_boot_mean)"
   ]
  },
  {
   "cell_type": "code",
   "execution_count": 12,
   "metadata": {},
   "outputs": [],
   "source": [
    "id_in_quant_boot = list(df_quant_boot.columns)"
   ]
  },
  {
   "cell_type": "markdown",
   "metadata": {},
   "source": [
    "### Get All use id\n",
    "#### Attention: there are some ids in truth_id but not in quant_boot"
   ]
  },
  {
   "cell_type": "code",
   "execution_count": 13,
   "metadata": {},
   "outputs": [],
   "source": [
    "sort_qb = []\n",
    "use_id = []\n",
    "for id in id_in_true_count:\n",
    "    try:\n",
    "        listed = list(df_quant_boot[id])        \n",
    "    except KeyError:\n",
    "#         print('has No '+id) # there are some ids in truth_id but not in quant_boot\n",
    "        pass\n",
    "    else:\n",
    "        use_id.append(id)"
   ]
  },
  {
   "cell_type": "markdown",
   "metadata": {},
   "source": [
    "## Get the distance between true_count and mean of bootstrapping"
   ]
  },
  {
   "cell_type": "markdown",
   "metadata": {},
   "source": [
    "### solve the distance of use_id"
   ]
  },
  {
   "cell_type": "code",
   "execution_count": 14,
   "metadata": {},
   "outputs": [],
   "source": [
    "df_poly_truth = df_poly_truth.set_index(['transcript_id'])"
   ]
  },
  {
   "cell_type": "code",
   "execution_count": 15,
   "metadata": {},
   "outputs": [],
   "source": [
    "# dist = []\n",
    "dist=[]\n",
    "for id in use_id:\n",
    "    mean = df_quant_boot_mean[id]\n",
    "    true_count = df_poly_truth.loc[id]\n",
    "    distance = true_count - mean\n",
    "    distance = float(distance)\n",
    "#     dist['id']=distance\n",
    "    dist.append(distance)"
   ]
  },
  {
   "cell_type": "code",
   "execution_count": 16,
   "metadata": {},
   "outputs": [
    {
     "data": {
      "text/plain": [
       "ENST00000608495       0.000000\n",
       "ENST00000382369      45.651584\n",
       "ENST00000360321      41.580917\n",
       "ENST00000400269      70.977499\n",
       "ENST00000382352    2035.750000\n",
       "ENST00000342665    1996.815000\n",
       "ENST00000609179     183.390000\n",
       "ENST00000217233     268.623238\n",
       "ENST00000449710     233.963500\n",
       "ENST00000422053     198.303262\n",
       "dtype: float64"
      ]
     },
     "execution_count": 16,
     "metadata": {},
     "output_type": "execute_result"
    }
   ],
   "source": [
    "df_quant_boot_mean[use_id].head(10)"
   ]
  },
  {
   "cell_type": "code",
   "execution_count": 17,
   "metadata": {},
   "outputs": [
    {
     "data": {
      "text/html": [
       "<div>\n",
       "<style>\n",
       "    .dataframe thead tr:only-child th {\n",
       "        text-align: right;\n",
       "    }\n",
       "\n",
       "    .dataframe thead th {\n",
       "        text-align: left;\n",
       "    }\n",
       "\n",
       "    .dataframe tbody tr th {\n",
       "        vertical-align: top;\n",
       "    }\n",
       "</style>\n",
       "<table border=\"1\" class=\"dataframe\">\n",
       "  <thead>\n",
       "    <tr style=\"text-align: right;\">\n",
       "      <th></th>\n",
       "      <th>count</th>\n",
       "    </tr>\n",
       "    <tr>\n",
       "      <th>transcript_id</th>\n",
       "      <th></th>\n",
       "    </tr>\n",
       "  </thead>\n",
       "  <tbody>\n",
       "    <tr>\n",
       "      <th>ENST00000608495</th>\n",
       "      <td>1</td>\n",
       "    </tr>\n",
       "    <tr>\n",
       "      <th>ENST00000382369</th>\n",
       "      <td>55</td>\n",
       "    </tr>\n",
       "    <tr>\n",
       "      <th>ENST00000360321</th>\n",
       "      <td>54</td>\n",
       "    </tr>\n",
       "    <tr>\n",
       "      <th>ENST00000400269</th>\n",
       "      <td>92</td>\n",
       "    </tr>\n",
       "    <tr>\n",
       "      <th>ENST00000382352</th>\n",
       "      <td>2653</td>\n",
       "    </tr>\n",
       "    <tr>\n",
       "      <th>ENST00000342665</th>\n",
       "      <td>2804</td>\n",
       "    </tr>\n",
       "    <tr>\n",
       "      <th>ENST00000609179</th>\n",
       "      <td>261</td>\n",
       "    </tr>\n",
       "    <tr>\n",
       "      <th>ENST00000217233</th>\n",
       "      <td>382</td>\n",
       "    </tr>\n",
       "    <tr>\n",
       "      <th>ENST00000449710</th>\n",
       "      <td>350</td>\n",
       "    </tr>\n",
       "    <tr>\n",
       "      <th>ENST00000422053</th>\n",
       "      <td>259</td>\n",
       "    </tr>\n",
       "  </tbody>\n",
       "</table>\n",
       "</div>"
      ],
      "text/plain": [
       "                 count\n",
       "transcript_id         \n",
       "ENST00000608495      1\n",
       "ENST00000382369     55\n",
       "ENST00000360321     54\n",
       "ENST00000400269     92\n",
       "ENST00000382352   2653\n",
       "ENST00000342665   2804\n",
       "ENST00000609179    261\n",
       "ENST00000217233    382\n",
       "ENST00000449710    350\n",
       "ENST00000422053    259"
      ]
     },
     "execution_count": 17,
     "metadata": {},
     "output_type": "execute_result"
    }
   ],
   "source": [
    "df_poly_truth.head(10)"
   ]
  },
  {
   "cell_type": "code",
   "execution_count": 151,
   "metadata": {},
   "outputs": [
    {
     "data": {
      "text/plain": [
       "[1.0,\n",
       " 9.348416156131513,\n",
       " 12.419082890042489,\n",
       " 21.022500953824533,\n",
       " 617.25,\n",
       " 807.185,\n",
       " 77.61000000000001,\n",
       " 113.37676185160501,\n",
       " 116.03649973953998,\n",
       " 60.696738408914996]"
      ]
     },
     "execution_count": 151,
     "metadata": {},
     "output_type": "execute_result"
    }
   ],
   "source": [
    "dist[0:10]"
   ]
  },
  {
   "cell_type": "markdown",
   "metadata": {},
   "source": [
    "### get the distance of  extended true_id"
   ]
  },
  {
   "cell_type": "code",
   "execution_count": 67,
   "metadata": {},
   "outputs": [],
   "source": [
    "# extend_id = list(set(id_in_quant_boot).difference(set(use_id)))\n",
    "# use_id.extend(extend_id)"
   ]
  },
  {
   "cell_type": "code",
   "execution_count": 68,
   "metadata": {},
   "outputs": [],
   "source": [
    "# for id in extend_id:\n",
    "#     mean = df_quant_boot_mean[id]\n",
    "#     true_count = 0\n",
    "#     distance = mean - true_count\n",
    "#     dist.append(distance)"
   ]
  },
  {
   "cell_type": "markdown",
   "metadata": {},
   "source": [
    "### add label for the list\n",
    "    set distance as label for every transcript_id\n",
    "    And them we will merge this labeled list with list of properties in order to get a list which include both properties and label of every transcript."
   ]
  },
  {
   "cell_type": "code",
   "execution_count": 18,
   "metadata": {},
   "outputs": [],
   "source": [
    "labeled_id = [use_id,dist]\n",
    "labeled = list(map(list,zip(*labeled_id)))"
   ]
  },
  {
   "cell_type": "code",
   "execution_count": 19,
   "metadata": {},
   "outputs": [
    {
     "data": {
      "text/plain": [
       "26889"
      ]
     },
     "execution_count": 19,
     "metadata": {},
     "output_type": "execute_result"
    }
   ],
   "source": [
    "len(use_id)"
   ]
  },
  {
   "cell_type": "code",
   "execution_count": 20,
   "metadata": {},
   "outputs": [],
   "source": [
    "df_labeled_id = pd.DataFrame.from_records(labeled, columns=['Name','label'])\n",
    "df_labeled_id.Name = df_labeled_id.Name.astype(str)"
   ]
  },
  {
   "cell_type": "code",
   "execution_count": 142,
   "metadata": {},
   "outputs": [
    {
     "data": {
      "text/html": [
       "<div>\n",
       "<style>\n",
       "    .dataframe thead tr:only-child th {\n",
       "        text-align: right;\n",
       "    }\n",
       "\n",
       "    .dataframe thead th {\n",
       "        text-align: left;\n",
       "    }\n",
       "\n",
       "    .dataframe tbody tr th {\n",
       "        vertical-align: top;\n",
       "    }\n",
       "</style>\n",
       "<table border=\"1\" class=\"dataframe\">\n",
       "  <thead>\n",
       "    <tr style=\"text-align: right;\">\n",
       "      <th></th>\n",
       "      <th>Name</th>\n",
       "      <th>label</th>\n",
       "    </tr>\n",
       "  </thead>\n",
       "  <tbody>\n",
       "    <tr>\n",
       "      <th>0</th>\n",
       "      <td>ENST00000608495</td>\n",
       "      <td>1.000000</td>\n",
       "    </tr>\n",
       "    <tr>\n",
       "      <th>1</th>\n",
       "      <td>ENST00000382369</td>\n",
       "      <td>9.348416</td>\n",
       "    </tr>\n",
       "    <tr>\n",
       "      <th>2</th>\n",
       "      <td>ENST00000360321</td>\n",
       "      <td>12.419083</td>\n",
       "    </tr>\n",
       "    <tr>\n",
       "      <th>3</th>\n",
       "      <td>ENST00000400269</td>\n",
       "      <td>21.022501</td>\n",
       "    </tr>\n",
       "    <tr>\n",
       "      <th>4</th>\n",
       "      <td>ENST00000382352</td>\n",
       "      <td>617.250000</td>\n",
       "    </tr>\n",
       "    <tr>\n",
       "      <th>5</th>\n",
       "      <td>ENST00000342665</td>\n",
       "      <td>807.185000</td>\n",
       "    </tr>\n",
       "    <tr>\n",
       "      <th>6</th>\n",
       "      <td>ENST00000609179</td>\n",
       "      <td>77.610000</td>\n",
       "    </tr>\n",
       "    <tr>\n",
       "      <th>7</th>\n",
       "      <td>ENST00000217233</td>\n",
       "      <td>113.376762</td>\n",
       "    </tr>\n",
       "    <tr>\n",
       "      <th>8</th>\n",
       "      <td>ENST00000449710</td>\n",
       "      <td>116.036500</td>\n",
       "    </tr>\n",
       "    <tr>\n",
       "      <th>9</th>\n",
       "      <td>ENST00000422053</td>\n",
       "      <td>60.696738</td>\n",
       "    </tr>\n",
       "  </tbody>\n",
       "</table>\n",
       "</div>"
      ],
      "text/plain": [
       "              Name       label\n",
       "0  ENST00000608495    1.000000\n",
       "1  ENST00000382369    9.348416\n",
       "2  ENST00000360321   12.419083\n",
       "3  ENST00000400269   21.022501\n",
       "4  ENST00000382352  617.250000\n",
       "5  ENST00000342665  807.185000\n",
       "6  ENST00000609179   77.610000\n",
       "7  ENST00000217233  113.376762\n",
       "8  ENST00000449710  116.036500\n",
       "9  ENST00000422053   60.696738"
      ]
     },
     "execution_count": 142,
     "metadata": {},
     "output_type": "execute_result"
    }
   ],
   "source": [
    "df_labeled_id.head(10)"
   ]
  },
  {
   "cell_type": "markdown",
   "metadata": {},
   "source": [
    "## Read Quant.sf\n",
    "    Read the quant.sf file.\n",
    "    Quant.sf :estimated quantifications for each transcript"
   ]
  },
  {
   "cell_type": "code",
   "execution_count": 21,
   "metadata": {},
   "outputs": [],
   "source": [
    "# Quant.sf :estimated quantifications for each transcript\n",
    "quant_file = open(root_path+\"quant.sf\")\n",
    "lines = quant_file.readlines()\n",
    "quant_file.close()\n",
    "count = 0\n",
    "quant = []\n",
    "for line in lines:\n",
    "    line = line[:-1]\n",
    "    l = line.split('\\t')\n",
    "    quant.append(l)"
   ]
  },
  {
   "cell_type": "code",
   "execution_count": 22,
   "metadata": {},
   "outputs": [],
   "source": [
    "df_quant = pd.DataFrame.from_records(quant[1:], columns=quant[0])"
   ]
  },
  {
   "cell_type": "code",
   "execution_count": 23,
   "metadata": {},
   "outputs": [],
   "source": [
    "df_quant.Name = df_quant.Name.astype(str)\n",
    "df_quant.Length = df_quant.Length.astype(int)\n",
    "df_quant.EffectiveLength = df_quant.EffectiveLength.astype(float)\n",
    "df_quant.TPM = df_quant.TPM.astype(float)\n",
    "df_quant.NumReads = df_quant.NumReads.astype(float)"
   ]
  },
  {
   "cell_type": "markdown",
   "metadata": {},
   "source": [
    "## Merge quant.sf and labeled_id to get the useful data for training\n",
    "    labeled_id is a list of transcript_id togather with label(success(true，set as 1) or fail(flase,set as 0))  \n",
    "    And we will add the label with the protery from quant.sf in order to analyze the properties of different label.\n",
    "    Then it will be easy for us to analyze the relation between properties and label and the difference between group of different label."
   ]
  },
  {
   "cell_type": "markdown",
   "metadata": {},
   "source": [
    "#### merge the data"
   ]
  },
  {
   "cell_type": "code",
   "execution_count": 42,
   "metadata": {},
   "outputs": [],
   "source": [
    "df_labeled = df_labeled_id.merge(df_quant, on='Name')"
   ]
  },
  {
   "cell_type": "code",
   "execution_count": 43,
   "metadata": {},
   "outputs": [],
   "source": [
    "label = df_labeled.pop('label')\n",
    "df_labeled.insert(5,'label',label)"
   ]
  },
  {
   "cell_type": "code",
   "execution_count": 44,
   "metadata": {},
   "outputs": [],
   "source": [
    "quant_boot_std = df_quant_boot_std[use_id].tolist()\n",
    "quant_boot_mean = df_quant_boot_mean[use_id].tolist()"
   ]
  },
  {
   "cell_type": "code",
   "execution_count": 45,
   "metadata": {},
   "outputs": [],
   "source": [
    "df_labeled.insert(5,'quant_boot_mean',quant_boot_mean)\n",
    "df_labeled.insert(6,'quant_boot_std',quant_boot_std)"
   ]
  },
  {
   "cell_type": "code",
   "execution_count": 46,
   "metadata": {},
   "outputs": [
    {
     "data": {
      "text/html": [
       "<div>\n",
       "<style>\n",
       "    .dataframe thead tr:only-child th {\n",
       "        text-align: right;\n",
       "    }\n",
       "\n",
       "    .dataframe thead th {\n",
       "        text-align: left;\n",
       "    }\n",
       "\n",
       "    .dataframe tbody tr th {\n",
       "        vertical-align: top;\n",
       "    }\n",
       "</style>\n",
       "<table border=\"1\" class=\"dataframe\">\n",
       "  <thead>\n",
       "    <tr style=\"text-align: right;\">\n",
       "      <th></th>\n",
       "      <th>Name</th>\n",
       "      <th>Length</th>\n",
       "      <th>EffectiveLength</th>\n",
       "      <th>TPM</th>\n",
       "      <th>NumReads</th>\n",
       "      <th>quant_boot_mean</th>\n",
       "      <th>quant_boot_std</th>\n",
       "      <th>label</th>\n",
       "    </tr>\n",
       "  </thead>\n",
       "  <tbody>\n",
       "    <tr>\n",
       "      <th>0</th>\n",
       "      <td>ENST00000608495</td>\n",
       "      <td>1672</td>\n",
       "      <td>1472.991</td>\n",
       "      <td>0.000000</td>\n",
       "      <td>0.000000</td>\n",
       "      <td>0.000000</td>\n",
       "      <td>0.000000</td>\n",
       "      <td>1.000000</td>\n",
       "    </tr>\n",
       "    <tr>\n",
       "      <th>1</th>\n",
       "      <td>ENST00000382369</td>\n",
       "      <td>1420</td>\n",
       "      <td>1220.991</td>\n",
       "      <td>1.180968</td>\n",
       "      <td>46.855146</td>\n",
       "      <td>45.651584</td>\n",
       "      <td>12.636180</td>\n",
       "      <td>9.348416</td>\n",
       "    </tr>\n",
       "    <tr>\n",
       "      <th>2</th>\n",
       "      <td>ENST00000360321</td>\n",
       "      <td>1575</td>\n",
       "      <td>1375.991</td>\n",
       "      <td>0.912080</td>\n",
       "      <td>40.780781</td>\n",
       "      <td>41.580917</td>\n",
       "      <td>11.378288</td>\n",
       "      <td>12.419083</td>\n",
       "    </tr>\n",
       "    <tr>\n",
       "      <th>3</th>\n",
       "      <td>ENST00000400269</td>\n",
       "      <td>1022</td>\n",
       "      <td>822.991</td>\n",
       "      <td>2.705958</td>\n",
       "      <td>72.364073</td>\n",
       "      <td>70.977499</td>\n",
       "      <td>10.912630</td>\n",
       "      <td>21.022501</td>\n",
       "    </tr>\n",
       "    <tr>\n",
       "      <th>4</th>\n",
       "      <td>ENST00000382352</td>\n",
       "      <td>3229</td>\n",
       "      <td>3029.991</td>\n",
       "      <td>20.638372</td>\n",
       "      <td>2032.000000</td>\n",
       "      <td>2035.750000</td>\n",
       "      <td>45.244811</td>\n",
       "      <td>617.250000</td>\n",
       "    </tr>\n",
       "    <tr>\n",
       "      <th>5</th>\n",
       "      <td>ENST00000342665</td>\n",
       "      <td>4627</td>\n",
       "      <td>4427.991</td>\n",
       "      <td>13.886148</td>\n",
       "      <td>1998.000000</td>\n",
       "      <td>1996.815000</td>\n",
       "      <td>43.162551</td>\n",
       "      <td>807.185000</td>\n",
       "    </tr>\n",
       "    <tr>\n",
       "      <th>6</th>\n",
       "      <td>ENST00000609179</td>\n",
       "      <td>578</td>\n",
       "      <td>379.005</td>\n",
       "      <td>14.940537</td>\n",
       "      <td>184.000000</td>\n",
       "      <td>183.390000</td>\n",
       "      <td>12.964889</td>\n",
       "      <td>77.610000</td>\n",
       "    </tr>\n",
       "    <tr>\n",
       "      <th>7</th>\n",
       "      <td>ENST00000217233</td>\n",
       "      <td>2499</td>\n",
       "      <td>2299.991</td>\n",
       "      <td>3.581666</td>\n",
       "      <td>267.681402</td>\n",
       "      <td>268.623238</td>\n",
       "      <td>20.353776</td>\n",
       "      <td>113.376762</td>\n",
       "    </tr>\n",
       "    <tr>\n",
       "      <th>8</th>\n",
       "      <td>ENST00000449710</td>\n",
       "      <td>1070</td>\n",
       "      <td>870.991</td>\n",
       "      <td>8.234501</td>\n",
       "      <td>233.054648</td>\n",
       "      <td>233.963500</td>\n",
       "      <td>20.184732</td>\n",
       "      <td>116.036500</td>\n",
       "    </tr>\n",
       "    <tr>\n",
       "      <th>9</th>\n",
       "      <td>ENST00000422053</td>\n",
       "      <td>1533</td>\n",
       "      <td>1333.991</td>\n",
       "      <td>4.643081</td>\n",
       "      <td>201.263950</td>\n",
       "      <td>198.303262</td>\n",
       "      <td>20.086799</td>\n",
       "      <td>60.696738</td>\n",
       "    </tr>\n",
       "  </tbody>\n",
       "</table>\n",
       "</div>"
      ],
      "text/plain": [
       "              Name  Length  EffectiveLength        TPM     NumReads  \\\n",
       "0  ENST00000608495    1672         1472.991   0.000000     0.000000   \n",
       "1  ENST00000382369    1420         1220.991   1.180968    46.855146   \n",
       "2  ENST00000360321    1575         1375.991   0.912080    40.780781   \n",
       "3  ENST00000400269    1022          822.991   2.705958    72.364073   \n",
       "4  ENST00000382352    3229         3029.991  20.638372  2032.000000   \n",
       "5  ENST00000342665    4627         4427.991  13.886148  1998.000000   \n",
       "6  ENST00000609179     578          379.005  14.940537   184.000000   \n",
       "7  ENST00000217233    2499         2299.991   3.581666   267.681402   \n",
       "8  ENST00000449710    1070          870.991   8.234501   233.054648   \n",
       "9  ENST00000422053    1533         1333.991   4.643081   201.263950   \n",
       "\n",
       "   quant_boot_mean  quant_boot_std       label  \n",
       "0         0.000000        0.000000    1.000000  \n",
       "1        45.651584       12.636180    9.348416  \n",
       "2        41.580917       11.378288   12.419083  \n",
       "3        70.977499       10.912630   21.022501  \n",
       "4      2035.750000       45.244811  617.250000  \n",
       "5      1996.815000       43.162551  807.185000  \n",
       "6       183.390000       12.964889   77.610000  \n",
       "7       268.623238       20.353776  113.376762  \n",
       "8       233.963500       20.184732  116.036500  \n",
       "9       198.303262       20.086799   60.696738  "
      ]
     },
     "execution_count": 46,
     "metadata": {},
     "output_type": "execute_result"
    }
   ],
   "source": [
    "df_labeled.head(10)"
   ]
  },
  {
   "cell_type": "code",
   "execution_count": 47,
   "metadata": {},
   "outputs": [
    {
     "data": {
      "text/html": [
       "<div>\n",
       "<style>\n",
       "    .dataframe thead tr:only-child th {\n",
       "        text-align: right;\n",
       "    }\n",
       "\n",
       "    .dataframe thead th {\n",
       "        text-align: left;\n",
       "    }\n",
       "\n",
       "    .dataframe tbody tr th {\n",
       "        vertical-align: top;\n",
       "    }\n",
       "</style>\n",
       "<table border=\"1\" class=\"dataframe\">\n",
       "  <thead>\n",
       "    <tr style=\"text-align: right;\">\n",
       "      <th></th>\n",
       "      <th>Length</th>\n",
       "      <th>EffectiveLength</th>\n",
       "      <th>TPM</th>\n",
       "      <th>NumReads</th>\n",
       "      <th>quant_boot_mean</th>\n",
       "      <th>quant_boot_std</th>\n",
       "      <th>label</th>\n",
       "    </tr>\n",
       "  </thead>\n",
       "  <tbody>\n",
       "    <tr>\n",
       "      <th>count</th>\n",
       "      <td>26889.000000</td>\n",
       "      <td>26889.000000</td>\n",
       "      <td>26889.000000</td>\n",
       "      <td>2.688900e+04</td>\n",
       "      <td>2.688900e+04</td>\n",
       "      <td>26889.000000</td>\n",
       "      <td>26889.000000</td>\n",
       "    </tr>\n",
       "    <tr>\n",
       "      <th>mean</th>\n",
       "      <td>2301.266912</td>\n",
       "      <td>2102.188625</td>\n",
       "      <td>37.086764</td>\n",
       "      <td>1.234117e+03</td>\n",
       "      <td>1.233602e+03</td>\n",
       "      <td>26.170774</td>\n",
       "      <td>249.739497</td>\n",
       "    </tr>\n",
       "    <tr>\n",
       "      <th>std</th>\n",
       "      <td>2268.852362</td>\n",
       "      <td>2268.766111</td>\n",
       "      <td>373.615192</td>\n",
       "      <td>1.284316e+04</td>\n",
       "      <td>1.284316e+04</td>\n",
       "      <td>42.920401</td>\n",
       "      <td>2376.111199</td>\n",
       "    </tr>\n",
       "    <tr>\n",
       "      <th>min</th>\n",
       "      <td>82.000000</td>\n",
       "      <td>9.804000</td>\n",
       "      <td>0.000000</td>\n",
       "      <td>0.000000e+00</td>\n",
       "      <td>0.000000e+00</td>\n",
       "      <td>0.000000</td>\n",
       "      <td>-57221.321454</td>\n",
       "    </tr>\n",
       "    <tr>\n",
       "      <th>25%</th>\n",
       "      <td>777.000000</td>\n",
       "      <td>577.998000</td>\n",
       "      <td>0.359912</td>\n",
       "      <td>1.304699e+01</td>\n",
       "      <td>1.307099e+01</td>\n",
       "      <td>4.543271</td>\n",
       "      <td>2.015000</td>\n",
       "    </tr>\n",
       "    <tr>\n",
       "      <th>50%</th>\n",
       "      <td>1681.000000</td>\n",
       "      <td>1481.991000</td>\n",
       "      <td>2.837799</td>\n",
       "      <td>1.174560e+02</td>\n",
       "      <td>1.167637e+02</td>\n",
       "      <td>14.520683</td>\n",
       "      <td>21.276394</td>\n",
       "    </tr>\n",
       "    <tr>\n",
       "      <th>75%</th>\n",
       "      <td>3016.000000</td>\n",
       "      <td>2816.991000</td>\n",
       "      <td>12.063695</td>\n",
       "      <td>5.993793e+02</td>\n",
       "      <td>5.996118e+02</td>\n",
       "      <td>32.746312</td>\n",
       "      <td>122.289517</td>\n",
       "    </tr>\n",
       "    <tr>\n",
       "      <th>max</th>\n",
       "      <td>101518.000000</td>\n",
       "      <td>101318.991000</td>\n",
       "      <td>23356.420222</td>\n",
       "      <td>1.109005e+06</td>\n",
       "      <td>1.109140e+06</td>\n",
       "      <td>1112.644975</td>\n",
       "      <td>207755.507950</td>\n",
       "    </tr>\n",
       "  </tbody>\n",
       "</table>\n",
       "</div>"
      ],
      "text/plain": [
       "              Length  EffectiveLength           TPM      NumReads  \\\n",
       "count   26889.000000     26889.000000  26889.000000  2.688900e+04   \n",
       "mean     2301.266912      2102.188625     37.086764  1.234117e+03   \n",
       "std      2268.852362      2268.766111    373.615192  1.284316e+04   \n",
       "min        82.000000         9.804000      0.000000  0.000000e+00   \n",
       "25%       777.000000       577.998000      0.359912  1.304699e+01   \n",
       "50%      1681.000000      1481.991000      2.837799  1.174560e+02   \n",
       "75%      3016.000000      2816.991000     12.063695  5.993793e+02   \n",
       "max    101518.000000    101318.991000  23356.420222  1.109005e+06   \n",
       "\n",
       "       quant_boot_mean  quant_boot_std          label  \n",
       "count     2.688900e+04    26889.000000   26889.000000  \n",
       "mean      1.233602e+03       26.170774     249.739497  \n",
       "std       1.284316e+04       42.920401    2376.111199  \n",
       "min       0.000000e+00        0.000000  -57221.321454  \n",
       "25%       1.307099e+01        4.543271       2.015000  \n",
       "50%       1.167637e+02       14.520683      21.276394  \n",
       "75%       5.996118e+02       32.746312     122.289517  \n",
       "max       1.109140e+06     1112.644975  207755.507950  "
      ]
     },
     "execution_count": 47,
     "metadata": {},
     "output_type": "execute_result"
    }
   ],
   "source": [
    "df_labeled.describe()"
   ]
  },
  {
   "cell_type": "code",
   "execution_count": 49,
   "metadata": {},
   "outputs": [],
   "source": [
    "data = df_labeled"
   ]
  },
  {
   "cell_type": "code",
   "execution_count": 54,
   "metadata": {},
   "outputs": [],
   "source": [
    "label_list = list(data['label'])"
   ]
  },
  {
   "cell_type": "code",
   "execution_count": 56,
   "metadata": {},
   "outputs": [],
   "source": [
    "sort_label_list = label_list.sort()"
   ]
  },
  {
   "cell_type": "code",
   "execution_count": 59,
   "metadata": {},
   "outputs": [],
   "source": [
    "length = len(label_list)"
   ]
  },
  {
   "cell_type": "code",
   "execution_count": 64,
   "metadata": {},
   "outputs": [],
   "source": [
    "low = int(0.025*length)\n",
    "high =int(0.975*length)\n",
    "low_bound = label_list[low]\n",
    "high_bound = label_list[high]"
   ]
  },
  {
   "cell_type": "code",
   "execution_count": 50,
   "metadata": {},
   "outputs": [],
   "source": [
    "mean = data['label'].mean()\n",
    "std = data['label'].std()\n",
    "low_bound = mean - std \n",
    "high_bound = mean + std"
   ]
  },
  {
   "cell_type": "code",
   "execution_count": 70,
   "metadata": {},
   "outputs": [],
   "source": [
    "low_bound = -100\n",
    "high_bound = 500\n",
    "crop_data = data[(data.label>low_bound)&(data.label<high_bound)]"
   ]
  },
  {
   "cell_type": "code",
   "execution_count": 71,
   "metadata": {},
   "outputs": [
    {
     "data": {
      "text/html": [
       "<div>\n",
       "<style>\n",
       "    .dataframe thead tr:only-child th {\n",
       "        text-align: right;\n",
       "    }\n",
       "\n",
       "    .dataframe thead th {\n",
       "        text-align: left;\n",
       "    }\n",
       "\n",
       "    .dataframe tbody tr th {\n",
       "        vertical-align: top;\n",
       "    }\n",
       "</style>\n",
       "<table border=\"1\" class=\"dataframe\">\n",
       "  <thead>\n",
       "    <tr style=\"text-align: right;\">\n",
       "      <th></th>\n",
       "      <th>Length</th>\n",
       "      <th>EffectiveLength</th>\n",
       "      <th>TPM</th>\n",
       "      <th>NumReads</th>\n",
       "      <th>quant_boot_mean</th>\n",
       "      <th>quant_boot_std</th>\n",
       "      <th>label</th>\n",
       "    </tr>\n",
       "  </thead>\n",
       "  <tbody>\n",
       "    <tr>\n",
       "      <th>count</th>\n",
       "      <td>24631.000000</td>\n",
       "      <td>24631.000000</td>\n",
       "      <td>24631.000000</td>\n",
       "      <td>24631.000000</td>\n",
       "      <td>24631.000000</td>\n",
       "      <td>24631.000000</td>\n",
       "      <td>24631.000000</td>\n",
       "    </tr>\n",
       "    <tr>\n",
       "      <th>mean</th>\n",
       "      <td>2251.108197</td>\n",
       "      <td>2052.032306</td>\n",
       "      <td>9.683958</td>\n",
       "      <td>348.495534</td>\n",
       "      <td>348.037761</td>\n",
       "      <td>18.925097</td>\n",
       "      <td>64.397585</td>\n",
       "    </tr>\n",
       "    <tr>\n",
       "      <th>std</th>\n",
       "      <td>2246.821306</td>\n",
       "      <td>2246.728358</td>\n",
       "      <td>79.770093</td>\n",
       "      <td>669.663690</td>\n",
       "      <td>669.439998</td>\n",
       "      <td>21.993565</td>\n",
       "      <td>103.873879</td>\n",
       "    </tr>\n",
       "    <tr>\n",
       "      <th>min</th>\n",
       "      <td>82.000000</td>\n",
       "      <td>9.804000</td>\n",
       "      <td>0.000000</td>\n",
       "      <td>0.000000</td>\n",
       "      <td>0.000000</td>\n",
       "      <td>0.000000</td>\n",
       "      <td>-99.054861</td>\n",
       "    </tr>\n",
       "    <tr>\n",
       "      <th>25%</th>\n",
       "      <td>757.000000</td>\n",
       "      <td>556.999000</td>\n",
       "      <td>0.284548</td>\n",
       "      <td>10.044040</td>\n",
       "      <td>10.085709</td>\n",
       "      <td>4.005781</td>\n",
       "      <td>1.712263</td>\n",
       "    </tr>\n",
       "    <tr>\n",
       "      <th>50%</th>\n",
       "      <td>1631.000000</td>\n",
       "      <td>1431.991000</td>\n",
       "      <td>2.177555</td>\n",
       "      <td>85.912751</td>\n",
       "      <td>85.505460</td>\n",
       "      <td>12.423413</td>\n",
       "      <td>16.000000</td>\n",
       "    </tr>\n",
       "    <tr>\n",
       "      <th>75%</th>\n",
       "      <td>2959.000000</td>\n",
       "      <td>2759.991000</td>\n",
       "      <td>8.506954</td>\n",
       "      <td>404.194722</td>\n",
       "      <td>402.335475</td>\n",
       "      <td>26.865520</td>\n",
       "      <td>80.615438</td>\n",
       "    </tr>\n",
       "    <tr>\n",
       "      <th>max</th>\n",
       "      <td>101518.000000</td>\n",
       "      <td>101318.991000</td>\n",
       "      <td>10710.459004</td>\n",
       "      <td>27781.336697</td>\n",
       "      <td>27796.986222</td>\n",
       "      <td>362.489285</td>\n",
       "      <td>499.915000</td>\n",
       "    </tr>\n",
       "  </tbody>\n",
       "</table>\n",
       "</div>"
      ],
      "text/plain": [
       "              Length  EffectiveLength           TPM      NumReads  \\\n",
       "count   24631.000000     24631.000000  24631.000000  24631.000000   \n",
       "mean     2251.108197      2052.032306      9.683958    348.495534   \n",
       "std      2246.821306      2246.728358     79.770093    669.663690   \n",
       "min        82.000000         9.804000      0.000000      0.000000   \n",
       "25%       757.000000       556.999000      0.284548     10.044040   \n",
       "50%      1631.000000      1431.991000      2.177555     85.912751   \n",
       "75%      2959.000000      2759.991000      8.506954    404.194722   \n",
       "max    101518.000000    101318.991000  10710.459004  27781.336697   \n",
       "\n",
       "       quant_boot_mean  quant_boot_std         label  \n",
       "count     24631.000000    24631.000000  24631.000000  \n",
       "mean        348.037761       18.925097     64.397585  \n",
       "std         669.439998       21.993565    103.873879  \n",
       "min           0.000000        0.000000    -99.054861  \n",
       "25%          10.085709        4.005781      1.712263  \n",
       "50%          85.505460       12.423413     16.000000  \n",
       "75%         402.335475       26.865520     80.615438  \n",
       "max       27796.986222      362.489285    499.915000  "
      ]
     },
     "execution_count": 71,
     "metadata": {},
     "output_type": "execute_result"
    }
   ],
   "source": [
    "crop_data.describe()"
   ]
  },
  {
   "cell_type": "code",
   "execution_count": 72,
   "metadata": {},
   "outputs": [],
   "source": [
    "data = crop_data"
   ]
  },
  {
   "cell_type": "markdown",
   "metadata": {},
   "source": [
    "# Training"
   ]
  },
  {
   "cell_type": "markdown",
   "metadata": {},
   "source": [
    "## Prepare the Training data"
   ]
  },
  {
   "cell_type": "code",
   "execution_count": 73,
   "metadata": {},
   "outputs": [],
   "source": [
    "import sklearn\n",
    "from sklearn.utils import shuffle  "
   ]
  },
  {
   "cell_type": "markdown",
   "metadata": {},
   "source": [
    "## Shuffle the data"
   ]
  },
  {
   "cell_type": "code",
   "execution_count": 77,
   "metadata": {},
   "outputs": [],
   "source": [
    "sfdata = shuffle(data) # make the data random\n",
    "input_data = sfdata[['Length','EffectiveLength','TPM','NumReads','quant_boot_mean','quant_boot_std']]\n",
    "# input_data = sfdata[['Length','EffectiveLength','quant_boot_mean','quant_boot_std']]\n",
    "# input_data = sfdata[['Length','EffectiveLength','TPM','NumReads']]\n",
    "input_label = sfdata['label']"
   ]
  },
  {
   "cell_type": "code",
   "execution_count": 78,
   "metadata": {},
   "outputs": [
    {
     "data": {
      "text/html": [
       "<div>\n",
       "<style>\n",
       "    .dataframe thead tr:only-child th {\n",
       "        text-align: right;\n",
       "    }\n",
       "\n",
       "    .dataframe thead th {\n",
       "        text-align: left;\n",
       "    }\n",
       "\n",
       "    .dataframe tbody tr th {\n",
       "        vertical-align: top;\n",
       "    }\n",
       "</style>\n",
       "<table border=\"1\" class=\"dataframe\">\n",
       "  <thead>\n",
       "    <tr style=\"text-align: right;\">\n",
       "      <th></th>\n",
       "      <th>Length</th>\n",
       "      <th>EffectiveLength</th>\n",
       "      <th>TPM</th>\n",
       "      <th>NumReads</th>\n",
       "      <th>quant_boot_mean</th>\n",
       "      <th>quant_boot_std</th>\n",
       "      <th>label</th>\n",
       "    </tr>\n",
       "  </thead>\n",
       "  <tbody>\n",
       "    <tr>\n",
       "      <th>count</th>\n",
       "      <td>24631.000000</td>\n",
       "      <td>24631.000000</td>\n",
       "      <td>24631.000000</td>\n",
       "      <td>24631.000000</td>\n",
       "      <td>24631.000000</td>\n",
       "      <td>24631.000000</td>\n",
       "      <td>24631.000000</td>\n",
       "    </tr>\n",
       "    <tr>\n",
       "      <th>mean</th>\n",
       "      <td>2251.108197</td>\n",
       "      <td>2052.032306</td>\n",
       "      <td>9.683958</td>\n",
       "      <td>348.495534</td>\n",
       "      <td>348.037761</td>\n",
       "      <td>18.925097</td>\n",
       "      <td>64.397585</td>\n",
       "    </tr>\n",
       "    <tr>\n",
       "      <th>std</th>\n",
       "      <td>2246.821306</td>\n",
       "      <td>2246.728358</td>\n",
       "      <td>79.770093</td>\n",
       "      <td>669.663690</td>\n",
       "      <td>669.439998</td>\n",
       "      <td>21.993565</td>\n",
       "      <td>103.873879</td>\n",
       "    </tr>\n",
       "    <tr>\n",
       "      <th>min</th>\n",
       "      <td>82.000000</td>\n",
       "      <td>9.804000</td>\n",
       "      <td>0.000000</td>\n",
       "      <td>0.000000</td>\n",
       "      <td>0.000000</td>\n",
       "      <td>0.000000</td>\n",
       "      <td>-99.054861</td>\n",
       "    </tr>\n",
       "    <tr>\n",
       "      <th>25%</th>\n",
       "      <td>757.000000</td>\n",
       "      <td>556.999000</td>\n",
       "      <td>0.284548</td>\n",
       "      <td>10.044040</td>\n",
       "      <td>10.085709</td>\n",
       "      <td>4.005781</td>\n",
       "      <td>1.712263</td>\n",
       "    </tr>\n",
       "    <tr>\n",
       "      <th>50%</th>\n",
       "      <td>1631.000000</td>\n",
       "      <td>1431.991000</td>\n",
       "      <td>2.177555</td>\n",
       "      <td>85.912751</td>\n",
       "      <td>85.505460</td>\n",
       "      <td>12.423413</td>\n",
       "      <td>16.000000</td>\n",
       "    </tr>\n",
       "    <tr>\n",
       "      <th>75%</th>\n",
       "      <td>2959.000000</td>\n",
       "      <td>2759.991000</td>\n",
       "      <td>8.506954</td>\n",
       "      <td>404.194722</td>\n",
       "      <td>402.335475</td>\n",
       "      <td>26.865520</td>\n",
       "      <td>80.615438</td>\n",
       "    </tr>\n",
       "    <tr>\n",
       "      <th>max</th>\n",
       "      <td>101518.000000</td>\n",
       "      <td>101318.991000</td>\n",
       "      <td>10710.459004</td>\n",
       "      <td>27781.336697</td>\n",
       "      <td>27796.986222</td>\n",
       "      <td>362.489285</td>\n",
       "      <td>499.915000</td>\n",
       "    </tr>\n",
       "  </tbody>\n",
       "</table>\n",
       "</div>"
      ],
      "text/plain": [
       "              Length  EffectiveLength           TPM      NumReads  \\\n",
       "count   24631.000000     24631.000000  24631.000000  24631.000000   \n",
       "mean     2251.108197      2052.032306      9.683958    348.495534   \n",
       "std      2246.821306      2246.728358     79.770093    669.663690   \n",
       "min        82.000000         9.804000      0.000000      0.000000   \n",
       "25%       757.000000       556.999000      0.284548     10.044040   \n",
       "50%      1631.000000      1431.991000      2.177555     85.912751   \n",
       "75%      2959.000000      2759.991000      8.506954    404.194722   \n",
       "max    101518.000000    101318.991000  10710.459004  27781.336697   \n",
       "\n",
       "       quant_boot_mean  quant_boot_std         label  \n",
       "count     24631.000000    24631.000000  24631.000000  \n",
       "mean        348.037761       18.925097     64.397585  \n",
       "std         669.439998       21.993565    103.873879  \n",
       "min           0.000000        0.000000    -99.054861  \n",
       "25%          10.085709        4.005781      1.712263  \n",
       "50%          85.505460       12.423413     16.000000  \n",
       "75%         402.335475       26.865520     80.615438  \n",
       "max       27796.986222      362.489285    499.915000  "
      ]
     },
     "execution_count": 78,
     "metadata": {},
     "output_type": "execute_result"
    }
   ],
   "source": [
    "sfdata.describe()"
   ]
  },
  {
   "cell_type": "code",
   "execution_count": 79,
   "metadata": {},
   "outputs": [],
   "source": [
    "from sklearn import preprocessing"
   ]
  },
  {
   "cell_type": "code",
   "execution_count": 80,
   "metadata": {},
   "outputs": [],
   "source": [
    "max_abs_scaler = preprocessing.MaxAbsScaler()\n",
    "input_data = max_abs_scaler.fit_transform(input_data)"
   ]
  },
  {
   "cell_type": "code",
   "execution_count": 81,
   "metadata": {},
   "outputs": [],
   "source": [
    "train = int(len(input_data)*9/10)\n",
    "test = train+1\n",
    "train_data = input_data[0:train]\n",
    "train_label = input_label[0:train]\n",
    "test_data = input_data[test:]\n",
    "test_label = input_label[test:]"
   ]
  },
  {
   "cell_type": "code",
   "execution_count": 82,
   "metadata": {},
   "outputs": [],
   "source": [
    "# train_data = train_data.as_matrix()\n",
    "train_label = train_label.as_matrix()\n",
    "# test_data = test_data.as_matrix()\n",
    "test_label = test_label.as_matrix()"
   ]
  },
  {
   "cell_type": "code",
   "execution_count": 172,
   "metadata": {},
   "outputs": [
    {
     "data": {
      "text/plain": [
       "array([  1.43202107e+03,   3.00000000e-02,   1.00000000e+00,\n",
       "        -1.15000000e-01,   5.47762579e+01])"
      ]
     },
     "execution_count": 172,
     "metadata": {},
     "output_type": "execute_result"
    }
   ],
   "source": [
    "train_label[0:5]"
   ]
  },
  {
   "cell_type": "code",
   "execution_count": null,
   "metadata": {},
   "outputs": [],
   "source": [
    "# trian_data = np.reshape(train_data,(83798,6,1))"
   ]
  },
  {
   "cell_type": "markdown",
   "metadata": {},
   "source": [
    "## Some models"
   ]
  },
  {
   "cell_type": "code",
   "execution_count": 83,
   "metadata": {},
   "outputs": [],
   "source": [
    "def cal_mse(regr,test_label):\n",
    "    error = (regr-test_label)\n",
    "#     error = error.tolist()\n",
    "#     error_sq = error.apply(square)\n",
    "    error_sq = error**2\n",
    "    mse = error_sq.sum()/len(error)\n",
    "    return mse"
   ]
  },
  {
   "cell_type": "markdown",
   "metadata": {},
   "source": [
    "## Linear Regression"
   ]
  },
  {
   "cell_type": "code",
   "execution_count": 84,
   "metadata": {},
   "outputs": [],
   "source": [
    "from sklearn.linear_model import LinearRegression"
   ]
  },
  {
   "cell_type": "code",
   "execution_count": 85,
   "metadata": {},
   "outputs": [],
   "source": [
    "lr = LinearRegression(fit_intercept=True, normalize=False, copy_X=True, n_jobs=1)"
   ]
  },
  {
   "cell_type": "code",
   "execution_count": 86,
   "metadata": {},
   "outputs": [
    {
     "data": {
      "text/plain": [
       "LinearRegression(copy_X=True, fit_intercept=True, n_jobs=1, normalize=False)"
      ]
     },
     "execution_count": 86,
     "metadata": {},
     "output_type": "execute_result"
    }
   ],
   "source": [
    "lr.fit(train_data,train_label)"
   ]
  },
  {
   "cell_type": "code",
   "execution_count": 87,
   "metadata": {},
   "outputs": [],
   "source": [
    "pred = lr.predict(test_data)"
   ]
  },
  {
   "cell_type": "code",
   "execution_count": 95,
   "metadata": {},
   "outputs": [],
   "source": [
    "lr_mse = cal_mse(pred,test_label)"
   ]
  },
  {
   "cell_type": "code",
   "execution_count": 98,
   "metadata": {},
   "outputs": [
    {
     "name": "stdout",
     "output_type": "stream",
     "text": [
      "pred: [ 110.78834046   14.50810812  200.85525836   26.62972823  114.38648667\n",
      "   15.75666115   20.80373501   31.64827039  132.03518145   12.32168747]\n",
      "test_label: [  1.83275000e+02   1.05000000e-01   4.60120000e+02   1.59423661e+01\n",
      "   2.81069181e+01   4.94984167e+00   1.06086644e+01   2.75871509e+01\n",
      "   2.46143896e+01   2.00000000e+00]\n"
     ]
    }
   ],
   "source": [
    "print('pred:',pred[0:10])\n",
    "print('test_label:',test_label[0:10])"
   ]
  },
  {
   "cell_type": "code",
   "execution_count": 99,
   "metadata": {},
   "outputs": [],
   "source": [
    "norm_mse = lr_mse/pow(input_label.mean(),2)"
   ]
  },
  {
   "cell_type": "code",
   "execution_count": 100,
   "metadata": {},
   "outputs": [
    {
     "data": {
      "text/plain": [
       "1.1061969643956902"
      ]
     },
     "execution_count": 100,
     "metadata": {},
     "output_type": "execute_result"
    }
   ],
   "source": [
    "norm_mse"
   ]
  },
  {
   "cell_type": "markdown",
   "metadata": {},
   "source": [
    "## SVR"
   ]
  },
  {
   "cell_type": "code",
   "execution_count": 278,
   "metadata": {},
   "outputs": [],
   "source": [
    "from sklearn.svm import SVR"
   ]
  },
  {
   "cell_type": "code",
   "execution_count": 368,
   "metadata": {},
   "outputs": [
    {
     "data": {
      "text/plain": [
       "SVR(C=1.0, cache_size=200, coef0=0.0, degree=3, epsilon=0.5, gamma='auto',\n",
       "  kernel='rbf', max_iter=-1, shrinking=True, tol=0.001, verbose=False)"
      ]
     },
     "execution_count": 368,
     "metadata": {},
     "output_type": "execute_result"
    }
   ],
   "source": [
    "clf = SVR(C=1.0, epsilon=0.5,degree=3)\n",
    "clf.fit(train_data,train_label)"
   ]
  },
  {
   "cell_type": "code",
   "execution_count": 369,
   "metadata": {},
   "outputs": [],
   "source": [
    "pred_train = clf.predict(train_data)"
   ]
  },
  {
   "cell_type": "code",
   "execution_count": 370,
   "metadata": {},
   "outputs": [],
   "source": [
    "svr_mse = cal_mse(pred_train,train_label)"
   ]
  },
  {
   "cell_type": "code",
   "execution_count": 373,
   "metadata": {},
   "outputs": [
    {
     "data": {
      "text/plain": [
       "10878.022664512362"
      ]
     },
     "execution_count": 373,
     "metadata": {},
     "output_type": "execute_result"
    }
   ],
   "source": [
    "svr_mse"
   ]
  },
  {
   "cell_type": "code",
   "execution_count": 366,
   "metadata": {},
   "outputs": [
    {
     "data": {
      "text/plain": [
       "array([  8.41611125,  46.05230152,  16.08158446,   8.93416685,\n",
       "        33.02035712,  14.66668966,  23.12158206,  60.24259061,\n",
       "        17.21779589,   8.09718471])"
      ]
     },
     "execution_count": 366,
     "metadata": {},
     "output_type": "execute_result"
    }
   ],
   "source": [
    "pred_train[0:10]"
   ]
  },
  {
   "cell_type": "code",
   "execution_count": 367,
   "metadata": {},
   "outputs": [
    {
     "data": {
      "text/plain": [
       "array([   0.99996856,   50.22144742,    5.04292022,    1.015     ,\n",
       "        191.755     ,   40.75      ,   84.11433976,  350.40357262,\n",
       "         39.11198729,    6.        ])"
      ]
     },
     "execution_count": 367,
     "metadata": {},
     "output_type": "execute_result"
    }
   ],
   "source": [
    "train_label[0:10]"
   ]
  },
  {
   "cell_type": "code",
   "execution_count": 284,
   "metadata": {},
   "outputs": [],
   "source": [
    "svr_regr = clf.predict(test_data)"
   ]
  },
  {
   "cell_type": "code",
   "execution_count": 285,
   "metadata": {},
   "outputs": [
    {
     "data": {
      "text/plain": [
       "array([ 41.48914957,  16.9931786 ,  34.24751473,  18.57205314,\n",
       "        30.88205969,  29.08357429,  29.18115248,  16.24141727,\n",
       "        22.4924437 ,  18.68651326])"
      ]
     },
     "execution_count": 285,
     "metadata": {},
     "output_type": "execute_result"
    }
   ],
   "source": [
    "svr_regr[0:10]"
   ]
  },
  {
   "cell_type": "code",
   "execution_count": 286,
   "metadata": {},
   "outputs": [
    {
     "data": {
      "text/plain": [
       "array([ 1235.42086428,   248.99801456,   336.25653561,     7.97612105,\n",
       "         187.90236347,   412.0132387 ,   425.98      ,     2.        ,\n",
       "         203.76843327,     2.60989124])"
      ]
     },
     "execution_count": 286,
     "metadata": {},
     "output_type": "execute_result"
    }
   ],
   "source": [
    "test_label[0:10]"
   ]
  },
  {
   "cell_type": "code",
   "execution_count": 287,
   "metadata": {},
   "outputs": [],
   "source": [
    "svr_mse = cal_mse(svr_regr,test_label)"
   ]
  },
  {
   "cell_type": "code",
   "execution_count": 288,
   "metadata": {},
   "outputs": [
    {
     "data": {
      "text/plain": [
       "99151.508697944606"
      ]
     },
     "execution_count": 288,
     "metadata": {},
     "output_type": "execute_result"
    }
   ],
   "source": [
    "svr_mse"
   ]
  },
  {
   "cell_type": "code",
   "execution_count": null,
   "metadata": {},
   "outputs": [],
   "source": []
  },
  {
   "cell_type": "code",
   "execution_count": 374,
   "metadata": {},
   "outputs": [],
   "source": [
    "norm_mse = svr_mse/pow(input_label.mean(),2)"
   ]
  },
  {
   "cell_type": "code",
   "execution_count": 375,
   "metadata": {},
   "outputs": [
    {
     "data": {
      "text/plain": [
       "2.6230755716383691"
      ]
     },
     "execution_count": 375,
     "metadata": {},
     "output_type": "execute_result"
    }
   ],
   "source": [
    "norm_mse"
   ]
  },
  {
   "cell_type": "markdown",
   "metadata": {},
   "source": [
    "## PCA"
   ]
  },
  {
   "cell_type": "code",
   "execution_count": 376,
   "metadata": {},
   "outputs": [],
   "source": [
    "from sklearn.decomposition import PCA"
   ]
  },
  {
   "cell_type": "code",
   "execution_count": 377,
   "metadata": {},
   "outputs": [],
   "source": [
    "pca = PCA(n_components=2, svd_solver='full')"
   ]
  },
  {
   "cell_type": "code",
   "execution_count": 378,
   "metadata": {},
   "outputs": [
    {
     "data": {
      "text/plain": [
       "PCA(copy=True, iterated_power='auto', n_components=2, random_state=None,\n",
       "  svd_solver='full', tol=0.0, whiten=False)"
      ]
     },
     "execution_count": 378,
     "metadata": {},
     "output_type": "execute_result"
    }
   ],
   "source": [
    "pca.fit(input_data)"
   ]
  },
  {
   "cell_type": "code",
   "execution_count": 379,
   "metadata": {},
   "outputs": [
    {
     "name": "stdout",
     "output_type": "stream",
     "text": [
      "[ 0.73766522  0.15603747]\n",
      "[ 10.33539709   4.75348326]\n"
     ]
    }
   ],
   "source": [
    "print(pca.explained_variance_ratio_) \n",
    "print(pca.singular_values_)  "
   ]
  },
  {
   "cell_type": "code",
   "execution_count": 380,
   "metadata": {},
   "outputs": [],
   "source": [
    "input_pca = pca.fit_transform(input_data)"
   ]
  },
  {
   "cell_type": "code",
   "execution_count": 381,
   "metadata": {},
   "outputs": [
    {
     "data": {
      "text/plain": [
       "array([[-0.05585031, -0.0028284 ],\n",
       "       [ 0.11209986, -0.00848253],\n",
       "       [-0.02199241, -0.00924771],\n",
       "       [-0.0540954 , -0.02182653],\n",
       "       [ 0.0496896 , -0.0083233 ],\n",
       "       [-0.02870935, -0.01913153],\n",
       "       [ 0.00769532, -0.02500819],\n",
       "       [ 0.16710427, -0.03144193],\n",
       "       [-0.01705636, -0.01323379],\n",
       "       [-0.05766413, -0.01560465]])"
      ]
     },
     "execution_count": 381,
     "metadata": {},
     "output_type": "execute_result"
    }
   ],
   "source": [
    "input_pca[0:10]"
   ]
  },
  {
   "cell_type": "code",
   "execution_count": 382,
   "metadata": {},
   "outputs": [
    {
     "data": {
      "text/plain": [
       "18612      0.999969\n",
       "6309      50.221447\n",
       "25367      5.042920\n",
       "20352      1.015000\n",
       "6419     191.755000\n",
       "21887     40.750000\n",
       "23458     84.114340\n",
       "18278    350.403573\n",
       "24575     39.111987\n",
       "25001      6.000000\n",
       "Name: label, dtype: float64"
      ]
     },
     "execution_count": 382,
     "metadata": {},
     "output_type": "execute_result"
    }
   ],
   "source": [
    "input_label[0:10]"
   ]
  },
  {
   "cell_type": "code",
   "execution_count": 383,
   "metadata": {},
   "outputs": [],
   "source": [
    "train_pca = pca.fit_transform(train_data)"
   ]
  },
  {
   "cell_type": "code",
   "execution_count": 384,
   "metadata": {},
   "outputs": [
    {
     "data": {
      "text/plain": [
       "SVR(C=1.0, cache_size=200, coef0=0.0, degree=3, epsilon=0.2, gamma='auto',\n",
       "  kernel='rbf', max_iter=-1, shrinking=True, tol=0.001, verbose=False)"
      ]
     },
     "execution_count": 384,
     "metadata": {},
     "output_type": "execute_result"
    }
   ],
   "source": [
    "clf = SVR(C=1.0, epsilon=0.2)\n",
    "clf.fit(train_pca,train_label)"
   ]
  },
  {
   "cell_type": "code",
   "execution_count": 385,
   "metadata": {},
   "outputs": [],
   "source": [
    "test_pca = pca.fit_transform(test_data)"
   ]
  },
  {
   "cell_type": "code",
   "execution_count": 386,
   "metadata": {},
   "outputs": [],
   "source": [
    "svr_regr = clf.predict(test_pca)"
   ]
  },
  {
   "cell_type": "code",
   "execution_count": 387,
   "metadata": {},
   "outputs": [
    {
     "data": {
      "text/plain": [
       "array([ 17.73882728,  36.68180547,  59.05316141,   2.78602692,\n",
       "        14.73803082,  65.50617663,  26.83824662,  69.525563  ,\n",
       "        85.77890488,   8.23928275])"
      ]
     },
     "execution_count": 387,
     "metadata": {},
     "output_type": "execute_result"
    }
   ],
   "source": [
    "svr_regr[0:10]"
   ]
  },
  {
   "cell_type": "code",
   "execution_count": 388,
   "metadata": {
    "scrolled": false
   },
   "outputs": [
    {
     "data": {
      "text/plain": [
       "array([  -8.51302934,   21.28025713,  178.68      ,    1.36711589,\n",
       "         33.16327189,  498.20874048,   23.59336652,  177.25      ,\n",
       "        168.42398211,    5.34222427])"
      ]
     },
     "execution_count": 388,
     "metadata": {},
     "output_type": "execute_result"
    }
   ],
   "source": [
    "test_label[0:10]"
   ]
  },
  {
   "cell_type": "code",
   "execution_count": 390,
   "metadata": {},
   "outputs": [],
   "source": [
    "mse = cal_mse(svr_regr,test_label)"
   ]
  },
  {
   "cell_type": "code",
   "execution_count": 391,
   "metadata": {},
   "outputs": [
    {
     "data": {
      "text/plain": [
       "7652.7811398311023"
      ]
     },
     "execution_count": 391,
     "metadata": {},
     "output_type": "execute_result"
    }
   ],
   "source": [
    "mse"
   ]
  },
  {
   "cell_type": "markdown",
   "metadata": {},
   "source": [
    "## Neural Network"
   ]
  },
  {
   "cell_type": "code",
   "execution_count": 101,
   "metadata": {},
   "outputs": [
    {
     "name": "stderr",
     "output_type": "stream",
     "text": [
      "Using TensorFlow backend.\n"
     ]
    }
   ],
   "source": [
    "import tensorflow as tf\n",
    "import keras\n",
    "from keras.models import Sequential\n",
    "from keras.layers import Dense\n",
    "from keras.layers import Activation\n",
    "from keras.layers import Dropout"
   ]
  },
  {
   "cell_type": "code",
   "execution_count": 102,
   "metadata": {},
   "outputs": [],
   "source": [
    "model = Sequential()\n",
    "model.add(Dense(1, input_shape=(6,)))\n",
    "model.add(Activation('relu'))\n",
    "model.add(Dense(12))\n",
    "model.add(Activation('relu'))\n",
    "model.add(Dense(1))\n",
    "# sgd = keras.optimizers.SGD(lr=0.01, decay=1e-6, momentum=0.9, nesterov=True)\n",
    "# rmsp = keras.optimizers.RMSprop(lr=0.001, rho=0.9, epsilon=1e-06)\n",
    "adam = keras.optimizers.Adam(lr=0.1, beta_1=0.9, beta_2=0.99999, epsilon=1e-08, decay=0.0)\n",
    "model.compile(optimizer=adam,loss='mse')"
   ]
  },
  {
   "cell_type": "code",
   "execution_count": null,
   "metadata": {},
   "outputs": [
    {
     "name": "stdout",
     "output_type": "stream",
     "text": [
      "Epoch 1/100\n",
      "22167/22167 [==============================] - 1s 63us/step - loss: 3548.2508\n",
      "Epoch 2/100\n",
      "22167/22167 [==============================] - 2s 74us/step - loss: 3550.0217\n",
      "Epoch 3/100\n",
      "22167/22167 [==============================] - 2s 73us/step - loss: 3617.6281\n",
      "Epoch 4/100\n",
      "22167/22167 [==============================] - 2s 69us/step - loss: 3590.8877\n",
      "Epoch 5/100\n",
      "22167/22167 [==============================] - 2s 70us/step - loss: 3532.0348\n",
      "Epoch 6/100\n",
      "11488/22167 [==============>...............] - ETA: 0s - loss: 3710.4013"
     ]
    }
   ],
   "source": [
    "model.fit(train_data, train_label, epochs=100, batch_size=16)"
   ]
  },
  {
   "cell_type": "code",
   "execution_count": 414,
   "metadata": {},
   "outputs": [],
   "source": [
    "pred = model.predict(test_data)"
   ]
  },
  {
   "cell_type": "code",
   "execution_count": 415,
   "metadata": {},
   "outputs": [],
   "source": [
    "test_pred=[]\n",
    "for p in pred:\n",
    "    test_pred.append(p[0])"
   ]
  },
  {
   "cell_type": "code",
   "execution_count": 416,
   "metadata": {},
   "outputs": [
    {
     "data": {
      "text/plain": [
       "[7.5220795,\n",
       " 69.615051,\n",
       " 227.82852,\n",
       " -2.5987282,\n",
       " 9.7582932,\n",
       " 275.77756,\n",
       " 14.596722,\n",
       " 270.15765,\n",
       " 134.88327,\n",
       " -0.15851593]"
      ]
     },
     "execution_count": 416,
     "metadata": {},
     "output_type": "execute_result"
    }
   ],
   "source": [
    "test_pred[0:10]"
   ]
  },
  {
   "cell_type": "code",
   "execution_count": 417,
   "metadata": {},
   "outputs": [
    {
     "data": {
      "text/plain": [
       "array([  -8.51302934,   21.28025713,  178.68      ,    1.36711589,\n",
       "         33.16327189,  498.20874048,   23.59336652,  177.25      ,\n",
       "        168.42398211,    5.34222427])"
      ]
     },
     "execution_count": 417,
     "metadata": {},
     "output_type": "execute_result"
    }
   ],
   "source": [
    "test_label[0:10]"
   ]
  },
  {
   "cell_type": "code",
   "execution_count": 418,
   "metadata": {},
   "outputs": [
    {
     "data": {
      "text/plain": [
       "3541.6957565645484"
      ]
     },
     "execution_count": 418,
     "metadata": {},
     "output_type": "execute_result"
    }
   ],
   "source": [
    "cal_mse(test_pred,test_label)"
   ]
  },
  {
   "cell_type": "code",
   "execution_count": 399,
   "metadata": {},
   "outputs": [],
   "source": [
    "t_pred = model.predict(train_data)"
   ]
  },
  {
   "cell_type": "code",
   "execution_count": 404,
   "metadata": {},
   "outputs": [
    {
     "data": {
      "text/plain": [
       "array([[  -3.02978897],\n",
       "       [  45.68602371],\n",
       "       [  10.17147064],\n",
       "       [  -1.48428345],\n",
       "       [ 226.23809814],\n",
       "       [  12.46229935],\n",
       "       [  78.30187988],\n",
       "       [ 297.07312012],\n",
       "       [  12.16233444],\n",
       "       [  -3.06142044]], dtype=float32)"
      ]
     },
     "execution_count": 404,
     "metadata": {},
     "output_type": "execute_result"
    }
   ],
   "source": [
    "t_pred[0:10]"
   ]
  },
  {
   "cell_type": "code",
   "execution_count": 407,
   "metadata": {},
   "outputs": [],
   "source": [
    "train_pred=[]\n",
    "for tpred in t_pred:\n",
    "    train_pred.append(tpred[0])"
   ]
  },
  {
   "cell_type": "code",
   "execution_count": 408,
   "metadata": {},
   "outputs": [
    {
     "data": {
      "text/plain": [
       "[-3.029789,\n",
       " 45.686024,\n",
       " 10.171471,\n",
       " -1.4842834,\n",
       " 226.2381,\n",
       " 12.462299,\n",
       " 78.30188,\n",
       " 297.07312,\n",
       " 12.162334,\n",
       " -3.0614204]"
      ]
     },
     "execution_count": 408,
     "metadata": {},
     "output_type": "execute_result"
    }
   ],
   "source": [
    "train_pred[0:10]"
   ]
  },
  {
   "cell_type": "code",
   "execution_count": 406,
   "metadata": {},
   "outputs": [
    {
     "data": {
      "text/plain": [
       "array([   0.99996856,   50.22144742,    5.04292022,    1.015     ,\n",
       "        191.755     ,   40.75      ,   84.11433976,  350.40357262,\n",
       "         39.11198729,    6.        ])"
      ]
     },
     "execution_count": 406,
     "metadata": {},
     "output_type": "execute_result"
    }
   ],
   "source": [
    "train_label[0:10]"
   ]
  },
  {
   "cell_type": "code",
   "execution_count": 402,
   "metadata": {},
   "outputs": [],
   "source": [
    "error = t_pred - train_label"
   ]
  },
  {
   "cell_type": "code",
   "execution_count": 405,
   "metadata": {},
   "outputs": [
    {
     "data": {
      "text/plain": [
       "array([[  -4.02975754,  -53.25123639,   -8.07270919, ..., -121.59132869,\n",
       "          -6.32978897,  -21.45839843],\n",
       "       [  44.68605515,   -4.53542371,   40.64310349, ...,  -72.87551601,\n",
       "          42.38602371,   27.25741426],\n",
       "       [   9.17150208,  -40.04997678,    5.12855042, ..., -108.39006908,\n",
       "           6.87147064,   -8.25713881],\n",
       "       ..., \n",
       "       [ 296.07315155,  246.85167269,  292.03019989, ...,  178.51158039,\n",
       "         293.77312012,  278.64451066],\n",
       "       [  11.16236588,  -38.05911298,    7.11941422, ..., -106.39920528,\n",
       "           8.86233444,   -6.26627501],\n",
       "       [  -4.06138901,  -53.28286786,   -8.10434066, ..., -121.62296016,\n",
       "          -6.36142044,  -21.4900299 ]])"
      ]
     },
     "execution_count": 405,
     "metadata": {},
     "output_type": "execute_result"
    }
   ],
   "source": [
    "error[0:10]"
   ]
  },
  {
   "cell_type": "code",
   "execution_count": 409,
   "metadata": {},
   "outputs": [
    {
     "data": {
      "text/plain": [
       "3487.3102630350927"
      ]
     },
     "execution_count": 409,
     "metadata": {},
     "output_type": "execute_result"
    }
   ],
   "source": [
    "cal_mse(train_pred,train_label)"
   ]
  }
 ],
 "metadata": {
  "kernelspec": {
   "display_name": "Python 3",
   "language": "python",
   "name": "python3"
  },
  "language_info": {
   "codemirror_mode": {
    "name": "ipython",
    "version": 3
   },
   "file_extension": ".py",
   "mimetype": "text/x-python",
   "name": "python",
   "nbconvert_exporter": "python",
   "pygments_lexer": "ipython3",
   "version": "3.6.3"
  }
 },
 "nbformat": 4,
 "nbformat_minor": 2
}
