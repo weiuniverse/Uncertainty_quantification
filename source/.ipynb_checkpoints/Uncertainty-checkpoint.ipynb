{
 "cells": [
  {
   "cell_type": "code",
   "execution_count": 1,
   "metadata": {
    "collapsed": true
   },
   "outputs": [],
   "source": [
    "import tsv\n",
    "import numpy as np\n",
    "import pandas as pd"
   ]
  },
  {
   "cell_type": "markdown",
   "metadata": {},
   "source": [
    "# data Preprocess"
   ]
  },
  {
   "cell_type": "markdown",
   "metadata": {},
   "source": [
    "## Poly Truth"
   ]
  },
  {
   "cell_type": "code",
   "execution_count": 2,
   "metadata": {
    "collapsed": true
   },
   "outputs": [],
   "source": [
    "# Poly_truth.tsv: true counts for each transcript\n",
    "poly_truth = open(\"../data/poly_mo/poly_truth.tsv\")\n",
    "lines = poly_truth.readlines()\n",
    "poly_truth.close()\n",
    "# print l\n",
    "count = 0\n",
    "poly_truth = []\n",
    "for line in lines:\n",
    "    line = line[:-1]\n",
    "    l = line.split('\\t')\n",
    "    poly_truth.append(l)\n",
    "\n",
    "df_poly_truth = pd.DataFrame.from_records(poly_truth[1:], columns=poly_truth[0])"
   ]
  },
  {
   "cell_type": "code",
   "execution_count": 6,
   "metadata": {
    "collapsed": true
   },
   "outputs": [],
   "source": [
    "df_poly_truth['transcript_id']=df_poly_truth['transcript_id'].astype(str)\n",
    "df_poly_truth['count']=df_poly_truth['count'].astype(int)"
   ]
  },
  {
   "cell_type": "code",
   "execution_count": 7,
   "metadata": {
    "scrolled": false
   },
   "outputs": [
    {
     "data": {
      "text/html": [
       "<div>\n",
       "<style>\n",
       "    .dataframe thead tr:only-child th {\n",
       "        text-align: right;\n",
       "    }\n",
       "\n",
       "    .dataframe thead th {\n",
       "        text-align: left;\n",
       "    }\n",
       "\n",
       "    .dataframe tbody tr th {\n",
       "        vertical-align: top;\n",
       "    }\n",
       "</style>\n",
       "<table border=\"1\" class=\"dataframe\">\n",
       "  <thead>\n",
       "    <tr style=\"text-align: right;\">\n",
       "      <th></th>\n",
       "      <th>count</th>\n",
       "    </tr>\n",
       "  </thead>\n",
       "  <tbody>\n",
       "    <tr>\n",
       "      <th>count</th>\n",
       "      <td>2.695900e+04</td>\n",
       "    </tr>\n",
       "    <tr>\n",
       "      <th>mean</th>\n",
       "      <td>1.483678e+03</td>\n",
       "    </tr>\n",
       "    <tr>\n",
       "      <th>std</th>\n",
       "      <td>1.504054e+04</td>\n",
       "    </tr>\n",
       "    <tr>\n",
       "      <th>min</th>\n",
       "      <td>1.000000e+00</td>\n",
       "    </tr>\n",
       "    <tr>\n",
       "      <th>25%</th>\n",
       "      <td>1.700000e+01</td>\n",
       "    </tr>\n",
       "    <tr>\n",
       "      <th>50%</th>\n",
       "      <td>1.420000e+02</td>\n",
       "    </tr>\n",
       "    <tr>\n",
       "      <th>75%</th>\n",
       "      <td>7.350000e+02</td>\n",
       "    </tr>\n",
       "    <tr>\n",
       "      <th>max</th>\n",
       "      <td>1.316896e+06</td>\n",
       "    </tr>\n",
       "  </tbody>\n",
       "</table>\n",
       "</div>"
      ],
      "text/plain": [
       "              count\n",
       "count  2.695900e+04\n",
       "mean   1.483678e+03\n",
       "std    1.504054e+04\n",
       "min    1.000000e+00\n",
       "25%    1.700000e+01\n",
       "50%    1.420000e+02\n",
       "75%    7.350000e+02\n",
       "max    1.316896e+06"
      ]
     },
     "execution_count": 7,
     "metadata": {},
     "output_type": "execute_result"
    }
   ],
   "source": [
    "df_poly_truth.describe()"
   ]
  },
  {
   "cell_type": "code",
   "execution_count": 8,
   "metadata": {
    "scrolled": true
   },
   "outputs": [
    {
     "data": {
      "text/html": [
       "<div>\n",
       "<style>\n",
       "    .dataframe thead tr:only-child th {\n",
       "        text-align: right;\n",
       "    }\n",
       "\n",
       "    .dataframe thead th {\n",
       "        text-align: left;\n",
       "    }\n",
       "\n",
       "    .dataframe tbody tr th {\n",
       "        vertical-align: top;\n",
       "    }\n",
       "</style>\n",
       "<table border=\"1\" class=\"dataframe\">\n",
       "  <thead>\n",
       "    <tr style=\"text-align: right;\">\n",
       "      <th></th>\n",
       "      <th>transcript_id</th>\n",
       "      <th>count</th>\n",
       "    </tr>\n",
       "  </thead>\n",
       "  <tbody>\n",
       "    <tr>\n",
       "      <th>0</th>\n",
       "      <td>ENST00000608495</td>\n",
       "      <td>1</td>\n",
       "    </tr>\n",
       "    <tr>\n",
       "      <th>1</th>\n",
       "      <td>ENST00000382369</td>\n",
       "      <td>55</td>\n",
       "    </tr>\n",
       "    <tr>\n",
       "      <th>2</th>\n",
       "      <td>ENST00000360321</td>\n",
       "      <td>54</td>\n",
       "    </tr>\n",
       "    <tr>\n",
       "      <th>3</th>\n",
       "      <td>ENST00000400269</td>\n",
       "      <td>92</td>\n",
       "    </tr>\n",
       "    <tr>\n",
       "      <th>4</th>\n",
       "      <td>ENST00000382352</td>\n",
       "      <td>2653</td>\n",
       "    </tr>\n",
       "  </tbody>\n",
       "</table>\n",
       "</div>"
      ],
      "text/plain": [
       "     transcript_id  count\n",
       "0  ENST00000608495      1\n",
       "1  ENST00000382369     55\n",
       "2  ENST00000360321     54\n",
       "3  ENST00000400269     92\n",
       "4  ENST00000382352   2653"
      ]
     },
     "execution_count": 8,
     "metadata": {},
     "output_type": "execute_result"
    }
   ],
   "source": [
    "df_poly_truth.head(5)"
   ]
  },
  {
   "cell_type": "code",
   "execution_count": 9,
   "metadata": {
    "collapsed": true
   },
   "outputs": [],
   "source": [
    "truth_id = df_poly_truth.transcript_id"
   ]
  },
  {
   "cell_type": "markdown",
   "metadata": {},
   "source": [
    "## Quant_bootstraps"
   ]
  },
  {
   "cell_type": "code",
   "execution_count": 10,
   "metadata": {},
   "outputs": [
    {
     "name": "stdout",
     "output_type": "stream",
     "text": [
      "201\n"
     ]
    }
   ],
   "source": [
    "# Quant_bootstraps.tsv :containing the matrix of bootstrap experiments \n",
    "# containing the final count for each transcript in each round of bootstrapping \n",
    "# with a row be a bootstrap output and columns be list of transcripts. \n",
    "\n",
    "#??? what's the meaning? count of every round?\n",
    "quant_bootstraps = tsv.TsvReader(open(\"../data/poly_mo/quant_bootstraps.tsv\"))\n",
    "count = 0\n",
    "quant_boot = []\n",
    "for parts in quant_bootstraps:\n",
    "    quant_boot.append(parts)\n",
    "#     print len(parts)\n",
    "print(len(quant_boot))"
   ]
  },
  {
   "cell_type": "code",
   "execution_count": 11,
   "metadata": {
    "collapsed": true
   },
   "outputs": [],
   "source": [
    "df_quant_boot = pd.DataFrame.from_records(quant_boot[1:], columns=quant_boot[0])\n",
    "# print(len(quant_boot[1,:]))"
   ]
  },
  {
   "cell_type": "markdown",
   "metadata": {},
   "source": [
    "## Sort the quant_boot Results\n",
    "### Attention: there are some ids in truth_id but not in quant_boot"
   ]
  },
  {
   "cell_type": "code",
   "execution_count": 16,
   "metadata": {
    "collapsed": true
   },
   "outputs": [],
   "source": [
    "sort_qb = []\n",
    "id_qb = []\n",
    "for id in truth_id:\n",
    "    try:\n",
    "        listed = list(df_quant_boot[id])        \n",
    "    except KeyError:\n",
    "#         print('has No '+id) # there are some ids in truth_id but not in quant_boot\n",
    "        pass\n",
    "    else:\n",
    "        id_qb.append(id)\n",
    "#         print(listed[:100])\n",
    "        listed.sort()\n",
    "#         print(sorted[:100])\n",
    "        sort_qb.append(listed)\n",
    "#         df_quant[id] = df_quant\n"
   ]
  },
  {
   "cell_type": "code",
   "execution_count": 17,
   "metadata": {},
   "outputs": [
    {
     "name": "stdout",
     "output_type": "stream",
     "text": [
      "26889\n"
     ]
    }
   ],
   "source": [
    "print(len(sort_qb))"
   ]
  },
  {
   "cell_type": "markdown",
   "metadata": {},
   "source": [
    "### reverse sort_qb"
   ]
  },
  {
   "cell_type": "code",
   "execution_count": 23,
   "metadata": {
    "collapsed": true
   },
   "outputs": [],
   "source": [
    "sort_qb = list(map(list,zip(*sort_qb)))"
   ]
  },
  {
   "cell_type": "code",
   "execution_count": 24,
   "metadata": {},
   "outputs": [
    {
     "data": {
      "text/plain": [
       "list"
      ]
     },
     "execution_count": 24,
     "metadata": {},
     "output_type": "execute_result"
    }
   ],
   "source": [
    "type(sort_qb)"
   ]
  },
  {
   "cell_type": "code",
   "execution_count": 25,
   "metadata": {},
   "outputs": [
    {
     "name": "stdout",
     "output_type": "stream",
     "text": [
      "200\n"
     ]
    }
   ],
   "source": [
    "print(len(sort_qb))"
   ]
  },
  {
   "cell_type": "code",
   "execution_count": 26,
   "metadata": {
    "collapsed": true
   },
   "outputs": [],
   "source": [
    "df_qb_sorted = pd.DataFrame.from_records(sort_qb, columns=id_qb)"
   ]
  },
  {
   "cell_type": "code",
   "execution_count": 28,
   "metadata": {
    "scrolled": true
   },
   "outputs": [
    {
     "data": {
      "text/html": [
       "<div>\n",
       "<style>\n",
       "    .dataframe thead tr:only-child th {\n",
       "        text-align: right;\n",
       "    }\n",
       "\n",
       "    .dataframe thead th {\n",
       "        text-align: left;\n",
       "    }\n",
       "\n",
       "    .dataframe tbody tr th {\n",
       "        vertical-align: top;\n",
       "    }\n",
       "</style>\n",
       "<table border=\"1\" class=\"dataframe\">\n",
       "  <thead>\n",
       "    <tr style=\"text-align: right;\">\n",
       "      <th></th>\n",
       "      <th>ENST00000608495</th>\n",
       "      <th>ENST00000382369</th>\n",
       "      <th>ENST00000360321</th>\n",
       "      <th>ENST00000400269</th>\n",
       "      <th>ENST00000382352</th>\n",
       "      <th>ENST00000342665</th>\n",
       "      <th>ENST00000609179</th>\n",
       "      <th>ENST00000217233</th>\n",
       "      <th>ENST00000449710</th>\n",
       "      <th>ENST00000422053</th>\n",
       "      <th>...</th>\n",
       "      <th>ENST00000361739</th>\n",
       "      <th>ENST00000361851</th>\n",
       "      <th>ENST00000361899</th>\n",
       "      <th>ENST00000362079</th>\n",
       "      <th>ENST00000361227</th>\n",
       "      <th>ENST00000361335</th>\n",
       "      <th>ENST00000361381</th>\n",
       "      <th>ENST00000361567</th>\n",
       "      <th>ENST00000361681</th>\n",
       "      <th>ENST00000361789</th>\n",
       "    </tr>\n",
       "  </thead>\n",
       "  <tbody>\n",
       "    <tr>\n",
       "      <th>0</th>\n",
       "      <td>0.0</td>\n",
       "      <td>19.2729016885</td>\n",
       "      <td>13.4652837511</td>\n",
       "      <td>100.773199385</td>\n",
       "      <td>1921.0</td>\n",
       "      <td>1886.0</td>\n",
       "      <td>150.0</td>\n",
       "      <td>215.551894472</td>\n",
       "      <td>177.43377951</td>\n",
       "      <td>146.929556377</td>\n",
       "      <td>...</td>\n",
       "      <td>338731.0</td>\n",
       "      <td>7922.0</td>\n",
       "      <td>224444.0</td>\n",
       "      <td>349450.0</td>\n",
       "      <td>30448.0</td>\n",
       "      <td>22177.0</td>\n",
       "      <td>415092.0</td>\n",
       "      <td>208400.0</td>\n",
       "      <td>71696.0</td>\n",
       "      <td>153866.0</td>\n",
       "    </tr>\n",
       "    <tr>\n",
       "      <th>1</th>\n",
       "      <td>0.0</td>\n",
       "      <td>21.1225204153</td>\n",
       "      <td>15.4563808178</td>\n",
       "      <td>103.560523071</td>\n",
       "      <td>1928.0</td>\n",
       "      <td>1896.0</td>\n",
       "      <td>154.0</td>\n",
       "      <td>220.509495014</td>\n",
       "      <td>186.363185866</td>\n",
       "      <td>150.305510835</td>\n",
       "      <td>...</td>\n",
       "      <td>338822.0</td>\n",
       "      <td>7926.0</td>\n",
       "      <td>224586.0</td>\n",
       "      <td>349482.0</td>\n",
       "      <td>30461.0</td>\n",
       "      <td>22201.0</td>\n",
       "      <td>415373.0</td>\n",
       "      <td>208612.0</td>\n",
       "      <td>71762.0</td>\n",
       "      <td>154379.0</td>\n",
       "    </tr>\n",
       "  </tbody>\n",
       "</table>\n",
       "<p>2 rows × 26889 columns</p>\n",
       "</div>"
      ],
      "text/plain": [
       "  ENST00000608495 ENST00000382369 ENST00000360321 ENST00000400269  \\\n",
       "0             0.0   19.2729016885   13.4652837511   100.773199385   \n",
       "1             0.0   21.1225204153   15.4563808178   103.560523071   \n",
       "\n",
       "  ENST00000382352 ENST00000342665 ENST00000609179 ENST00000217233  \\\n",
       "0          1921.0          1886.0           150.0   215.551894472   \n",
       "1          1928.0          1896.0           154.0   220.509495014   \n",
       "\n",
       "  ENST00000449710 ENST00000422053       ...       ENST00000361739  \\\n",
       "0    177.43377951   146.929556377       ...              338731.0   \n",
       "1   186.363185866   150.305510835       ...              338822.0   \n",
       "\n",
       "  ENST00000361851 ENST00000361899 ENST00000362079 ENST00000361227  \\\n",
       "0          7922.0        224444.0        349450.0         30448.0   \n",
       "1          7926.0        224586.0        349482.0         30461.0   \n",
       "\n",
       "  ENST00000361335 ENST00000361381 ENST00000361567 ENST00000361681  \\\n",
       "0         22177.0        415092.0        208400.0         71696.0   \n",
       "1         22201.0        415373.0        208612.0         71762.0   \n",
       "\n",
       "  ENST00000361789  \n",
       "0        153866.0  \n",
       "1        154379.0  \n",
       "\n",
       "[2 rows x 26889 columns]"
      ]
     },
     "execution_count": 28,
     "metadata": {},
     "output_type": "execute_result"
    }
   ],
   "source": [
    "df_qb_sorted.head(2)"
   ]
  },
  {
   "cell_type": "code",
   "execution_count": 59,
   "metadata": {},
   "outputs": [
    {
     "name": "stdout",
     "output_type": "stream",
     "text": [
      "<class 'pandas.core.frame.DataFrame'>\n",
      "RangeIndex: 200 entries, 0 to 199\n",
      "Columns: 26889 entries, ENST00000608495 to ENST00000361789\n",
      "dtypes: object(26889)\n",
      "memory usage: 41.0+ MB\n"
     ]
    }
   ],
   "source": [
    "df_qb_sorted.info()"
   ]
  },
  {
   "cell_type": "code",
   "execution_count": 29,
   "metadata": {
    "collapsed": true,
    "scrolled": true
   },
   "outputs": [],
   "source": [
    "use_id = id_qb"
   ]
  },
  {
   "cell_type": "markdown",
   "metadata": {},
   "source": [
    "## Filter the False"
   ]
  },
  {
   "cell_type": "code",
   "execution_count": null,
   "metadata": {
    "collapsed": true
   },
   "outputs": [],
   "source": [
    "df_poly_truth = df_poly_truth.set_index(['transcript_id'])"
   ]
  },
  {
   "cell_type": "code",
   "execution_count": 52,
   "metadata": {
    "collapsed": true
   },
   "outputs": [],
   "source": [
    "sum = len(sort_qb)\n",
    "percent2dot5 = df_qb_sorted.loc[int(sum*0.025)]\n",
    "percent97dot5 = df_qb_sorted.loc[int(sum*0.975)]"
   ]
  },
  {
   "cell_type": "code",
   "execution_count": 64,
   "metadata": {
    "collapsed": true
   },
   "outputs": [],
   "source": [
    "true_id = []\n",
    "false_id = []\n",
    "for id in use_id:\n",
    "    down = float(percent2dot5[id])\n",
    "    up = float(percent97dot5[id])\n",
    "    true_count = df_poly_truth.loc[id]\n",
    "    true_count = float(true_count)\n",
    "    if true_count>down and true_count<up:\n",
    "        true_id.append(id)\n",
    "    else:\n",
    "        false_id.append(id)"
   ]
  },
  {
   "cell_type": "markdown",
   "metadata": {},
   "source": [
    "## Problem: why so many False? May be Wrong"
   ]
  },
  {
   "cell_type": "code",
   "execution_count": 65,
   "metadata": {
    "scrolled": true
   },
   "outputs": [
    {
     "name": "stdout",
     "output_type": "stream",
     "text": [
      "9202\n",
      "17687\n"
     ]
    }
   ],
   "source": [
    "print(len(true_id))\n",
    "print(len(false_id))"
   ]
  },
  {
   "cell_type": "code",
   "execution_count": null,
   "metadata": {
    "collapsed": true
   },
   "outputs": [],
   "source": []
  },
  {
   "cell_type": "markdown",
   "metadata": {},
   "source": [
    "## Quant.sf"
   ]
  },
  {
   "cell_type": "code",
   "execution_count": 22,
   "metadata": {
    "collapsed": true
   },
   "outputs": [],
   "source": [
    "# Quant.sf :estimated quantifications for each transcript\n",
    "quant = open(\"../data/poly_mo/quant.sf\")\n",
    "lines = quant.readlines()\n",
    "# print l\n",
    "count = 0\n",
    "quant = []\n",
    "for line in lines:\n",
    "    line = line[:-1]\n",
    "    l = line.split('\\t')\n",
    "    quant.append(l)\n",
    "# print quant[0:100]\n",
    "\n",
    "#     print len(l)\n",
    "#     if len(l) <> 5:\n",
    "#         print \"error\"\n",
    "#         break"
   ]
  },
  {
   "cell_type": "code",
   "execution_count": 5,
   "metadata": {
    "collapsed": true
   },
   "outputs": [],
   "source": [
    "df = pd.DataFrame.from_records(quant[1:], columns=quant[0])"
   ]
  },
  {
   "cell_type": "code",
   "execution_count": 6,
   "metadata": {},
   "outputs": [
    {
     "data": {
      "text/html": [
       "<div>\n",
       "<style>\n",
       "    .dataframe thead tr:only-child th {\n",
       "        text-align: right;\n",
       "    }\n",
       "\n",
       "    .dataframe thead th {\n",
       "        text-align: left;\n",
       "    }\n",
       "\n",
       "    .dataframe tbody tr th {\n",
       "        vertical-align: top;\n",
       "    }\n",
       "</style>\n",
       "<table border=\"1\" class=\"dataframe\">\n",
       "  <thead>\n",
       "    <tr style=\"text-align: right;\">\n",
       "      <th></th>\n",
       "      <th>Name</th>\n",
       "      <th>Length</th>\n",
       "      <th>EffectiveLength</th>\n",
       "      <th>TPM</th>\n",
       "      <th>NumReads</th>\n",
       "    </tr>\n",
       "  </thead>\n",
       "  <tbody>\n",
       "    <tr>\n",
       "      <th>count</th>\n",
       "      <td>93109</td>\n",
       "      <td>93109</td>\n",
       "      <td>93109</td>\n",
       "      <td>93109</td>\n",
       "      <td>93109</td>\n",
       "    </tr>\n",
       "    <tr>\n",
       "      <th>unique</th>\n",
       "      <td>93109</td>\n",
       "      <td>8668</td>\n",
       "      <td>8665</td>\n",
       "      <td>28913</td>\n",
       "      <td>22792</td>\n",
       "    </tr>\n",
       "    <tr>\n",
       "      <th>top</th>\n",
       "      <td>ENST00000532502</td>\n",
       "      <td>582</td>\n",
       "      <td>383.005</td>\n",
       "      <td>0.000000</td>\n",
       "      <td>0.000000</td>\n",
       "    </tr>\n",
       "    <tr>\n",
       "      <th>freq</th>\n",
       "      <td>1</td>\n",
       "      <td>315</td>\n",
       "      <td>315</td>\n",
       "      <td>63340</td>\n",
       "      <td>63133</td>\n",
       "    </tr>\n",
       "  </tbody>\n",
       "</table>\n",
       "</div>"
      ],
      "text/plain": [
       "                   Name Length EffectiveLength       TPM  NumReads\n",
       "count             93109  93109           93109     93109     93109\n",
       "unique            93109   8668            8665     28913     22792\n",
       "top     ENST00000532502    582         383.005  0.000000  0.000000\n",
       "freq                  1    315             315     63340     63133"
      ]
     },
     "execution_count": 6,
     "metadata": {},
     "output_type": "execute_result"
    }
   ],
   "source": [
    "df.describe()"
   ]
  },
  {
   "cell_type": "code",
   "execution_count": 7,
   "metadata": {
    "scrolled": true
   },
   "outputs": [
    {
     "name": "stdout",
     "output_type": "stream",
     "text": [
      "<class 'pandas.core.frame.DataFrame'>\n",
      "RangeIndex: 93109 entries, 0 to 93108\n",
      "Data columns (total 5 columns):\n",
      "Name               93109 non-null object\n",
      "Length             93109 non-null object\n",
      "EffectiveLength    93109 non-null object\n",
      "TPM                93109 non-null object\n",
      "NumReads           93109 non-null object\n",
      "dtypes: object(5)\n",
      "memory usage: 3.6+ MB\n"
     ]
    }
   ],
   "source": [
    "df.info()"
   ]
  },
  {
   "cell_type": "code",
   "execution_count": 8,
   "metadata": {
    "scrolled": true
   },
   "outputs": [
    {
     "data": {
      "text/html": [
       "<div>\n",
       "<style>\n",
       "    .dataframe thead tr:only-child th {\n",
       "        text-align: right;\n",
       "    }\n",
       "\n",
       "    .dataframe thead th {\n",
       "        text-align: left;\n",
       "    }\n",
       "\n",
       "    .dataframe tbody tr th {\n",
       "        vertical-align: top;\n",
       "    }\n",
       "</style>\n",
       "<table border=\"1\" class=\"dataframe\">\n",
       "  <thead>\n",
       "    <tr style=\"text-align: right;\">\n",
       "      <th></th>\n",
       "      <th>Name</th>\n",
       "      <th>Length</th>\n",
       "      <th>EffectiveLength</th>\n",
       "      <th>TPM</th>\n",
       "      <th>NumReads</th>\n",
       "    </tr>\n",
       "  </thead>\n",
       "  <tbody>\n",
       "    <tr>\n",
       "      <th>0</th>\n",
       "      <td>ENST00000382410</td>\n",
       "      <td>587</td>\n",
       "      <td>388.005</td>\n",
       "      <td>0.000000</td>\n",
       "      <td>0.000000</td>\n",
       "    </tr>\n",
       "    <tr>\n",
       "      <th>1</th>\n",
       "      <td>ENST00000382398</td>\n",
       "      <td>655</td>\n",
       "      <td>456.001</td>\n",
       "      <td>0.000000</td>\n",
       "      <td>0.000000</td>\n",
       "    </tr>\n",
       "    <tr>\n",
       "      <th>2</th>\n",
       "      <td>ENST00000382388</td>\n",
       "      <td>514</td>\n",
       "      <td>315.007</td>\n",
       "      <td>0.000000</td>\n",
       "      <td>0.000000</td>\n",
       "    </tr>\n",
       "    <tr>\n",
       "      <th>3</th>\n",
       "      <td>ENST00000334391</td>\n",
       "      <td>373</td>\n",
       "      <td>174.012</td>\n",
       "      <td>0.000000</td>\n",
       "      <td>0.000000</td>\n",
       "    </tr>\n",
       "    <tr>\n",
       "      <th>4</th>\n",
       "      <td>ENST00000246105</td>\n",
       "      <td>698</td>\n",
       "      <td>499.000</td>\n",
       "      <td>0.000000</td>\n",
       "      <td>0.000000</td>\n",
       "    </tr>\n",
       "  </tbody>\n",
       "</table>\n",
       "</div>"
      ],
      "text/plain": [
       "              Name Length EffectiveLength       TPM  NumReads\n",
       "0  ENST00000382410    587         388.005  0.000000  0.000000\n",
       "1  ENST00000382398    655         456.001  0.000000  0.000000\n",
       "2  ENST00000382388    514         315.007  0.000000  0.000000\n",
       "3  ENST00000334391    373         174.012  0.000000  0.000000\n",
       "4  ENST00000246105    698         499.000  0.000000  0.000000"
      ]
     },
     "execution_count": 8,
     "metadata": {},
     "output_type": "execute_result"
    }
   ],
   "source": [
    "df.head(5)"
   ]
  },
  {
   "cell_type": "code",
   "execution_count": 13,
   "metadata": {
    "collapsed": true
   },
   "outputs": [],
   "source": [
    "df.Name = df.Name.astype(str)\n",
    "df.Length = df.Length.astype(int)\n",
    "df.EffectiveLength = df.EffectiveLength.astype(float)\n",
    "df.TPM = df.TPM.astype(float)\n",
    "df.NumReads = df.NumReads.astype(float)"
   ]
  },
  {
   "cell_type": "code",
   "execution_count": 14,
   "metadata": {},
   "outputs": [
    {
     "data": {
      "text/html": [
       "<div>\n",
       "<style>\n",
       "    .dataframe thead tr:only-child th {\n",
       "        text-align: right;\n",
       "    }\n",
       "\n",
       "    .dataframe thead th {\n",
       "        text-align: left;\n",
       "    }\n",
       "\n",
       "    .dataframe tbody tr th {\n",
       "        vertical-align: top;\n",
       "    }\n",
       "</style>\n",
       "<table border=\"1\" class=\"dataframe\">\n",
       "  <thead>\n",
       "    <tr style=\"text-align: right;\">\n",
       "      <th></th>\n",
       "      <th>Name</th>\n",
       "      <th>Length</th>\n",
       "      <th>EffectiveLength</th>\n",
       "      <th>TPM</th>\n",
       "      <th>NumReads</th>\n",
       "    </tr>\n",
       "  </thead>\n",
       "  <tbody>\n",
       "    <tr>\n",
       "      <th>0</th>\n",
       "      <td>ENST00000382410</td>\n",
       "      <td>587</td>\n",
       "      <td>388.005</td>\n",
       "      <td>0.0</td>\n",
       "      <td>0.0</td>\n",
       "    </tr>\n",
       "    <tr>\n",
       "      <th>1</th>\n",
       "      <td>ENST00000382398</td>\n",
       "      <td>655</td>\n",
       "      <td>456.001</td>\n",
       "      <td>0.0</td>\n",
       "      <td>0.0</td>\n",
       "    </tr>\n",
       "    <tr>\n",
       "      <th>2</th>\n",
       "      <td>ENST00000382388</td>\n",
       "      <td>514</td>\n",
       "      <td>315.007</td>\n",
       "      <td>0.0</td>\n",
       "      <td>0.0</td>\n",
       "    </tr>\n",
       "    <tr>\n",
       "      <th>3</th>\n",
       "      <td>ENST00000334391</td>\n",
       "      <td>373</td>\n",
       "      <td>174.012</td>\n",
       "      <td>0.0</td>\n",
       "      <td>0.0</td>\n",
       "    </tr>\n",
       "    <tr>\n",
       "      <th>4</th>\n",
       "      <td>ENST00000246105</td>\n",
       "      <td>698</td>\n",
       "      <td>499.000</td>\n",
       "      <td>0.0</td>\n",
       "      <td>0.0</td>\n",
       "    </tr>\n",
       "  </tbody>\n",
       "</table>\n",
       "</div>"
      ],
      "text/plain": [
       "              Name  Length  EffectiveLength  TPM  NumReads\n",
       "0  ENST00000382410     587          388.005  0.0       0.0\n",
       "1  ENST00000382398     655          456.001  0.0       0.0\n",
       "2  ENST00000382388     514          315.007  0.0       0.0\n",
       "3  ENST00000334391     373          174.012  0.0       0.0\n",
       "4  ENST00000246105     698          499.000  0.0       0.0"
      ]
     },
     "execution_count": 14,
     "metadata": {},
     "output_type": "execute_result"
    }
   ],
   "source": [
    "df.head(5)"
   ]
  },
  {
   "cell_type": "code",
   "execution_count": 15,
   "metadata": {},
   "outputs": [
    {
     "data": {
      "text/html": [
       "<div>\n",
       "<style>\n",
       "    .dataframe thead tr:only-child th {\n",
       "        text-align: right;\n",
       "    }\n",
       "\n",
       "    .dataframe thead th {\n",
       "        text-align: left;\n",
       "    }\n",
       "\n",
       "    .dataframe tbody tr th {\n",
       "        vertical-align: top;\n",
       "    }\n",
       "</style>\n",
       "<table border=\"1\" class=\"dataframe\">\n",
       "  <thead>\n",
       "    <tr style=\"text-align: right;\">\n",
       "      <th></th>\n",
       "      <th>Length</th>\n",
       "      <th>EffectiveLength</th>\n",
       "      <th>TPM</th>\n",
       "      <th>NumReads</th>\n",
       "    </tr>\n",
       "  </thead>\n",
       "  <tbody>\n",
       "    <tr>\n",
       "      <th>count</th>\n",
       "      <td>93109.000000</td>\n",
       "      <td>93109.000000</td>\n",
       "      <td>93109.000000</td>\n",
       "      <td>9.310900e+04</td>\n",
       "    </tr>\n",
       "    <tr>\n",
       "      <th>mean</th>\n",
       "      <td>2008.924164</td>\n",
       "      <td>1810.144491</td>\n",
       "      <td>10.740100</td>\n",
       "      <td>3.579084e+02</td>\n",
       "    </tr>\n",
       "    <tr>\n",
       "      <th>std</th>\n",
       "      <td>2132.499138</td>\n",
       "      <td>2132.174682</td>\n",
       "      <td>201.478857</td>\n",
       "      <td>6.924434e+03</td>\n",
       "    </tr>\n",
       "    <tr>\n",
       "      <th>min</th>\n",
       "      <td>21.000000</td>\n",
       "      <td>9.784000</td>\n",
       "      <td>0.000000</td>\n",
       "      <td>0.000000e+00</td>\n",
       "    </tr>\n",
       "    <tr>\n",
       "      <th>25%</th>\n",
       "      <td>640.000000</td>\n",
       "      <td>441.002000</td>\n",
       "      <td>0.000000</td>\n",
       "      <td>0.000000e+00</td>\n",
       "    </tr>\n",
       "    <tr>\n",
       "      <th>50%</th>\n",
       "      <td>1344.000000</td>\n",
       "      <td>1144.991000</td>\n",
       "      <td>0.000000</td>\n",
       "      <td>0.000000e+00</td>\n",
       "    </tr>\n",
       "    <tr>\n",
       "      <th>75%</th>\n",
       "      <td>2640.000000</td>\n",
       "      <td>2439.991000</td>\n",
       "      <td>0.173865</td>\n",
       "      <td>6.000000e+00</td>\n",
       "    </tr>\n",
       "    <tr>\n",
       "      <th>max</th>\n",
       "      <td>109224.000000</td>\n",
       "      <td>109024.991000</td>\n",
       "      <td>23356.420222</td>\n",
       "      <td>1.109005e+06</td>\n",
       "    </tr>\n",
       "  </tbody>\n",
       "</table>\n",
       "</div>"
      ],
      "text/plain": [
       "              Length  EffectiveLength           TPM      NumReads\n",
       "count   93109.000000     93109.000000  93109.000000  9.310900e+04\n",
       "mean     2008.924164      1810.144491     10.740100  3.579084e+02\n",
       "std      2132.499138      2132.174682    201.478857  6.924434e+03\n",
       "min        21.000000         9.784000      0.000000  0.000000e+00\n",
       "25%       640.000000       441.002000      0.000000  0.000000e+00\n",
       "50%      1344.000000      1144.991000      0.000000  0.000000e+00\n",
       "75%      2640.000000      2439.991000      0.173865  6.000000e+00\n",
       "max    109224.000000    109024.991000  23356.420222  1.109005e+06"
      ]
     },
     "execution_count": 15,
     "metadata": {},
     "output_type": "execute_result"
    }
   ],
   "source": [
    "df.describe()"
   ]
  },
  {
   "cell_type": "markdown",
   "metadata": {
    "collapsed": true
   },
   "source": [
    "## Eq_classes.txt"
   ]
  },
  {
   "cell_type": "code",
   "execution_count": null,
   "metadata": {
    "collapsed": true
   },
   "outputs": [],
   "source": [
    "# Eq_classes.txt: list of equivalence classes and their information"
   ]
  }
 ],
 "metadata": {
  "kernelspec": {
   "display_name": "Python 3",
   "language": "python",
   "name": "python3"
  },
  "language_info": {
   "codemirror_mode": {
    "name": "ipython",
    "version": 3
   },
   "file_extension": ".py",
   "mimetype": "text/x-python",
   "name": "python",
   "nbconvert_exporter": "python",
   "pygments_lexer": "ipython3",
   "version": "3.6.3"
  }
 },
 "nbformat": 4,
 "nbformat_minor": 2
}
