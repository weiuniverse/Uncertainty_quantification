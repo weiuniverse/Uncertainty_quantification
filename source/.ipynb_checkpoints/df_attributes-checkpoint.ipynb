{
 "cells": [
  {
   "cell_type": "code",
   "execution_count": 2,
   "metadata": {},
   "outputs": [],
   "source": [
    "import math\n",
    "import tsv\n",
    "import numpy as np\n",
    "import pandas as pd\n",
    "import matplotlib.pyplot as plt\n",
    "\n",
    "root_path = \"../data/poly_mo/\"\n",
    "\n",
    "# preprocess data files\n",
    "\n",
    "# Quant_bootstraps.tsv :containing the matrix of bootstrap experiments \n",
    "# containing the final count for each transcript in each round of bootstrapping \n",
    "# with a row be a bootstrap output and columns be list of transcripts. \n",
    "quant_bootstraps = tsv.TsvReader(open(root_path+\"quant_bootstraps.tsv\"))\n",
    "count = 0\n",
    "quant_boot = []\n",
    "for parts in quant_bootstraps:\n",
    "    quant_boot.append(parts)\n",
    "df_quant_boot = pd.DataFrame.from_records(quant_boot[1:], columns=quant_boot[0])\n",
    "df_quant_boot = df_quant_boot.astype('float')\n",
    "df_quant_boot_mean = df_quant_boot.mean()\n",
    "df_quant_boot_std = df_quant_boot.std()\n",
    "id_in_quant_boot = list(df_quant_boot.columns)\n",
    "\n",
    "# Quant.sf :estimated quantifications for each transcript\n",
    "quant_file = open(root_path+\"quant.sf\")\n",
    "lines = quant_file.readlines()\n",
    "quant_file.close()\n",
    "count = 0\n",
    "quant = []\n",
    "for line in lines:\n",
    "    line = line[:-1]\n",
    "    l = line.split('\\t')\n",
    "    quant.append(l)\n",
    "\n",
    "df_quant = pd.DataFrame.from_records(quant[1:], columns=quant[0])\n",
    "df_quant.Name = df_quant.Name.astype(str)\n",
    "df_quant.Length = df_quant.Length.astype(int)\n",
    "df_quant.EffectiveLength = df_quant.EffectiveLength.astype(float)\n",
    "df_quant.TPM = df_quant.TPM.astype(float)\n",
    "df_quant.NumReads = df_quant.NumReads.astype(float)\n",
    "\n",
    "# eq_classes\n"
   ]
  },
  {
   "cell_type": "code",
   "execution_count": 3,
   "metadata": {},
   "outputs": [
    {
     "name": "stdout",
     "output_type": "stream",
     "text": [
      "5\n",
      "195\n"
     ]
    }
   ],
   "source": [
    "fixed_dfquant_boot = df_quant_boot.copy()\n",
    "columns = fixed_dfquant_boot.columns\n",
    "\n",
    "sort_qb = []\n",
    "for id in columns:\n",
    "    try:\n",
    "        listed = list(df_quant_boot[id])        \n",
    "    except KeyError:\n",
    "        pass\n",
    "    else:\n",
    "        listed.sort()\n",
    "        sort_qb.append(listed)\n",
    "sort_qb = list(map(list,zip(*sort_qb)))\n",
    "\n",
    "df_qb_sorted = pd.DataFrame.from_records(sort_qb, columns=columns)\n",
    "\n",
    "sum = len(sort_qb)\n",
    "print(int(sum*0.025))\n",
    "print(int(sum*0.975))\n",
    "percent2dot5 = df_qb_sorted.loc[int(sum*0.025)-1]\n",
    "percent97dot5 = df_qb_sorted.loc[int(sum*0.975)-1]\n",
    "\n",
    "remove_ids = []\n",
    "for id in columns:\n",
    "    if float(percent97dot5[id]) == 0:\n",
    "        remove_ids.append(id)\n",
    "\n",
    "new_columns = list(set(columns) - set(remove_ids))\n",
    "fixed_dfquant_boot = fixed_dfquant_boot[new_columns] \n",
    "fixed_dfquant_boot = fixed_dfquant_boot.astype('float')"
   ]
  },
  {
   "cell_type": "code",
   "execution_count": 5,
   "metadata": {},
   "outputs": [],
   "source": [
    "label = []\n",
    "for i in range(len(new_columns)):\n",
    "    label.append(0)\n",
    "    \n",
    "nc = [new_columns,label]\n",
    "nc = list(map(list,zip(*nc)))\n",
    "\n",
    "new_col = pd.DataFrame.from_records(nc, columns=['Name','useless'])"
   ]
  },
  {
   "cell_type": "code",
   "execution_count": 17,
   "metadata": {},
   "outputs": [],
   "source": [
    "fixed_dfquant = new_col.merge(df_quant, on='Name')\n",
    "useless = fixed_dfquant.pop('useless')"
   ]
  },
  {
   "cell_type": "code",
   "execution_count": 33,
   "metadata": {},
   "outputs": [],
   "source": [
    "'''\n",
    "fixed_dfquant = df_quant.copy()\n",
    "print(len(fixed_dfquant.Name)) # 93109\n",
    "for rid in remove_ids:  # too slow\n",
    "    fixed_dfquant = fixed_dfquant[fixed_dfquant.Name != rid]\n",
    "print(len(fixed_dfquant.Name)) # 33965\n",
    "'''\n",
    "# we now have:\n",
    "# fixed_dfquant_boot from df_quant_boot\n",
    "# fixed_dfquant from from df_quant\n",
    "# mean: fixed_dfquant_boot.mean()\n",
    "# std:  fixed_dfquant_boot.std()\n",
    "# fixed_dfquant.Name\n",
    "# fixed_dfquant.Length\n",
    "# fixed_dfquant.EffectiveLength\n",
    "# fixed_dfquant.TPM\n",
    "# fixed_dfquant.NumReads\n",
    "\n",
    "df_attributes = fixed_dfquant.copy()\n",
    "fixed_qb_mean = fixed_dfquant_boot.mean()\n",
    "fixed_qb_std = fixed_dfquant_boot.std()\n",
    "fixed_qb_mean = fixed_qb_mean.tolist()\n",
    "fixed_qb_std = fixed_qb_std.tolist()\n",
    "\n",
    "df_attributes.insert(5,'quant_boot_mean', fixed_qb_mean)\n",
    "df_attributes.insert(6,'quant_boot_std', fixed_qb_std)"
   ]
  },
  {
   "cell_type": "code",
   "execution_count": 34,
   "metadata": {},
   "outputs": [
    {
     "data": {
      "text/html": [
       "<div>\n",
       "<style>\n",
       "    .dataframe thead tr:only-child th {\n",
       "        text-align: right;\n",
       "    }\n",
       "\n",
       "    .dataframe thead th {\n",
       "        text-align: left;\n",
       "    }\n",
       "\n",
       "    .dataframe tbody tr th {\n",
       "        vertical-align: top;\n",
       "    }\n",
       "</style>\n",
       "<table border=\"1\" class=\"dataframe\">\n",
       "  <thead>\n",
       "    <tr style=\"text-align: right;\">\n",
       "      <th></th>\n",
       "      <th>Length</th>\n",
       "      <th>EffectiveLength</th>\n",
       "      <th>TPM</th>\n",
       "      <th>NumReads</th>\n",
       "      <th>quant_boot_mean</th>\n",
       "      <th>quant_boot_std</th>\n",
       "    </tr>\n",
       "  </thead>\n",
       "  <tbody>\n",
       "    <tr>\n",
       "      <th>count</th>\n",
       "      <td>33965.000000</td>\n",
       "      <td>33965.000000</td>\n",
       "      <td>33965.000000</td>\n",
       "      <td>3.396500e+04</td>\n",
       "      <td>3.396500e+04</td>\n",
       "      <td>3.396500e+04</td>\n",
       "    </tr>\n",
       "    <tr>\n",
       "      <th>mean</th>\n",
       "      <td>2262.225438</td>\n",
       "      <td>2063.146050</td>\n",
       "      <td>29.442073</td>\n",
       "      <td>9.811421e+02</td>\n",
       "      <td>9.811410e+02</td>\n",
       "      <td>2.294763e+01</td>\n",
       "    </tr>\n",
       "    <tr>\n",
       "      <th>std</th>\n",
       "      <td>2381.743492</td>\n",
       "      <td>2381.672015</td>\n",
       "      <td>332.764064</td>\n",
       "      <td>1.143815e+04</td>\n",
       "      <td>1.143812e+04</td>\n",
       "      <td>4.136096e+01</td>\n",
       "    </tr>\n",
       "    <tr>\n",
       "      <th>min</th>\n",
       "      <td>82.000000</td>\n",
       "      <td>9.804000</td>\n",
       "      <td>0.000000</td>\n",
       "      <td>0.000000e+00</td>\n",
       "      <td>5.453287e-10</td>\n",
       "      <td>3.365153e-09</td>\n",
       "    </tr>\n",
       "    <tr>\n",
       "      <th>25%</th>\n",
       "      <td>755.000000</td>\n",
       "      <td>555.999000</td>\n",
       "      <td>0.085157</td>\n",
       "      <td>2.939223e+00</td>\n",
       "      <td>3.613455e+00</td>\n",
       "      <td>2.956872e+00</td>\n",
       "    </tr>\n",
       "    <tr>\n",
       "      <th>50%</th>\n",
       "      <td>1628.000000</td>\n",
       "      <td>1428.991000</td>\n",
       "      <td>1.237854</td>\n",
       "      <td>4.700000e+01</td>\n",
       "      <td>4.714089e+01</td>\n",
       "      <td>1.071328e+01</td>\n",
       "    </tr>\n",
       "    <tr>\n",
       "      <th>75%</th>\n",
       "      <td>2946.000000</td>\n",
       "      <td>2746.991000</td>\n",
       "      <td>8.238800</td>\n",
       "      <td>3.988340e+02</td>\n",
       "      <td>3.978234e+02</td>\n",
       "      <td>2.839883e+01</td>\n",
       "    </tr>\n",
       "    <tr>\n",
       "      <th>max</th>\n",
       "      <td>104301.000000</td>\n",
       "      <td>104101.991000</td>\n",
       "      <td>23356.420222</td>\n",
       "      <td>1.109005e+06</td>\n",
       "      <td>1.109140e+06</td>\n",
       "      <td>1.112645e+03</td>\n",
       "    </tr>\n",
       "  </tbody>\n",
       "</table>\n",
       "</div>"
      ],
      "text/plain": [
       "              Length  EffectiveLength           TPM      NumReads  \\\n",
       "count   33965.000000     33965.000000  33965.000000  3.396500e+04   \n",
       "mean     2262.225438      2063.146050     29.442073  9.811421e+02   \n",
       "std      2381.743492      2381.672015    332.764064  1.143815e+04   \n",
       "min        82.000000         9.804000      0.000000  0.000000e+00   \n",
       "25%       755.000000       555.999000      0.085157  2.939223e+00   \n",
       "50%      1628.000000      1428.991000      1.237854  4.700000e+01   \n",
       "75%      2946.000000      2746.991000      8.238800  3.988340e+02   \n",
       "max    104301.000000    104101.991000  23356.420222  1.109005e+06   \n",
       "\n",
       "       quant_boot_mean  quant_boot_std  \n",
       "count     3.396500e+04    3.396500e+04  \n",
       "mean      9.811410e+02    2.294763e+01  \n",
       "std       1.143812e+04    4.136096e+01  \n",
       "min       5.453287e-10    3.365153e-09  \n",
       "25%       3.613455e+00    2.956872e+00  \n",
       "50%       4.714089e+01    1.071328e+01  \n",
       "75%       3.978234e+02    2.839883e+01  \n",
       "max       1.109140e+06    1.112645e+03  "
      ]
     },
     "execution_count": 34,
     "metadata": {},
     "output_type": "execute_result"
    }
   ],
   "source": [
    "df_attributes.describe()"
   ]
  },
  {
   "cell_type": "code",
   "execution_count": 35,
   "metadata": {},
   "outputs": [],
   "source": [
    "Name = df_attributes.pop('Name')\n",
    "Name = Name.tolist()"
   ]
  },
  {
   "cell_type": "code",
   "execution_count": 37,
   "metadata": {},
   "outputs": [],
   "source": []
  },
  {
   "cell_type": "code",
   "execution_count": 36,
   "metadata": {},
   "outputs": [],
   "source": [
    "input_data = df_attributes.as_matrix()"
   ]
  },
  {
   "cell_type": "code",
   "execution_count": null,
   "metadata": {},
   "outputs": [],
   "source": []
  },
  {
   "cell_type": "code",
   "execution_count": 29,
   "metadata": {},
   "outputs": [
    {
     "data": {
      "text/plain": [
       "array([[  7.92000000e+02,   5.92998000e+02,   3.34645460e+01,\n",
       "          6.44830350e+02,   6.49653832e+02,   4.04777542e+01],\n",
       "       [  5.89100000e+03,   5.69199100e+03,   0.00000000e+00,\n",
       "          0.00000000e+00,   1.74674984e-02,   2.46647370e-01],\n",
       "       [  1.71200000e+03,   1.49799100e+03,   5.91124100e+00,\n",
       "          2.87736346e+02,   2.87847225e+02,   2.38914599e+01],\n",
       "       [  8.67000000e+02,   6.67998000e+02,   0.00000000e+00,\n",
       "          0.00000000e+00,   2.11091515e+00,   4.32096333e+00],\n",
       "       [  2.76600000e+03,   2.56699100e+03,   5.35386000e-01,\n",
       "          4.46579040e+01,   4.40727703e+01,   1.23077319e+01],\n",
       "       [  9.71900000e+03,   9.51999100e+03,   0.00000000e+00,\n",
       "          0.00000000e+00,   1.86263853e-02,   2.35850824e-01],\n",
       "       [  6.06000000e+02,   4.07004000e+02,   7.56130000e-02,\n",
       "          1.00000000e+00,   9.95000000e-01,   9.84796487e-01],\n",
       "       [  2.10700000e+03,   1.90799100e+03,   2.98392900e+00,\n",
       "          1.85000000e+02,   1.85305000e+02,   1.29184522e+01],\n",
       "       [  3.89000000e+02,   1.90011000e+02,   0.00000000e+00,\n",
       "          0.00000000e+00,   6.52281236e-01,   1.74494258e+00],\n",
       "       [  5.14000000e+02,   3.15007000e+02,   1.07464700e+00,\n",
       "          1.10000000e+01,   1.06250000e+01,   3.15183204e+00]])"
      ]
     },
     "execution_count": 29,
     "metadata": {},
     "output_type": "execute_result"
    }
   ],
   "source": [
    "input_data[0:10]"
   ]
  },
  {
   "cell_type": "code",
   "execution_count": 21,
   "metadata": {},
   "outputs": [],
   "source": [
    "from sklearn.externals import joblib  \n",
    "preprocessing = joblib.load(\"preprocessing.m\")"
   ]
  },
  {
   "cell_type": "code",
   "execution_count": 30,
   "metadata": {},
   "outputs": [
    {
     "data": {
      "text/plain": [
       "array([[  7.80157213e-03,   5.85278233e-03,   3.12447356e-03,\n",
       "          2.32109188e-02,   2.33713766e-02,   1.11666071e-01],\n",
       "       [  5.80291180e-02,   5.61789152e-02,   0.00000000e+00,\n",
       "          0.00000000e+00,   6.28395405e-07,   6.80426649e-04],\n",
       "       [  1.68640044e-02,   1.47848985e-02,   5.51912948e-04,\n",
       "          1.03571815e-02,   1.03553393e-02,   6.59094237e-02],\n",
       "       ..., \n",
       "       [  9.06243228e-03,   7.11611903e-03,   8.89983239e-04,\n",
       "          8.03855381e-03,   8.02586780e-03,   5.34884736e-02],\n",
       "       [  4.62085541e-02,   4.43351336e-02,   5.75689613e-06,\n",
       "          3.23958494e-04,   2.74886849e-04,   7.78815548e-03],\n",
       "       [  5.00403869e-02,   4.81744928e-02,   3.03376354e-05,\n",
       "          1.85503050e-03,   1.90963047e-03,   8.43843461e-02]])"
      ]
     },
     "execution_count": 30,
     "metadata": {},
     "output_type": "execute_result"
    }
   ],
   "source": [
    "preprocessing.transform(input_data)"
   ]
  },
  {
   "cell_type": "code",
   "execution_count": 11,
   "metadata": {},
   "outputs": [],
   "source": [
    "import keras"
   ]
  },
  {
   "cell_type": "code",
   "execution_count": 52,
   "metadata": {},
   "outputs": [],
   "source": [
    "model = keras.models.load_model('nn.h5')"
   ]
  },
  {
   "cell_type": "code",
   "execution_count": 53,
   "metadata": {},
   "outputs": [],
   "source": [
    "distance = model.predict(input_data)"
   ]
  },
  {
   "cell_type": "code",
   "execution_count": 54,
   "metadata": {
    "scrolled": true
   },
   "outputs": [
    {
     "data": {
      "text/plain": [
       "array([[ -2.09784109e+05],\n",
       "       [  4.63441420e+00],\n",
       "       [ -8.15529922e+04],\n",
       "       [  4.63441420e+00],\n",
       "       [  4.63441420e+00],\n",
       "       [  4.63441420e+00],\n",
       "       [  4.63441420e+00],\n",
       "       [ -4.28568672e+04],\n",
       "       [  4.63441420e+00],\n",
       "       [  4.63441420e+00]], dtype=float32)"
      ]
     },
     "execution_count": 54,
     "metadata": {},
     "output_type": "execute_result"
    }
   ],
   "source": [
    "distance[0:10]"
   ]
  },
  {
   "cell_type": "code",
   "execution_count": 47,
   "metadata": {},
   "outputs": [],
   "source": [
    "dist=[]\n",
    "for d in distance:\n",
    "    dist.append(d[0])"
   ]
  },
  {
   "cell_type": "code",
   "execution_count": 49,
   "metadata": {},
   "outputs": [],
   "source": [
    "name_distance = [Name,dist]\n",
    "name_distance = list(map(list,zip(*name_distance)))\n",
    "df_distance = pd.DataFrame.from_records(name_distance, columns=['Name','distance'])"
   ]
  },
  {
   "cell_type": "code",
   "execution_count": 50,
   "metadata": {},
   "outputs": [],
   "source": []
  },
  {
   "cell_type": "code",
   "execution_count": 51,
   "metadata": {
    "scrolled": true
   },
   "outputs": [
    {
     "data": {
      "text/html": [
       "<div>\n",
       "<style>\n",
       "    .dataframe thead tr:only-child th {\n",
       "        text-align: right;\n",
       "    }\n",
       "\n",
       "    .dataframe thead th {\n",
       "        text-align: left;\n",
       "    }\n",
       "\n",
       "    .dataframe tbody tr th {\n",
       "        vertical-align: top;\n",
       "    }\n",
       "</style>\n",
       "<table border=\"1\" class=\"dataframe\">\n",
       "  <thead>\n",
       "    <tr style=\"text-align: right;\">\n",
       "      <th></th>\n",
       "      <th>Name</th>\n",
       "      <th>distance</th>\n",
       "    </tr>\n",
       "  </thead>\n",
       "  <tbody>\n",
       "    <tr>\n",
       "      <th>0</th>\n",
       "      <td>ENST00000330992</td>\n",
       "      <td>171073.718750</td>\n",
       "    </tr>\n",
       "    <tr>\n",
       "      <th>1</th>\n",
       "      <td>ENST00000548025</td>\n",
       "      <td>5.975731</td>\n",
       "    </tr>\n",
       "    <tr>\n",
       "      <th>2</th>\n",
       "      <td>ENST00000453270</td>\n",
       "      <td>50398.664062</td>\n",
       "    </tr>\n",
       "    <tr>\n",
       "      <th>3</th>\n",
       "      <td>ENST00000409254</td>\n",
       "      <td>5.975731</td>\n",
       "    </tr>\n",
       "    <tr>\n",
       "      <th>4</th>\n",
       "      <td>ENST00000576742</td>\n",
       "      <td>5.975731</td>\n",
       "    </tr>\n",
       "    <tr>\n",
       "      <th>5</th>\n",
       "      <td>ENST00000367567</td>\n",
       "      <td>5.975731</td>\n",
       "    </tr>\n",
       "    <tr>\n",
       "      <th>6</th>\n",
       "      <td>ENST00000340210</td>\n",
       "      <td>5.975731</td>\n",
       "    </tr>\n",
       "    <tr>\n",
       "      <th>7</th>\n",
       "      <td>ENST00000571336</td>\n",
       "      <td>12468.100586</td>\n",
       "    </tr>\n",
       "    <tr>\n",
       "      <th>8</th>\n",
       "      <td>ENST00000445175</td>\n",
       "      <td>5.975731</td>\n",
       "    </tr>\n",
       "    <tr>\n",
       "      <th>9</th>\n",
       "      <td>ENST00000607786</td>\n",
       "      <td>5.975731</td>\n",
       "    </tr>\n",
       "  </tbody>\n",
       "</table>\n",
       "</div>"
      ],
      "text/plain": [
       "              Name       distance\n",
       "0  ENST00000330992  171073.718750\n",
       "1  ENST00000548025       5.975731\n",
       "2  ENST00000453270   50398.664062\n",
       "3  ENST00000409254       5.975731\n",
       "4  ENST00000576742       5.975731\n",
       "5  ENST00000367567       5.975731\n",
       "6  ENST00000340210       5.975731\n",
       "7  ENST00000571336   12468.100586\n",
       "8  ENST00000445175       5.975731\n",
       "9  ENST00000607786       5.975731"
      ]
     },
     "execution_count": 51,
     "metadata": {},
     "output_type": "execute_result"
    }
   ],
   "source": [
    "df_distance.head(10)"
   ]
  },
  {
   "cell_type": "markdown",
   "metadata": {},
   "source": [
    "## Linear Model"
   ]
  },
  {
   "cell_type": "code",
   "execution_count": 55,
   "metadata": {},
   "outputs": [],
   "source": [
    "lr = joblib.load('linear_regression.m')"
   ]
  },
  {
   "cell_type": "code",
   "execution_count": 56,
   "metadata": {},
   "outputs": [],
   "source": [
    "distance_lr = lr.predict(input_data)"
   ]
  },
  {
   "cell_type": "code",
   "execution_count": null,
   "metadata": {},
   "outputs": [],
   "source": [
    "name_distance = [Name,distance_lr]\n",
    "name_distance = list(map(list,zip(*name_distance)))\n",
    "df_distance = pd.DataFrame.from_records(name_distance, columns=['Name','distance'])"
   ]
  }
 ],
 "metadata": {
  "kernelspec": {
   "display_name": "Python 3",
   "language": "python",
   "name": "python3"
  },
  "language_info": {
   "codemirror_mode": {
    "name": "ipython",
    "version": 3
   },
   "file_extension": ".py",
   "mimetype": "text/x-python",
   "name": "python",
   "nbconvert_exporter": "python",
   "pygments_lexer": "ipython3",
   "version": "3.6.3"
  }
 },
 "nbformat": 4,
 "nbformat_minor": 2
}
