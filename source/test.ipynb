{
 "cells": [
  {
   "cell_type": "code",
   "execution_count": 1,
   "metadata": {},
   "outputs": [],
   "source": [
    "import math\n",
    "import tsv\n",
    "import numpy as np\n",
    "import pandas as pd\n",
    "import matplotlib.pyplot as plt"
   ]
  },
  {
   "cell_type": "code",
   "execution_count": 3,
   "metadata": {},
   "outputs": [
    {
     "name": "stdout",
     "output_type": "stream",
     "text": [
      "5\n",
      "195\n"
     ]
    }
   ],
   "source": [
    "root_path = \"../data/poly_mo/\"\n",
    "\n",
    "# preprocess data files\n",
    "\n",
    "# Quant_bootstraps.tsv :containing the matrix of bootstrap experiments\n",
    "# containing the final count for each transcript in each round of bootstrapping\n",
    "# with a row be a bootstrap output and columns be list of transcripts.\n",
    "quant_bootstraps = tsv.TsvReader(open(root_path+\"quant_bootstraps.tsv\"))\n",
    "count = 0\n",
    "quant_boot = []\n",
    "for parts in quant_bootstraps:\n",
    "    quant_boot.append(parts)\n",
    "df_quant_boot = pd.DataFrame.from_records(quant_boot[1:], columns=quant_boot[0])\n",
    "df_quant_boot = df_quant_boot.astype('float')\n",
    "df_quant_boot_mean = df_quant_boot.mean()\n",
    "df_quant_boot_std = df_quant_boot.std()\n",
    "id_in_quant_boot = list(df_quant_boot.columns)\n",
    "\n",
    "# Quant.sf :estimated quantifications for each transcript\n",
    "quant_file = open(root_path+\"quant.sf\")\n",
    "lines = quant_file.readlines()\n",
    "quant_file.close()\n",
    "count = 0\n",
    "quant = []\n",
    "for line in lines:\n",
    "    line = line[:-1]\n",
    "    l = line.split('\\t')\n",
    "    quant.append(l)\n",
    "\n",
    "df_quant = pd.DataFrame.from_records(quant[1:], columns=quant[0])\n",
    "df_quant.Name = df_quant.Name.astype(str)\n",
    "df_quant.Length = df_quant.Length.astype(int)\n",
    "df_quant.EffectiveLength = df_quant.EffectiveLength.astype(float)\n",
    "df_quant.TPM = df_quant.TPM.astype(float)\n",
    "df_quant.NumReads = df_quant.NumReads.astype(float)\n",
    "\n",
    "# eq_classes\n",
    "\n",
    "# we now have:\n",
    "# df_quant_boot_mean\n",
    "# df_quant_boot_std\n",
    "# df_quant.Name\n",
    "# df_quant.Length\n",
    "# df_quant.EffectiveLength\n",
    "# df_quant.TPM\n",
    "# df_quant.NumReads\n",
    "\n",
    "fixed_dfquant_boot = df_quant_boot.copy()\n",
    "columns = fixed_dfquant_boot.columns\n",
    "\n",
    "sort_qb = []\n",
    "for id in columns:\n",
    "    try:\n",
    "        listed = list(df_quant_boot[id])\n",
    "    except KeyError:\n",
    "        pass\n",
    "    else:\n",
    "        listed.sort()\n",
    "        sort_qb.append(listed)\n",
    "sort_qb = list(map(list,zip(*sort_qb)))\n",
    "\n",
    "df_qb_sorted = pd.DataFrame.from_records(sort_qb, columns=columns)\n",
    "\n",
    "sum = len(sort_qb)\n",
    "print(int(sum*0.025))\n",
    "print(int(sum*0.975))\n",
    "percent2dot5 = df_qb_sorted.loc[int(sum*0.025)-1]\n",
    "percent97dot5 = df_qb_sorted.loc[int(sum*0.975)-1]\n",
    "\n",
    "remove_ids = []\n",
    "for id in columns:\n",
    "    if float(percent97dot5[id]) == 0:\n",
    "        remove_ids.append(id)\n",
    "\n"
   ]
  },
  {
   "cell_type": "code",
   "execution_count": null,
   "metadata": {},
   "outputs": [],
   "source": [
    "new_columns = set(columns) - set(remove_ids)\n",
    "new_columns = list(new_columns)\n",
    "fixed_df_quant_boot = fixed_df_quant_boot[new_columns]"
   ]
  },
  {
   "cell_type": "code",
   "execution_count": 5,
   "metadata": {},
   "outputs": [],
   "source": [
    "fixed_df_quant_boot = fixed_df_quant_boot"
   ]
  },
  {
   "cell_type": "code",
   "execution_count": null,
   "metadata": {},
   "outputs": [],
   "source": [
    "df_quant_boot_std = fixed_df_quant_boot.std()\n",
    "df_quant_boot_mean = fixed_df_quant_boot.mean()"
   ]
  },
  {
   "cell_type": "code",
   "execution_count": 6,
   "metadata": {
    "scrolled": true
   },
   "outputs": [
    {
     "data": {
      "text/html": [
       "<div>\n",
       "<style>\n",
       "    .dataframe thead tr:only-child th {\n",
       "        text-align: right;\n",
       "    }\n",
       "\n",
       "    .dataframe thead th {\n",
       "        text-align: left;\n",
       "    }\n",
       "\n",
       "    .dataframe tbody tr th {\n",
       "        vertical-align: top;\n",
       "    }\n",
       "</style>\n",
       "<table border=\"1\" class=\"dataframe\">\n",
       "  <thead>\n",
       "    <tr style=\"text-align: right;\">\n",
       "      <th></th>\n",
       "      <th>Length</th>\n",
       "      <th>EffectiveLength</th>\n",
       "      <th>TPM</th>\n",
       "      <th>NumReads</th>\n",
       "    </tr>\n",
       "  </thead>\n",
       "  <tbody>\n",
       "    <tr>\n",
       "      <th>count</th>\n",
       "      <td>93109.000000</td>\n",
       "      <td>93109.000000</td>\n",
       "      <td>93109.000000</td>\n",
       "      <td>9.310900e+04</td>\n",
       "    </tr>\n",
       "    <tr>\n",
       "      <th>mean</th>\n",
       "      <td>2008.924164</td>\n",
       "      <td>1810.144491</td>\n",
       "      <td>10.740100</td>\n",
       "      <td>3.579084e+02</td>\n",
       "    </tr>\n",
       "    <tr>\n",
       "      <th>std</th>\n",
       "      <td>2132.499138</td>\n",
       "      <td>2132.174682</td>\n",
       "      <td>201.478857</td>\n",
       "      <td>6.924434e+03</td>\n",
       "    </tr>\n",
       "    <tr>\n",
       "      <th>min</th>\n",
       "      <td>21.000000</td>\n",
       "      <td>9.784000</td>\n",
       "      <td>0.000000</td>\n",
       "      <td>0.000000e+00</td>\n",
       "    </tr>\n",
       "    <tr>\n",
       "      <th>25%</th>\n",
       "      <td>640.000000</td>\n",
       "      <td>441.002000</td>\n",
       "      <td>0.000000</td>\n",
       "      <td>0.000000e+00</td>\n",
       "    </tr>\n",
       "    <tr>\n",
       "      <th>50%</th>\n",
       "      <td>1344.000000</td>\n",
       "      <td>1144.991000</td>\n",
       "      <td>0.000000</td>\n",
       "      <td>0.000000e+00</td>\n",
       "    </tr>\n",
       "    <tr>\n",
       "      <th>75%</th>\n",
       "      <td>2640.000000</td>\n",
       "      <td>2439.991000</td>\n",
       "      <td>0.173865</td>\n",
       "      <td>6.000000e+00</td>\n",
       "    </tr>\n",
       "    <tr>\n",
       "      <th>max</th>\n",
       "      <td>109224.000000</td>\n",
       "      <td>109024.991000</td>\n",
       "      <td>23356.420222</td>\n",
       "      <td>1.109005e+06</td>\n",
       "    </tr>\n",
       "  </tbody>\n",
       "</table>\n",
       "</div>"
      ],
      "text/plain": [
       "              Length  EffectiveLength           TPM      NumReads\n",
       "count   93109.000000     93109.000000  93109.000000  9.310900e+04\n",
       "mean     2008.924164      1810.144491     10.740100  3.579084e+02\n",
       "std      2132.499138      2132.174682    201.478857  6.924434e+03\n",
       "min        21.000000         9.784000      0.000000  0.000000e+00\n",
       "25%       640.000000       441.002000      0.000000  0.000000e+00\n",
       "50%      1344.000000      1144.991000      0.000000  0.000000e+00\n",
       "75%      2640.000000      2439.991000      0.173865  6.000000e+00\n",
       "max    109224.000000    109024.991000  23356.420222  1.109005e+06"
      ]
     },
     "execution_count": 6,
     "metadata": {},
     "output_type": "execute_result"
    }
   ],
   "source": [
    "df_quant.describe()"
   ]
  },
  {
   "cell_type": "code",
   "execution_count": 8,
   "metadata": {},
   "outputs": [
    {
     "data": {
      "text/html": [
       "<div>\n",
       "<style>\n",
       "    .dataframe thead tr:only-child th {\n",
       "        text-align: right;\n",
       "    }\n",
       "\n",
       "    .dataframe thead th {\n",
       "        text-align: left;\n",
       "    }\n",
       "\n",
       "    .dataframe tbody tr th {\n",
       "        vertical-align: top;\n",
       "    }\n",
       "</style>\n",
       "<table border=\"1\" class=\"dataframe\">\n",
       "  <thead>\n",
       "    <tr style=\"text-align: right;\">\n",
       "      <th></th>\n",
       "      <th>Name</th>\n",
       "      <th>Length</th>\n",
       "      <th>EffectiveLength</th>\n",
       "      <th>TPM</th>\n",
       "      <th>NumReads</th>\n",
       "    </tr>\n",
       "  </thead>\n",
       "  <tbody>\n",
       "    <tr>\n",
       "      <th>0</th>\n",
       "      <td>ENST00000382410</td>\n",
       "      <td>587</td>\n",
       "      <td>388.005</td>\n",
       "      <td>0.0</td>\n",
       "      <td>0.0</td>\n",
       "    </tr>\n",
       "  </tbody>\n",
       "</table>\n",
       "</div>"
      ],
      "text/plain": [
       "              Name  Length  EffectiveLength  TPM  NumReads\n",
       "0  ENST00000382410     587          388.005  0.0       0.0"
      ]
     },
     "execution_count": 8,
     "metadata": {},
     "output_type": "execute_result"
    }
   ],
   "source": [
    "df_quant.head(1)"
   ]
  }
 ],
 "metadata": {
  "kernelspec": {
   "display_name": "Python 3",
   "language": "python",
   "name": "python3"
  },
  "language_info": {
   "codemirror_mode": {
    "name": "ipython",
    "version": 3
   },
   "file_extension": ".py",
   "mimetype": "text/x-python",
   "name": "python",
   "nbconvert_exporter": "python",
   "pygments_lexer": "ipython3",
   "version": "3.6.3"
  }
 },
 "nbformat": 4,
 "nbformat_minor": 2
}
