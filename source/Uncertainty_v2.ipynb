{
 "cells": [
  {
   "cell_type": "markdown",
   "metadata": {},
   "source": [
    "# Uncertainty Quantification"
   ]
  },
  {
   "cell_type": "markdown",
   "metadata": {},
   "source": [
    "## Overview\n",
    "    we will analyze why we cannot get the right count for some transcripts using the output of salmon. "
   ]
  },
  {
   "cell_type": "markdown",
   "metadata": {},
   "source": [
    "## Analyze tools\n",
    "    we will mainly use dataframe of pandas to analyze the data."
   ]
  },
  {
   "cell_type": "code",
   "execution_count": 2,
   "metadata": {
    "collapsed": true
   },
   "outputs": [],
   "source": [
    "import tsv\n",
    "import numpy as np\n",
    "import pandas as pd"
   ]
  },
  {
   "cell_type": "markdown",
   "metadata": {},
   "source": [
    "## root path"
   ]
  },
  {
   "cell_type": "code",
   "execution_count": 3,
   "metadata": {
    "collapsed": true
   },
   "outputs": [],
   "source": [
    "root_path = \"../data/poly_mo/\""
   ]
  },
  {
   "cell_type": "markdown",
   "metadata": {},
   "source": [
    "# data Preprocess"
   ]
  },
  {
   "cell_type": "markdown",
   "metadata": {},
   "source": [
    "## Poly Truth\n",
    "    Read the file poly_truth.tsv\n",
    "    Poly_truth.tsv: true counts for each transcript"
   ]
  },
  {
   "cell_type": "code",
   "execution_count": 4,
   "metadata": {
    "collapsed": true
   },
   "outputs": [],
   "source": [
    "# Poly_truth.tsv: true counts for each transcript\n",
    "poly_truth = open(root_path+\"poly_truth.tsv\")\n",
    "lines = poly_truth.readlines()\n",
    "poly_truth.close()\n",
    "# print l\n",
    "count = 0\n",
    "poly_truth = []\n",
    "for line in lines:\n",
    "    line = line[:-1]\n",
    "    l = line.split('\\t')\n",
    "    poly_truth.append(l)\n",
    "\n",
    "df_poly_truth = pd.DataFrame.from_records(poly_truth[1:], columns=poly_truth[0])"
   ]
  },
  {
   "cell_type": "code",
   "execution_count": 5,
   "metadata": {
    "collapsed": true
   },
   "outputs": [],
   "source": [
    "df_poly_truth['transcript_id']=df_poly_truth['transcript_id'].astype(str)\n",
    "df_poly_truth['count']=df_poly_truth['count'].astype(int)"
   ]
  },
  {
   "cell_type": "code",
   "execution_count": 6,
   "metadata": {
    "scrolled": false
   },
   "outputs": [
    {
     "data": {
      "text/html": [
       "<div>\n",
       "<style>\n",
       "    .dataframe thead tr:only-child th {\n",
       "        text-align: right;\n",
       "    }\n",
       "\n",
       "    .dataframe thead th {\n",
       "        text-align: left;\n",
       "    }\n",
       "\n",
       "    .dataframe tbody tr th {\n",
       "        vertical-align: top;\n",
       "    }\n",
       "</style>\n",
       "<table border=\"1\" class=\"dataframe\">\n",
       "  <thead>\n",
       "    <tr style=\"text-align: right;\">\n",
       "      <th></th>\n",
       "      <th>count</th>\n",
       "    </tr>\n",
       "  </thead>\n",
       "  <tbody>\n",
       "    <tr>\n",
       "      <th>count</th>\n",
       "      <td>2.695900e+04</td>\n",
       "    </tr>\n",
       "    <tr>\n",
       "      <th>mean</th>\n",
       "      <td>1.483678e+03</td>\n",
       "    </tr>\n",
       "    <tr>\n",
       "      <th>std</th>\n",
       "      <td>1.504054e+04</td>\n",
       "    </tr>\n",
       "    <tr>\n",
       "      <th>min</th>\n",
       "      <td>1.000000e+00</td>\n",
       "    </tr>\n",
       "    <tr>\n",
       "      <th>25%</th>\n",
       "      <td>1.700000e+01</td>\n",
       "    </tr>\n",
       "    <tr>\n",
       "      <th>50%</th>\n",
       "      <td>1.420000e+02</td>\n",
       "    </tr>\n",
       "    <tr>\n",
       "      <th>75%</th>\n",
       "      <td>7.350000e+02</td>\n",
       "    </tr>\n",
       "    <tr>\n",
       "      <th>max</th>\n",
       "      <td>1.316896e+06</td>\n",
       "    </tr>\n",
       "  </tbody>\n",
       "</table>\n",
       "</div>"
      ],
      "text/plain": [
       "              count\n",
       "count  2.695900e+04\n",
       "mean   1.483678e+03\n",
       "std    1.504054e+04\n",
       "min    1.000000e+00\n",
       "25%    1.700000e+01\n",
       "50%    1.420000e+02\n",
       "75%    7.350000e+02\n",
       "max    1.316896e+06"
      ]
     },
     "execution_count": 6,
     "metadata": {},
     "output_type": "execute_result"
    }
   ],
   "source": [
    "df_poly_truth.describe()"
   ]
  },
  {
   "cell_type": "code",
   "execution_count": 7,
   "metadata": {
    "scrolled": true
   },
   "outputs": [
    {
     "data": {
      "text/html": [
       "<div>\n",
       "<style>\n",
       "    .dataframe thead tr:only-child th {\n",
       "        text-align: right;\n",
       "    }\n",
       "\n",
       "    .dataframe thead th {\n",
       "        text-align: left;\n",
       "    }\n",
       "\n",
       "    .dataframe tbody tr th {\n",
       "        vertical-align: top;\n",
       "    }\n",
       "</style>\n",
       "<table border=\"1\" class=\"dataframe\">\n",
       "  <thead>\n",
       "    <tr style=\"text-align: right;\">\n",
       "      <th></th>\n",
       "      <th>transcript_id</th>\n",
       "      <th>count</th>\n",
       "    </tr>\n",
       "  </thead>\n",
       "  <tbody>\n",
       "    <tr>\n",
       "      <th>0</th>\n",
       "      <td>ENST00000608495</td>\n",
       "      <td>1</td>\n",
       "    </tr>\n",
       "    <tr>\n",
       "      <th>1</th>\n",
       "      <td>ENST00000382369</td>\n",
       "      <td>55</td>\n",
       "    </tr>\n",
       "    <tr>\n",
       "      <th>2</th>\n",
       "      <td>ENST00000360321</td>\n",
       "      <td>54</td>\n",
       "    </tr>\n",
       "    <tr>\n",
       "      <th>3</th>\n",
       "      <td>ENST00000400269</td>\n",
       "      <td>92</td>\n",
       "    </tr>\n",
       "    <tr>\n",
       "      <th>4</th>\n",
       "      <td>ENST00000382352</td>\n",
       "      <td>2653</td>\n",
       "    </tr>\n",
       "  </tbody>\n",
       "</table>\n",
       "</div>"
      ],
      "text/plain": [
       "     transcript_id  count\n",
       "0  ENST00000608495      1\n",
       "1  ENST00000382369     55\n",
       "2  ENST00000360321     54\n",
       "3  ENST00000400269     92\n",
       "4  ENST00000382352   2653"
      ]
     },
     "execution_count": 7,
     "metadata": {},
     "output_type": "execute_result"
    }
   ],
   "source": [
    "df_poly_truth.head(5)"
   ]
  },
  {
   "cell_type": "code",
   "execution_count": 8,
   "metadata": {
    "collapsed": true
   },
   "outputs": [],
   "source": [
    "truth_id = df_poly_truth.transcript_id"
   ]
  },
  {
   "cell_type": "markdown",
   "metadata": {},
   "source": [
    "## Quant_bootstraps\n",
    "    Read the file quant_bootstraps.tsv\n",
    "    Quant_bootstraps.tsv :containing the matrix of bootstrap experiments containing the final count for each transcript in each round of bootstrapping with a row be a bootstrap output and columns be list of transcripts. "
   ]
  },
  {
   "cell_type": "code",
   "execution_count": 10,
   "metadata": {},
   "outputs": [
    {
     "name": "stdout",
     "output_type": "stream",
     "text": [
      "201\n"
     ]
    }
   ],
   "source": [
    "# Quant_bootstraps.tsv :containing the matrix of bootstrap experiments \n",
    "# containing the final count for each transcript in each round of bootstrapping \n",
    "# with a row be a bootstrap output and columns be list of transcripts. \n",
    "\n",
    "quant_bootstraps = tsv.TsvReader(open(root_path+\"quant_bootstraps.tsv\"))\n",
    "count = 0\n",
    "quant_boot = []\n",
    "for parts in quant_bootstraps:\n",
    "    quant_boot.append(parts)\n",
    "#     print len(parts)\n",
    "print(len(quant_boot))"
   ]
  },
  {
   "cell_type": "code",
   "execution_count": 11,
   "metadata": {
    "collapsed": true
   },
   "outputs": [],
   "source": [
    "df_quant_boot = pd.DataFrame.from_records(quant_boot[1:], columns=quant_boot[0])\n",
    "# print(len(quant_boot[1,:]))"
   ]
  },
  {
   "cell_type": "code",
   "execution_count": 12,
   "metadata": {
    "scrolled": true
   },
   "outputs": [
    {
     "data": {
      "text/html": [
       "<div>\n",
       "<style>\n",
       "    .dataframe thead tr:only-child th {\n",
       "        text-align: right;\n",
       "    }\n",
       "\n",
       "    .dataframe thead th {\n",
       "        text-align: left;\n",
       "    }\n",
       "\n",
       "    .dataframe tbody tr th {\n",
       "        vertical-align: top;\n",
       "    }\n",
       "</style>\n",
       "<table border=\"1\" class=\"dataframe\">\n",
       "  <thead>\n",
       "    <tr style=\"text-align: right;\">\n",
       "      <th></th>\n",
       "      <th>ENST00000382410</th>\n",
       "      <th>ENST00000382398</th>\n",
       "      <th>ENST00000382388</th>\n",
       "      <th>ENST00000334391</th>\n",
       "      <th>ENST00000246105</th>\n",
       "      <th>ENST00000382376</th>\n",
       "      <th>ENST00000608495</th>\n",
       "      <th>ENST00000382369</th>\n",
       "      <th>ENST00000360321</th>\n",
       "      <th>ENST00000400269</th>\n",
       "      <th>...</th>\n",
       "      <th>ENST00000361739</th>\n",
       "      <th>ENST00000361851</th>\n",
       "      <th>ENST00000361899</th>\n",
       "      <th>ENST00000362079</th>\n",
       "      <th>ENST00000361227</th>\n",
       "      <th>ENST00000361335</th>\n",
       "      <th>ENST00000361381</th>\n",
       "      <th>ENST00000361567</th>\n",
       "      <th>ENST00000361681</th>\n",
       "      <th>ENST00000361789</th>\n",
       "    </tr>\n",
       "  </thead>\n",
       "  <tbody>\n",
       "    <tr>\n",
       "      <th>count</th>\n",
       "      <td>200</td>\n",
       "      <td>200</td>\n",
       "      <td>200</td>\n",
       "      <td>200</td>\n",
       "      <td>200</td>\n",
       "      <td>200</td>\n",
       "      <td>200</td>\n",
       "      <td>200</td>\n",
       "      <td>200</td>\n",
       "      <td>200</td>\n",
       "      <td>...</td>\n",
       "      <td>200</td>\n",
       "      <td>200</td>\n",
       "      <td>200</td>\n",
       "      <td>200</td>\n",
       "      <td>200</td>\n",
       "      <td>200</td>\n",
       "      <td>200</td>\n",
       "      <td>200</td>\n",
       "      <td>200</td>\n",
       "      <td>200</td>\n",
       "    </tr>\n",
       "    <tr>\n",
       "      <th>unique</th>\n",
       "      <td>1</td>\n",
       "      <td>1</td>\n",
       "      <td>1</td>\n",
       "      <td>1</td>\n",
       "      <td>1</td>\n",
       "      <td>1</td>\n",
       "      <td>1</td>\n",
       "      <td>200</td>\n",
       "      <td>200</td>\n",
       "      <td>200</td>\n",
       "      <td>...</td>\n",
       "      <td>190</td>\n",
       "      <td>148</td>\n",
       "      <td>187</td>\n",
       "      <td>187</td>\n",
       "      <td>172</td>\n",
       "      <td>165</td>\n",
       "      <td>191</td>\n",
       "      <td>180</td>\n",
       "      <td>185</td>\n",
       "      <td>187</td>\n",
       "    </tr>\n",
       "    <tr>\n",
       "      <th>top</th>\n",
       "      <td>0.0</td>\n",
       "      <td>0.0</td>\n",
       "      <td>0.0</td>\n",
       "      <td>0.0</td>\n",
       "      <td>0.0</td>\n",
       "      <td>0.0</td>\n",
       "      <td>0.0</td>\n",
       "      <td>31.137669328</td>\n",
       "      <td>17.2697468599</td>\n",
       "      <td>61.2402575227</td>\n",
       "      <td>...</td>\n",
       "      <td>340011.0</td>\n",
       "      <td>8220.0</td>\n",
       "      <td>226020.0</td>\n",
       "      <td>350241.0</td>\n",
       "      <td>30662.0</td>\n",
       "      <td>22438.0</td>\n",
       "      <td>415926.0</td>\n",
       "      <td>210106.0</td>\n",
       "      <td>72774.0</td>\n",
       "      <td>155444.0</td>\n",
       "    </tr>\n",
       "    <tr>\n",
       "      <th>freq</th>\n",
       "      <td>200</td>\n",
       "      <td>200</td>\n",
       "      <td>200</td>\n",
       "      <td>200</td>\n",
       "      <td>200</td>\n",
       "      <td>200</td>\n",
       "      <td>200</td>\n",
       "      <td>1</td>\n",
       "      <td>1</td>\n",
       "      <td>1</td>\n",
       "      <td>...</td>\n",
       "      <td>3</td>\n",
       "      <td>4</td>\n",
       "      <td>2</td>\n",
       "      <td>2</td>\n",
       "      <td>3</td>\n",
       "      <td>3</td>\n",
       "      <td>2</td>\n",
       "      <td>3</td>\n",
       "      <td>2</td>\n",
       "      <td>3</td>\n",
       "    </tr>\n",
       "  </tbody>\n",
       "</table>\n",
       "<p>4 rows × 93109 columns</p>\n",
       "</div>"
      ],
      "text/plain": [
       "       ENST00000382410 ENST00000382398 ENST00000382388 ENST00000334391  \\\n",
       "count              200             200             200             200   \n",
       "unique               1               1               1               1   \n",
       "top                0.0             0.0             0.0             0.0   \n",
       "freq               200             200             200             200   \n",
       "\n",
       "       ENST00000246105 ENST00000382376 ENST00000608495 ENST00000382369  \\\n",
       "count              200             200             200             200   \n",
       "unique               1               1               1             200   \n",
       "top                0.0             0.0             0.0    31.137669328   \n",
       "freq               200             200             200               1   \n",
       "\n",
       "       ENST00000360321 ENST00000400269       ...       ENST00000361739  \\\n",
       "count              200             200       ...                   200   \n",
       "unique             200             200       ...                   190   \n",
       "top      17.2697468599   61.2402575227       ...              340011.0   \n",
       "freq                 1               1       ...                     3   \n",
       "\n",
       "       ENST00000361851 ENST00000361899 ENST00000362079 ENST00000361227  \\\n",
       "count              200             200             200             200   \n",
       "unique             148             187             187             172   \n",
       "top             8220.0        226020.0        350241.0         30662.0   \n",
       "freq                 4               2               2               3   \n",
       "\n",
       "       ENST00000361335 ENST00000361381 ENST00000361567 ENST00000361681  \\\n",
       "count              200             200             200             200   \n",
       "unique             165             191             180             185   \n",
       "top            22438.0        415926.0        210106.0         72774.0   \n",
       "freq                 3               2               3               2   \n",
       "\n",
       "       ENST00000361789  \n",
       "count              200  \n",
       "unique             187  \n",
       "top           155444.0  \n",
       "freq                 3  \n",
       "\n",
       "[4 rows x 93109 columns]"
      ]
     },
     "execution_count": 12,
     "metadata": {},
     "output_type": "execute_result"
    }
   ],
   "source": [
    "df_quant_boot.describe()"
   ]
  },
  {
   "cell_type": "code",
   "execution_count": 13,
   "metadata": {
    "collapsed": true
   },
   "outputs": [],
   "source": [
    "id_qb = list(df_quant_boot.columns)"
   ]
  },
  {
   "cell_type": "markdown",
   "metadata": {},
   "source": [
    "### Sort the quant_boot Results\n",
    "#### Attention: there are some ids in truth_id but not in quant_boot"
   ]
  },
  {
   "cell_type": "code",
   "execution_count": 14,
   "metadata": {
    "collapsed": true
   },
   "outputs": [],
   "source": [
    "sort_qb = []\n",
    "use_id = []\n",
    "for id in truth_id:\n",
    "    try:\n",
    "        listed = list(df_quant_boot[id])        \n",
    "    except KeyError:\n",
    "#         print('has No '+id) # there are some ids in truth_id but not in quant_boot\n",
    "        pass\n",
    "    else:\n",
    "        use_id.append(id)\n",
    "        listed.sort()\n",
    "        sort_qb.append(listed)"
   ]
  },
  {
   "cell_type": "markdown",
   "metadata": {},
   "source": [
    "### reverse sort_qb"
   ]
  },
  {
   "cell_type": "code",
   "execution_count": 15,
   "metadata": {
    "collapsed": true
   },
   "outputs": [],
   "source": [
    "sort_qb = list(map(list,zip(*sort_qb)))"
   ]
  },
  {
   "cell_type": "markdown",
   "metadata": {},
   "source": [
    "### transfer to dataframe"
   ]
  },
  {
   "cell_type": "code",
   "execution_count": 16,
   "metadata": {
    "collapsed": true
   },
   "outputs": [],
   "source": [
    "df_qb_sorted = pd.DataFrame.from_records(sort_qb, columns=use_id)"
   ]
  },
  {
   "cell_type": "markdown",
   "metadata": {},
   "source": [
    "## Filter the False"
   ]
  },
  {
   "cell_type": "markdown",
   "metadata": {},
   "source": [
    "### find the value of 2.5% & 97.5% and the false transcript is out of this range"
   ]
  },
  {
   "cell_type": "code",
   "execution_count": 17,
   "metadata": {
    "collapsed": true
   },
   "outputs": [],
   "source": [
    "df_poly_truth = df_poly_truth.set_index(['transcript_id'])"
   ]
  },
  {
   "cell_type": "code",
   "execution_count": 18,
   "metadata": {},
   "outputs": [
    {
     "name": "stdout",
     "output_type": "stream",
     "text": [
      "5\n",
      "195\n"
     ]
    }
   ],
   "source": [
    "sum = len(sort_qb)\n",
    "print(int(sum*0.025))\n",
    "print(int(sum*0.975))\n",
    "percent2dot5 = df_qb_sorted.loc[int(sum*0.025)-1]\n",
    "percent97dot5 = df_qb_sorted.loc[int(sum*0.975)-1]"
   ]
  },
  {
   "cell_type": "markdown",
   "metadata": {},
   "source": [
    "## divide the transcript_id into two group\n",
    "    if the true_count of the id is in the range(2.5%,97.5%)，we will set it in the true_id group.\n",
    "    if the true_coutn of the id is out of the range(2.5%,97.5%), we set it in the false_id group."
   ]
  },
  {
   "cell_type": "code",
   "execution_count": 19,
   "metadata": {
    "collapsed": true
   },
   "outputs": [],
   "source": [
    "true_id = []\n",
    "false_id = []\n",
    "for id in use_id:\n",
    "    down = float(percent2dot5[id])\n",
    "    up = float(percent97dot5[id])\n",
    "    true_count = df_poly_truth.loc[id]\n",
    "    true_count = float(true_count)\n",
    "    if true_count>down and true_count<up:\n",
    "        true_id.append(id)\n",
    "    else:\n",
    "        false_id.append(id)"
   ]
  },
  {
   "cell_type": "markdown",
   "metadata": {},
   "source": [
    "### directly set the transcript_id whose true_count is zeros into the true_id group"
   ]
  },
  {
   "cell_type": "markdown",
   "metadata": {},
   "source": [
    "#### get the different set of id from quant_boot and poly_truth.\n",
    "    This set include the transcripts_id whose true count is zero."
   ]
  },
  {
   "cell_type": "code",
   "execution_count": 20,
   "metadata": {
    "collapsed": true
   },
   "outputs": [],
   "source": [
    "extend_true = list(set(id_qb).difference(set(truth_id)))"
   ]
  },
  {
   "cell_type": "markdown",
   "metadata": {},
   "source": [
    "#### get the extended true_id"
   ]
  },
  {
   "cell_type": "code",
   "execution_count": 21,
   "metadata": {
    "collapsed": true
   },
   "outputs": [],
   "source": [
    "true_id.extend(extend_true)"
   ]
  },
  {
   "cell_type": "markdown",
   "metadata": {},
   "source": [
    "### concatenate the true and false id\n",
    "    we put the true_id and false_id in the same list in sequence, and then we will add label for them."
   ]
  },
  {
   "cell_type": "code",
   "execution_count": 22,
   "metadata": {
    "collapsed": true
   },
   "outputs": [],
   "source": [
    "# concatenate the true and false id in one list\n",
    "all_id = list(true_id)\n",
    "all_id.extend(false_id)"
   ]
  },
  {
   "cell_type": "markdown",
   "metadata": {},
   "source": [
    "### add label for the list\n",
    "    set label for every transcript_id(success(true_id,set as 1),fail(false_id,set as 0))\n",
    "    And them we will merge this labeled list with list of properties in order to get a list which include both properties and label of every transcript."
   ]
  },
  {
   "cell_type": "code",
   "execution_count": 23,
   "metadata": {
    "collapsed": true
   },
   "outputs": [],
   "source": [
    "# add label for the id\n",
    "label = []\n",
    "for i in range(len(true_id)):\n",
    "    label.append(1)\n",
    "for i in range(len(false_id)):\n",
    "    label.append(0)\n",
    "    \n",
    "labeled_id = [all_id,label]\n",
    "labeled = list(map(list,zip(*labeled_id)))"
   ]
  },
  {
   "cell_type": "markdown",
   "metadata": {},
   "source": [
    "## Read Quant.sf\n",
    "    Read the quant.sf file.\n",
    "    Quant.sf :estimated quantifications for each transcript"
   ]
  },
  {
   "cell_type": "code",
   "execution_count": 24,
   "metadata": {
    "collapsed": true
   },
   "outputs": [],
   "source": [
    "# Quant.sf :estimated quantifications for each transcript\n",
    "quant_file = open(root_path+\"quant.sf\")\n",
    "lines = quant_file.readlines()\n",
    "quant_file.close()\n",
    "count = 0\n",
    "quant = []\n",
    "for line in lines:\n",
    "    line = line[:-1]\n",
    "    l = line.split('\\t')\n",
    "    quant.append(l)"
   ]
  },
  {
   "cell_type": "code",
   "execution_count": 25,
   "metadata": {
    "collapsed": true
   },
   "outputs": [],
   "source": [
    "df_quant = pd.DataFrame.from_records(quant[1:], columns=quant[0])"
   ]
  },
  {
   "cell_type": "code",
   "execution_count": 26,
   "metadata": {
    "collapsed": true
   },
   "outputs": [],
   "source": [
    "df_quant.Name = df_quant.Name.astype(str)\n",
    "df_quant.Length = df_quant.Length.astype(int)\n",
    "df_quant.EffectiveLength = df_quant.EffectiveLength.astype(float)\n",
    "df_quant.TPM = df_quant.TPM.astype(float)\n",
    "df_quant.NumReads = df_quant.NumReads.astype(float)"
   ]
  },
  {
   "cell_type": "markdown",
   "metadata": {},
   "source": [
    "## Merge quant.sf and labeled_id to get the useful data for training\n",
    "    labeled_id is a list of transcript_id togather with label(success(true，set as 1) or fail(flase,set as 0))  \n",
    "    And we will add the label with the protery from quant.sf in order to analyze the properties of different label.\n",
    "    Then it will be easy for us to analyze the relation between properties and label and the difference between group of different label."
   ]
  },
  {
   "cell_type": "markdown",
   "metadata": {},
   "source": [
    "#### merge the data"
   ]
  },
  {
   "cell_type": "code",
   "execution_count": 27,
   "metadata": {
    "collapsed": true
   },
   "outputs": [],
   "source": [
    "df_labeled_id = pd.DataFrame.from_records(labeled, columns=['Name','label'])\n",
    "df_labeled_id.Name = df_labeled_id.Name.astype(str)\n",
    "df_labeled = df_labeled_id.merge(df_quant, on='Name')"
   ]
  },
  {
   "cell_type": "markdown",
   "metadata": {},
   "source": [
    "#### put label as the last property"
   ]
  },
  {
   "cell_type": "code",
   "execution_count": 28,
   "metadata": {
    "collapsed": true
   },
   "outputs": [],
   "source": [
    "label = df_labeled.pop('label')\n",
    "df_labeled.insert(5,'label',label)"
   ]
  },
  {
   "cell_type": "markdown",
   "metadata": {},
   "source": [
    "#### set \"data = df_labeled\" for easy processing the data below "
   ]
  },
  {
   "cell_type": "code",
   "execution_count": 29,
   "metadata": {
    "collapsed": true
   },
   "outputs": [],
   "source": [
    "data = df_labeled"
   ]
  },
  {
   "cell_type": "markdown",
   "metadata": {},
   "source": [
    "## Analyze the difference between true & false data"
   ]
  },
  {
   "cell_type": "markdown",
   "metadata": {},
   "source": [
    "### we can easily found that the mean value of TPM & NumReads has great difference between false and true"
   ]
  },
  {
   "cell_type": "code",
   "execution_count": 30,
   "metadata": {
    "scrolled": true
   },
   "outputs": [
    {
     "data": {
      "text/html": [
       "<div>\n",
       "<style>\n",
       "    .dataframe thead tr:only-child th {\n",
       "        text-align: right;\n",
       "    }\n",
       "\n",
       "    .dataframe thead th {\n",
       "        text-align: left;\n",
       "    }\n",
       "\n",
       "    .dataframe tbody tr th {\n",
       "        vertical-align: top;\n",
       "    }\n",
       "</style>\n",
       "<table border=\"1\" class=\"dataframe\">\n",
       "  <thead>\n",
       "    <tr style=\"text-align: right;\">\n",
       "      <th></th>\n",
       "      <th>Length</th>\n",
       "      <th>EffectiveLength</th>\n",
       "      <th>TPM</th>\n",
       "      <th>NumReads</th>\n",
       "      <th>label</th>\n",
       "    </tr>\n",
       "    <tr>\n",
       "      <th>label</th>\n",
       "      <th></th>\n",
       "      <th></th>\n",
       "      <th></th>\n",
       "      <th></th>\n",
       "      <th></th>\n",
       "    </tr>\n",
       "  </thead>\n",
       "  <tbody>\n",
       "    <tr>\n",
       "      <th>0</th>\n",
       "      <td>2445.007350</td>\n",
       "      <td>2245.894343</td>\n",
       "      <td>52.556885</td>\n",
       "      <td>1784.370671</td>\n",
       "      <td>0.0</td>\n",
       "    </tr>\n",
       "    <tr>\n",
       "      <th>1</th>\n",
       "      <td>1905.694197</td>\n",
       "      <td>1706.993431</td>\n",
       "      <td>0.841197</td>\n",
       "      <td>20.235059</td>\n",
       "      <td>1.0</td>\n",
       "    </tr>\n",
       "  </tbody>\n",
       "</table>\n",
       "</div>"
      ],
      "text/plain": [
       "            Length  EffectiveLength        TPM     NumReads  label\n",
       "label                                                             \n",
       "0      2445.007350      2245.894343  52.556885  1784.370671    0.0\n",
       "1      1905.694197      1706.993431   0.841197    20.235059    1.0"
      ]
     },
     "execution_count": 30,
     "metadata": {},
     "output_type": "execute_result"
    }
   ],
   "source": [
    "data.groupby([data.label]).mean()"
   ]
  },
  {
   "cell_type": "markdown",
   "metadata": {},
   "source": [
    "### the max value of TPM & NumReads alse has great difference between false and true"
   ]
  },
  {
   "cell_type": "code",
   "execution_count": 31,
   "metadata": {},
   "outputs": [
    {
     "data": {
      "text/html": [
       "<div>\n",
       "<style>\n",
       "    .dataframe thead tr:only-child th {\n",
       "        text-align: right;\n",
       "    }\n",
       "\n",
       "    .dataframe thead th {\n",
       "        text-align: left;\n",
       "    }\n",
       "\n",
       "    .dataframe tbody tr th {\n",
       "        vertical-align: top;\n",
       "    }\n",
       "</style>\n",
       "<table border=\"1\" class=\"dataframe\">\n",
       "  <thead>\n",
       "    <tr style=\"text-align: right;\">\n",
       "      <th></th>\n",
       "      <th>Name</th>\n",
       "      <th>Length</th>\n",
       "      <th>EffectiveLength</th>\n",
       "      <th>TPM</th>\n",
       "      <th>NumReads</th>\n",
       "    </tr>\n",
       "    <tr>\n",
       "      <th>label</th>\n",
       "      <th></th>\n",
       "      <th></th>\n",
       "      <th></th>\n",
       "      <th></th>\n",
       "      <th></th>\n",
       "    </tr>\n",
       "  </thead>\n",
       "  <tbody>\n",
       "    <tr>\n",
       "      <th>0</th>\n",
       "      <td>ENST00000610278</td>\n",
       "      <td>101518</td>\n",
       "      <td>101318.991</td>\n",
       "      <td>23356.420222</td>\n",
       "      <td>1.109005e+06</td>\n",
       "    </tr>\n",
       "    <tr>\n",
       "      <th>1</th>\n",
       "      <td>ENST00000610279</td>\n",
       "      <td>109224</td>\n",
       "      <td>109024.991</td>\n",
       "      <td>10710.459004</td>\n",
       "      <td>3.769085e+04</td>\n",
       "    </tr>\n",
       "  </tbody>\n",
       "</table>\n",
       "</div>"
      ],
      "text/plain": [
       "                  Name  Length  EffectiveLength           TPM      NumReads\n",
       "label                                                                      \n",
       "0      ENST00000610278  101518       101318.991  23356.420222  1.109005e+06\n",
       "1      ENST00000610279  109224       109024.991  10710.459004  3.769085e+04"
      ]
     },
     "execution_count": 31,
     "metadata": {},
     "output_type": "execute_result"
    }
   ],
   "source": [
    "data.groupby([data.label]).max()"
   ]
  },
  {
   "cell_type": "code",
   "execution_count": 32,
   "metadata": {},
   "outputs": [
    {
     "data": {
      "text/html": [
       "<div>\n",
       "<style>\n",
       "    .dataframe thead tr:only-child th {\n",
       "        text-align: right;\n",
       "    }\n",
       "\n",
       "    .dataframe thead th {\n",
       "        text-align: left;\n",
       "    }\n",
       "\n",
       "    .dataframe tbody tr th {\n",
       "        vertical-align: top;\n",
       "    }\n",
       "</style>\n",
       "<table border=\"1\" class=\"dataframe\">\n",
       "  <thead>\n",
       "    <tr style=\"text-align: right;\">\n",
       "      <th></th>\n",
       "      <th>Name</th>\n",
       "      <th>Length</th>\n",
       "      <th>EffectiveLength</th>\n",
       "      <th>TPM</th>\n",
       "      <th>NumReads</th>\n",
       "    </tr>\n",
       "    <tr>\n",
       "      <th>label</th>\n",
       "      <th></th>\n",
       "      <th></th>\n",
       "      <th></th>\n",
       "      <th></th>\n",
       "      <th></th>\n",
       "    </tr>\n",
       "  </thead>\n",
       "  <tbody>\n",
       "    <tr>\n",
       "      <th>0</th>\n",
       "      <td>ENST00000000233</td>\n",
       "      <td>158</td>\n",
       "      <td>10.987</td>\n",
       "      <td>0.0</td>\n",
       "      <td>0.0</td>\n",
       "    </tr>\n",
       "    <tr>\n",
       "      <th>1</th>\n",
       "      <td>ENST00000000412</td>\n",
       "      <td>21</td>\n",
       "      <td>9.784</td>\n",
       "      <td>0.0</td>\n",
       "      <td>0.0</td>\n",
       "    </tr>\n",
       "  </tbody>\n",
       "</table>\n",
       "</div>"
      ],
      "text/plain": [
       "                  Name  Length  EffectiveLength  TPM  NumReads\n",
       "label                                                         \n",
       "0      ENST00000000233     158           10.987  0.0       0.0\n",
       "1      ENST00000000412      21            9.784  0.0       0.0"
      ]
     },
     "execution_count": 32,
     "metadata": {},
     "output_type": "execute_result"
    }
   ],
   "source": [
    "data.groupby([data.label]).min()"
   ]
  },
  {
   "cell_type": "code",
   "execution_count": 33,
   "metadata": {},
   "outputs": [
    {
     "data": {
      "text/html": [
       "<div>\n",
       "<style>\n",
       "    .dataframe thead tr:only-child th {\n",
       "        text-align: right;\n",
       "    }\n",
       "\n",
       "    .dataframe thead th {\n",
       "        text-align: left;\n",
       "    }\n",
       "\n",
       "    .dataframe tbody tr th {\n",
       "        vertical-align: top;\n",
       "    }\n",
       "</style>\n",
       "<table border=\"1\" class=\"dataframe\">\n",
       "  <thead>\n",
       "    <tr style=\"text-align: right;\">\n",
       "      <th></th>\n",
       "      <th>Length</th>\n",
       "      <th>EffectiveLength</th>\n",
       "      <th>TPM</th>\n",
       "      <th>NumReads</th>\n",
       "    </tr>\n",
       "    <tr>\n",
       "      <th>label</th>\n",
       "      <th></th>\n",
       "      <th></th>\n",
       "      <th></th>\n",
       "      <th></th>\n",
       "    </tr>\n",
       "  </thead>\n",
       "  <tbody>\n",
       "    <tr>\n",
       "      <th>0</th>\n",
       "      <td>2380.728560</td>\n",
       "      <td>2380.669848</td>\n",
       "      <td>448.368497</td>\n",
       "      <td>15740.352178</td>\n",
       "    </tr>\n",
       "    <tr>\n",
       "      <th>1</th>\n",
       "      <td>2055.905694</td>\n",
       "      <td>2055.526264</td>\n",
       "      <td>45.873037</td>\n",
       "      <td>235.234059</td>\n",
       "    </tr>\n",
       "  </tbody>\n",
       "</table>\n",
       "</div>"
      ],
      "text/plain": [
       "            Length  EffectiveLength         TPM      NumReads\n",
       "label                                                        \n",
       "0      2380.728560      2380.669848  448.368497  15740.352178\n",
       "1      2055.905694      2055.526264   45.873037    235.234059"
      ]
     },
     "execution_count": 33,
     "metadata": {},
     "output_type": "execute_result"
    }
   ],
   "source": [
    "data.groupby([data.label]).std()"
   ]
  },
  {
   "cell_type": "markdown",
   "metadata": {
    "collapsed": true
   },
   "source": [
    "## Eq_classes.txt\n",
    "    Eq_classes.txt: list of equivalence classes and their information"
   ]
  },
  {
   "cell_type": "code",
   "execution_count": 25,
   "metadata": {
    "collapsed": true
   },
   "outputs": [],
   "source": [
    "file = open(root_path+\"eq_classes.txt\")\n",
    "lines = file.readlines()\n",
    "file.close()"
   ]
  },
  {
   "cell_type": "code",
   "execution_count": 26,
   "metadata": {
    "collapsed": true
   },
   "outputs": [],
   "source": [
    "counts_transcript = lines[0]\n",
    "counts_transcript = int(counts_transcript[:-1])\n",
    "counts_class = lines[1]\n",
    "counts_class = int(counts_class[:-1])"
   ]
  },
  {
   "cell_type": "code",
   "execution_count": 27,
   "metadata": {
    "collapsed": true
   },
   "outputs": [],
   "source": [
    "lines = lines[2:]"
   ]
  },
  {
   "cell_type": "markdown",
   "metadata": {},
   "source": [
    "### get the sequence and order of id"
   ]
  },
  {
   "cell_type": "code",
   "execution_count": 28,
   "metadata": {
    "collapsed": true
   },
   "outputs": [],
   "source": [
    "seq_id=[]\n",
    "for id in lines[0:counts_transcript]:\n",
    "    seq_id.append(id[:-1])"
   ]
  },
  {
   "cell_type": "code",
   "execution_count": 29,
   "metadata": {
    "collapsed": true
   },
   "outputs": [],
   "source": [
    "lines = lines[counts_transcript:]"
   ]
  },
  {
   "cell_type": "code",
   "execution_count": 33,
   "metadata": {},
   "outputs": [
    {
     "data": {
      "text/plain": [
       "'1\\t61539\\t385\\n'"
      ]
     },
     "execution_count": 33,
     "metadata": {},
     "output_type": "execute_result"
    }
   ],
   "source": [
    "lines[0]"
   ]
  },
  {
   "cell_type": "code",
   "execution_count": 34,
   "metadata": {
    "collapsed": true
   },
   "outputs": [],
   "source": [
    "list_class = []\n",
    "for line in lines:\n",
    "    li = line[:-1].split('\\t')\n",
    "    list_class.append(li)"
   ]
  },
  {
   "cell_type": "code",
   "execution_count": 35,
   "metadata": {},
   "outputs": [
    {
     "data": {
      "text/plain": [
       "['1', '61539', '385']"
      ]
     },
     "execution_count": 35,
     "metadata": {},
     "output_type": "execute_result"
    }
   ],
   "source": [
    "list_class[0]"
   ]
  },
  {
   "cell_type": "code",
   "execution_count": 36,
   "metadata": {},
   "outputs": [
    {
     "data": {
      "text/plain": [
       "['5', '83713', '83714', '83715', '83716', '83717', '128']"
      ]
     },
     "execution_count": 36,
     "metadata": {},
     "output_type": "execute_result"
    }
   ],
   "source": [
    "list_class[-1]"
   ]
  }
 ],
 "metadata": {
  "kernelspec": {
   "display_name": "Python 3",
   "language": "python",
   "name": "python3"
  },
  "language_info": {
   "codemirror_mode": {
    "name": "ipython",
    "version": 3
   },
   "file_extension": ".py",
   "mimetype": "text/x-python",
   "name": "python",
   "nbconvert_exporter": "python",
   "pygments_lexer": "ipython3",
   "version": "3.6.2"
  }
 },
 "nbformat": 4,
 "nbformat_minor": 2
}
