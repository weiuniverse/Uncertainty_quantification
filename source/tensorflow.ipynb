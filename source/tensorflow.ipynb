{
 "cells": [
  {
   "cell_type": "code",
   "execution_count": null,
   "metadata": {
    "collapsed": true
   },
   "outputs": [],
   "source": [
    "# tf Graph Input\n",
    "X = tf.placeholder(tf.float32,[None,4])\n",
    "Y = tf.placeholder(tf.float32,[None,1])\n",
    "\n",
    "# Set model weights\n",
    "W = tf.Variable(tf.zeros([4,1]), dtype = tf.float32,name=\"weight\")\n",
    "b = tf.Variable(tf.zeros(1), dtype=tf.float32,name=\"bias\")\n",
    "\n",
    "# W = tf.Variable(tf.zeros([784, 10]))\n",
    "# b = tf.Variable(tf.zeros([10]))\n",
    "# Construct a linear model\n",
    "\n",
    "pred = tf.add(X*W, b)\n",
    "\n",
    "# Mean squared error\n",
    "cost = tf.reduce_sum(tf.pow(pred-Y, 2))/(2*n_samples)\n",
    "# Gradient descent\n",
    "optimizer = tf.train.GradientDescentOptimizer(learning_rate).minimize(cost)"
   ]
  },
  {
   "cell_type": "code",
   "execution_count": null,
   "metadata": {
    "collapsed": true
   },
   "outputs": [],
   "source": [
    "# Initialize the variables (i.e. assign their default value)\n",
    "init = tf.global_variables_initializer()"
   ]
  },
  {
   "cell_type": "code",
   "execution_count": null,
   "metadata": {
    "collapsed": true
   },
   "outputs": [],
   "source": [
    "# Start training\n",
    "\n",
    "with tf.Session() as sess:\n",
    "    sess.run(init)\n",
    "    # Fit all training data\n",
    "    for epoch in range(training_epochs):  \n",
    "        sess.run(optimizer, feed_dict={X: train_X, Y: train_Y})\n",
    "        #Display logs per epoch step\n",
    "#         if (epoch+1) % display_step == 0:\n",
    "#             c = sess.run(cost, feed_dict={X: train_X, Y:train_Y})\n",
    "#             print (\"Epoch:\", '%04d' % (epoch+1), \"cost=\", \"{:.9f}\".format(c), \\\n",
    "#                 \"W=\", sess.run(W), \"b=\", sess.run(b))\n",
    "\n",
    "    print (\"Optimization Finished!\")\n",
    "#     training_cost = sess.run(cost, feed_dict={X: train_X, Y: train_Y})\n",
    "    print (\"Training cost=\", training_cost, \"W=\", sess.run(W), \"b=\", sess.run(b), '\\n')\n",
    "\n",
    "    #Graphic display\n",
    "#     plt.plot(train_X, train_Y, 'ro', label='Original data')\n",
    "#     plt.plot(train_X, sess.run(W) * train_X + sess.run(b), label='Fitted line')\n",
    "#     plt.legend()\n",
    "#     plt.show()"
   ]
  }
 ],
 "metadata": {
  "kernelspec": {
   "display_name": "Python 3",
   "language": "python",
   "name": "python3"
  },
  "language_info": {
   "codemirror_mode": {
    "name": "ipython",
    "version": 3
   },
   "file_extension": ".py",
   "mimetype": "text/x-python",
   "name": "python",
   "nbconvert_exporter": "python",
   "pygments_lexer": "ipython3",
   "version": "3.6.3"
  }
 },
 "nbformat": 4,
 "nbformat_minor": 2
}
