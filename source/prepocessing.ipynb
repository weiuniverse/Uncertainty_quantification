{
 "cells": [
  {
   "cell_type": "code",
   "execution_count": 1,
   "metadata": {
    "collapsed": true
   },
   "outputs": [],
   "source": [
    "import tsv"
   ]
  },
  {
   "cell_type": "code",
   "execution_count": 2,
   "metadata": {
    "collapsed": true
   },
   "outputs": [],
   "source": [
    "# Poly_truth.tsv: true counts for each transcript\n",
    "truth = tsv.TsvReader(open(\"../data/poly_mo/poly_truth.tsv\"))\n",
    "count1 = 0\n",
    "for parts in truth:\n",
    "    # Here parts is a list of strings, one per tab-separated column.\n",
    "    # Make sure you handle not having enough fields, or not being able to\n",
    "    # parse numbers where you expect them.\n",
    "    # print(\"Record with {} fields: {}\".format(len(parts), parts))\n",
    "    count1 = count1 + 1\n",
    "#     print parts"
   ]
  },
  {
   "cell_type": "code",
   "execution_count": 3,
   "metadata": {},
   "outputs": [
    {
     "name": "stdout",
     "output_type": "stream",
     "text": [
      "201\n"
     ]
    }
   ],
   "source": [
    "# Quant_bootstraps.tsv :containing the matrix of bootstrap experiments \n",
    "# containing the final count for each transcript in each round of bootstrapping \n",
    "# with a row be a bootstrap output and columns be list of transcripts.\n",
    "quant_bootstraps = tsv.TsvReader(open(\"../data/poly_mo/quant_bootstraps.tsv\"))\n",
    "count = 0\n",
    "for parts in quant_bootstraps:\n",
    "    # Here parts is a list of strings, one per tab-separated column.\n",
    "    # Make sure you handle not having enough fields, or not being able to\n",
    "    # parse numbers where you expect them.\n",
    "    # print(\"Record with {} fields: {}\".format(len(parts), parts))\n",
    "    count = count + 1\n",
    "    # print len(parts)\n",
    "print count"
   ]
  },
  {
   "cell_type": "code",
   "execution_count": 2,
   "metadata": {},
   "outputs": [
    {
     "name": "stdout",
     "output_type": "stream",
     "text": [
      "[['Name', 'Length', 'EffectiveLength', 'TPM', 'NumReads'], ['ENST00000382410', '587', '388.005', '0.000000', '0.000000'], ['ENST00000382398', '655', '456.001', '0.000000', '0.000000'], ['ENST00000382388', '514', '315.007', '0.000000', '0.000000'], ['ENST00000334391', '373', '174.012', '0.000000', '0.000000'], ['ENST00000246105', '698', '499.000', '0.000000', '0.000000'], ['ENST00000382376', '2121', '1921.991', '0.000000', '0.000000'], ['ENST00000608495', '1672', '1472.991', '0.000000', '0.000000'], ['ENST00000382369', '1420', '1220.991', '1.180968', '46.855146'], ['ENST00000360321', '1575', '1375.991', '0.912080', '40.780781'], ['ENST00000400269', '1022', '822.991', '2.705958', '72.364073'], ['ENST00000382352', '3229', '3029.991', '20.638372', '2032.000000'], ['ENST00000342665', '4627', '4427.991', '13.886148', '1998.000000'], ['ENST00000544632', '2868', '2668.991', '0.000000', '0.000000'], ['ENST00000382291', '2088', '1888.991', '0.000000', '0.000000'], ['ENST00000382285', '1047', '847.991', '0.000000', '0.000000'], ['ENST00000470439', '697', '498.000', '0.000000', '0.000000'], ['ENST00000609179', '578', '379.005', '14.940537', '184.000000'], ['ENST00000609504', '582', '383.005', '0.000000', '0.000000'], ['ENST00000608875', '941', '741.998', '0.000000', '0.000000'], ['ENST00000608736', '712', '513.000', '0.000000', '0.000000'], ['ENST00000217233', '2499', '2299.991', '3.581666', '267.681402'], ['ENST00000449710', '1070', '870.991', '8.234501', '233.054648'], ['ENST00000422053', '1533', '1333.991', '4.643081', '201.263950'], ['ENST00000475269', '1200', '1000.991', '0.000000', '0.000000'], ['ENST00000400247', '790', '590.998', '0.000000', '0.000000'], ['ENST00000411647', '593', '394.004', '53.189926', '680.984898'], ['ENST00000441733', '961', '761.998', '0.000000', '0.000000'], ['ENST00000414880', '765', '565.999', '0.055193', '1.015102'], ['ENST00000356286', '2774', '2574.991', '0.000000', '0.000000'], ['ENST00000353660', '2511', '2311.991', '0.000000', '0.000000'], ['ENST00000382181', '2208', '2008.991', '0.000000', '0.000000'], ['ENST00000354200', '4466', '4266.991', '5.380345', '746.000000'], ['ENST00000609525', '581', '382.005', '0.000000', '0.000000'], ['ENST00000400227', '1483', '1283.991', '0.000000', '0.000000'], ['ENST00000349736', '4299', '4099.991', '0.000000', '0.000000'], ['ENST00000217244', '4416', '4216.991', '26.012769', '3564.480253'], ['ENST00000400217', '1451', '1251.991', '0.000000', '0.000000'], ['ENST00000460062', '552', '353.005', '15.124547', '173.488438'], ['ENST00000608066', '577', '378.005', '3.340497', '41.031309'], ['ENST00000246080', '1555', '1355.991', '0.000000', '0.000000'], ['ENST00000381962', '2698', '2487.991', '7.384458', '597.000000'], ['ENST00000488788', '2714', '2514.991', '0.000000', '0.000000'], ['ENST00000246104', '3577', '3377.991', '0.036441', '4.000000'], ['ENST00000217254', '2598', '2398.991', '0.000000', '0.000000'], ['ENST00000381944', '3060', '2860.991', '0.000000', '0.000000'], ['ENST00000541082', '1638', '1438.991', '1.160601', '54.268514'], ['ENST00000381941', '1809', '1609.991', '0.000000', '0.000000'], ['ENST00000304189', '1856', '1656.991', '0.000000', '0.000000'], ['ENST00000246100', '1619', '1419.991', '0.000571', '0.026354'], ['ENST00000381939', '1737', '1537.991', '0.490380', '24.507194'], ['ENST00000505691', '1328', '1128.991', '1.395581', '51.197938'], ['ENST00000381922', '1922', '1722.991', '0.000000', '0.000000'], ['ENST00000546022', '1702', '1502.991', '0.000000', '0.000000'], ['ENST00000217260', '2707', '2507.991', '0.000000', '0.000000'], ['ENST00000400634', '722', '523.000', '0.000000', '0.000000'], ['ENST00000381899', '704', '505.000', '45.131283', '740.587197'], ['ENST00000333082', '3686', '3486.991', '0.000000', '0.000000'], ['ENST00000335877', '4290', '4090.991', '0.000000', '0.000000'], ['ENST00000435720', '319', '120.015', '4.846424', '18.900025'], ['ENST00000381898', '921', '721.998', '27.173515', '637.512777'], ['ENST00000246015', '2042', '1842.991', '0.000000', '0.000000'], ['ENST00000438768', '1179', '979.991', '0.000000', '0.000000'], ['ENST00000381894', '1730', '1530.991', '0.020101', '1.000000'], ['ENST00000429036', '983', '783.998', '0.000000', '0.000000'], ['ENST00000400633', '1604', '1404.991', '0.000000', '0.000000'], ['ENST00000246108', '492', '293.007', '0.000000', '0.000000'], ['ENST00000409241', '1808', '1608.991', '0.000000', '0.000000'], ['ENST00000402452', '1707', '1507.991', '0.000000', '0.000000'], ['ENST00000381882', '1659', '1459.991', '0.000000', '0.000000'], ['ENST00000381873', '4995', '4795.991', '0.121964', '19.007168'], ['ENST00000381867', '5533', '5333.991', '0.311513', '53.992832'], ['ENST00000381808', '1295', '1095.991', '0.870458', '31.000000'], ['ENST00000381812', '1484', '1284.991', '0.000000', '0.000000'], ['ENST00000339987', '1404', '1204.991', '0.000000', '0.000000'], ['ENST00000360779', '1519', '1319.991', '0.000000', '0.000000'], ['ENST00000537552', '1328', '1128.991', '0.000000', '0.000000'], ['ENST00000381724', '976', '776.998', '0.000000', '0.000000'], ['ENST00000381715', '705', '506.000', '62.014285', '1019.645889'], ['ENST00000400137', '1622', '1422.991', '144.036761', '6660.125040'], ['ENST00000381719', '747', '547.999', '60.653799', '1080.052986'], ['ENST00000439640', '279', '80.078', '0.000000', '0.000000'], ['ENST00000353088', '2611', '2411.991', '0.000000', '0.000000'], ['ENST00000476071', '2800', '2600.991', '19.029813', '1608.348999'], ['ENST00000216879', '3568', '3368.991', '7.957441', '871.124452'], ['ENST00000381658', '3451', '3251.991', '29.123632', '3077.526549'], ['ENST00000350991', '1349', '1149.991', '0.000000', '0.000000'], ['ENST00000359801', '2642', '2442.991', '0.000000', '0.000000'], ['ENST00000444444', '884', '684.998', '0.000000', '0.000000'], ['ENST00000537284', '1480', '1280.991', '0.000000', '0.000000'], ['ENST00000429387', '416', '217.010', '2.552618', '18.000000'], ['ENST00000381621', '823', '623.998', '0.000000', '0.000000'], ['ENST00000381623', '1958', '1758.991', '0.000000', '0.000000'], ['ENST00000565076', '814', '614.998', '0.000000', '0.000000'], ['ENST00000567028', '568', '369.005', '0.000000', '0.000000'], ['ENST00000262929', '1659', '1459.991', '0.000000', '0.000000'], ['ENST00000563840', '583', '384.005', '0.000000', '0.000000'], ['ENST00000569387', '947', '747.998', '48.705194', '1183.812133'], ['ENST00000566055', '928', '728.998', '0.176791', '4.187867'], ['ENST00000565087', '907', '707.998', '0.000000', '0.000000']]\n"
     ]
    }
   ],
   "source": [
    "# Quant.sf :estimated quantifications for each transcript\n",
    "quant = open(\"../data/poly_mo/quant.sf\")\n",
    "lines = quant.readlines()\n",
    "# print l\n",
    "count = 0\n",
    "quant = []\n",
    "for line in lines:\n",
    "    line = line[:-1]\n",
    "    l = line.split('\\t')\n",
    "    quant.append(l)\n",
    "print quant[0:100]\n",
    "\n",
    "#     print len(l)\n",
    "#     if len(l) <> 5:\n",
    "#         print \"error\"\n",
    "#         break"
   ]
  },
  {
   "cell_type": "code",
   "execution_count": 5,
   "metadata": {},
   "outputs": [],
   "source": [
    "import pandas as pd\n",
    "df = pd.DataFrame.from_records(quant[1:], columns=quant[0])"
   ]
  },
  {
   "cell_type": "code",
   "execution_count": 6,
   "metadata": {},
   "outputs": [
    {
     "data": {
      "text/html": [
       "<div>\n",
       "<style>\n",
       "    .dataframe thead tr:only-child th {\n",
       "        text-align: right;\n",
       "    }\n",
       "\n",
       "    .dataframe thead th {\n",
       "        text-align: left;\n",
       "    }\n",
       "\n",
       "    .dataframe tbody tr th {\n",
       "        vertical-align: top;\n",
       "    }\n",
       "</style>\n",
       "<table border=\"1\" class=\"dataframe\">\n",
       "  <thead>\n",
       "    <tr style=\"text-align: right;\">\n",
       "      <th></th>\n",
       "      <th>Name</th>\n",
       "      <th>Length</th>\n",
       "      <th>EffectiveLength</th>\n",
       "      <th>TPM</th>\n",
       "      <th>NumReads</th>\n",
       "    </tr>\n",
       "  </thead>\n",
       "  <tbody>\n",
       "    <tr>\n",
       "      <th>count</th>\n",
       "      <td>93109</td>\n",
       "      <td>93109</td>\n",
       "      <td>93109</td>\n",
       "      <td>93109</td>\n",
       "      <td>93109</td>\n",
       "    </tr>\n",
       "    <tr>\n",
       "      <th>unique</th>\n",
       "      <td>93109</td>\n",
       "      <td>8668</td>\n",
       "      <td>8665</td>\n",
       "      <td>28913</td>\n",
       "      <td>22792</td>\n",
       "    </tr>\n",
       "    <tr>\n",
       "      <th>top</th>\n",
       "      <td>ENST00000532502</td>\n",
       "      <td>582</td>\n",
       "      <td>383.005</td>\n",
       "      <td>0.000000</td>\n",
       "      <td>0.000000</td>\n",
       "    </tr>\n",
       "    <tr>\n",
       "      <th>freq</th>\n",
       "      <td>1</td>\n",
       "      <td>315</td>\n",
       "      <td>315</td>\n",
       "      <td>63340</td>\n",
       "      <td>63133</td>\n",
       "    </tr>\n",
       "  </tbody>\n",
       "</table>\n",
       "</div>"
      ],
      "text/plain": [
       "                   Name Length EffectiveLength       TPM  NumReads\n",
       "count             93109  93109           93109     93109     93109\n",
       "unique            93109   8668            8665     28913     22792\n",
       "top     ENST00000532502    582         383.005  0.000000  0.000000\n",
       "freq                  1    315             315     63340     63133"
      ]
     },
     "execution_count": 6,
     "metadata": {},
     "output_type": "execute_result"
    }
   ],
   "source": [
    "df.describe()"
   ]
  },
  {
   "cell_type": "code",
   "execution_count": 7,
   "metadata": {
    "scrolled": true
   },
   "outputs": [
    {
     "name": "stdout",
     "output_type": "stream",
     "text": [
      "<class 'pandas.core.frame.DataFrame'>\n",
      "RangeIndex: 93109 entries, 0 to 93108\n",
      "Data columns (total 5 columns):\n",
      "Name               93109 non-null object\n",
      "Length             93109 non-null object\n",
      "EffectiveLength    93109 non-null object\n",
      "TPM                93109 non-null object\n",
      "NumReads           93109 non-null object\n",
      "dtypes: object(5)\n",
      "memory usage: 3.6+ MB\n"
     ]
    }
   ],
   "source": [
    "df.info()"
   ]
  },
  {
   "cell_type": "code",
   "execution_count": 8,
   "metadata": {
    "scrolled": true
   },
   "outputs": [
    {
     "data": {
      "text/html": [
       "<div>\n",
       "<style>\n",
       "    .dataframe thead tr:only-child th {\n",
       "        text-align: right;\n",
       "    }\n",
       "\n",
       "    .dataframe thead th {\n",
       "        text-align: left;\n",
       "    }\n",
       "\n",
       "    .dataframe tbody tr th {\n",
       "        vertical-align: top;\n",
       "    }\n",
       "</style>\n",
       "<table border=\"1\" class=\"dataframe\">\n",
       "  <thead>\n",
       "    <tr style=\"text-align: right;\">\n",
       "      <th></th>\n",
       "      <th>Name</th>\n",
       "      <th>Length</th>\n",
       "      <th>EffectiveLength</th>\n",
       "      <th>TPM</th>\n",
       "      <th>NumReads</th>\n",
       "    </tr>\n",
       "  </thead>\n",
       "  <tbody>\n",
       "    <tr>\n",
       "      <th>0</th>\n",
       "      <td>ENST00000382410</td>\n",
       "      <td>587</td>\n",
       "      <td>388.005</td>\n",
       "      <td>0.000000</td>\n",
       "      <td>0.000000</td>\n",
       "    </tr>\n",
       "    <tr>\n",
       "      <th>1</th>\n",
       "      <td>ENST00000382398</td>\n",
       "      <td>655</td>\n",
       "      <td>456.001</td>\n",
       "      <td>0.000000</td>\n",
       "      <td>0.000000</td>\n",
       "    </tr>\n",
       "    <tr>\n",
       "      <th>2</th>\n",
       "      <td>ENST00000382388</td>\n",
       "      <td>514</td>\n",
       "      <td>315.007</td>\n",
       "      <td>0.000000</td>\n",
       "      <td>0.000000</td>\n",
       "    </tr>\n",
       "    <tr>\n",
       "      <th>3</th>\n",
       "      <td>ENST00000334391</td>\n",
       "      <td>373</td>\n",
       "      <td>174.012</td>\n",
       "      <td>0.000000</td>\n",
       "      <td>0.000000</td>\n",
       "    </tr>\n",
       "    <tr>\n",
       "      <th>4</th>\n",
       "      <td>ENST00000246105</td>\n",
       "      <td>698</td>\n",
       "      <td>499.000</td>\n",
       "      <td>0.000000</td>\n",
       "      <td>0.000000</td>\n",
       "    </tr>\n",
       "  </tbody>\n",
       "</table>\n",
       "</div>"
      ],
      "text/plain": [
       "              Name Length EffectiveLength       TPM  NumReads\n",
       "0  ENST00000382410    587         388.005  0.000000  0.000000\n",
       "1  ENST00000382398    655         456.001  0.000000  0.000000\n",
       "2  ENST00000382388    514         315.007  0.000000  0.000000\n",
       "3  ENST00000334391    373         174.012  0.000000  0.000000\n",
       "4  ENST00000246105    698         499.000  0.000000  0.000000"
      ]
     },
     "execution_count": 8,
     "metadata": {},
     "output_type": "execute_result"
    }
   ],
   "source": [
    "df.head(5)"
   ]
  },
  {
   "cell_type": "code",
   "execution_count": 13,
   "metadata": {},
   "outputs": [],
   "source": [
    "df.Name = df.Name.astype(str)\n",
    "df.Length = df.Length.astype(int)\n",
    "df.EffectiveLength = df.EffectiveLength.astype(float)\n",
    "df.TPM = df.TPM.astype(float)\n",
    "df.NumReads = df.NumReads.astype(float)"
   ]
  },
  {
   "cell_type": "code",
   "execution_count": 14,
   "metadata": {},
   "outputs": [
    {
     "data": {
      "text/html": [
       "<div>\n",
       "<style>\n",
       "    .dataframe thead tr:only-child th {\n",
       "        text-align: right;\n",
       "    }\n",
       "\n",
       "    .dataframe thead th {\n",
       "        text-align: left;\n",
       "    }\n",
       "\n",
       "    .dataframe tbody tr th {\n",
       "        vertical-align: top;\n",
       "    }\n",
       "</style>\n",
       "<table border=\"1\" class=\"dataframe\">\n",
       "  <thead>\n",
       "    <tr style=\"text-align: right;\">\n",
       "      <th></th>\n",
       "      <th>Name</th>\n",
       "      <th>Length</th>\n",
       "      <th>EffectiveLength</th>\n",
       "      <th>TPM</th>\n",
       "      <th>NumReads</th>\n",
       "    </tr>\n",
       "  </thead>\n",
       "  <tbody>\n",
       "    <tr>\n",
       "      <th>0</th>\n",
       "      <td>ENST00000382410</td>\n",
       "      <td>587</td>\n",
       "      <td>388.005</td>\n",
       "      <td>0.0</td>\n",
       "      <td>0.0</td>\n",
       "    </tr>\n",
       "    <tr>\n",
       "      <th>1</th>\n",
       "      <td>ENST00000382398</td>\n",
       "      <td>655</td>\n",
       "      <td>456.001</td>\n",
       "      <td>0.0</td>\n",
       "      <td>0.0</td>\n",
       "    </tr>\n",
       "    <tr>\n",
       "      <th>2</th>\n",
       "      <td>ENST00000382388</td>\n",
       "      <td>514</td>\n",
       "      <td>315.007</td>\n",
       "      <td>0.0</td>\n",
       "      <td>0.0</td>\n",
       "    </tr>\n",
       "    <tr>\n",
       "      <th>3</th>\n",
       "      <td>ENST00000334391</td>\n",
       "      <td>373</td>\n",
       "      <td>174.012</td>\n",
       "      <td>0.0</td>\n",
       "      <td>0.0</td>\n",
       "    </tr>\n",
       "    <tr>\n",
       "      <th>4</th>\n",
       "      <td>ENST00000246105</td>\n",
       "      <td>698</td>\n",
       "      <td>499.000</td>\n",
       "      <td>0.0</td>\n",
       "      <td>0.0</td>\n",
       "    </tr>\n",
       "  </tbody>\n",
       "</table>\n",
       "</div>"
      ],
      "text/plain": [
       "              Name  Length  EffectiveLength  TPM  NumReads\n",
       "0  ENST00000382410     587          388.005  0.0       0.0\n",
       "1  ENST00000382398     655          456.001  0.0       0.0\n",
       "2  ENST00000382388     514          315.007  0.0       0.0\n",
       "3  ENST00000334391     373          174.012  0.0       0.0\n",
       "4  ENST00000246105     698          499.000  0.0       0.0"
      ]
     },
     "execution_count": 14,
     "metadata": {},
     "output_type": "execute_result"
    }
   ],
   "source": [
    "df.head(5)"
   ]
  },
  {
   "cell_type": "code",
   "execution_count": 15,
   "metadata": {},
   "outputs": [
    {
     "data": {
      "text/html": [
       "<div>\n",
       "<style>\n",
       "    .dataframe thead tr:only-child th {\n",
       "        text-align: right;\n",
       "    }\n",
       "\n",
       "    .dataframe thead th {\n",
       "        text-align: left;\n",
       "    }\n",
       "\n",
       "    .dataframe tbody tr th {\n",
       "        vertical-align: top;\n",
       "    }\n",
       "</style>\n",
       "<table border=\"1\" class=\"dataframe\">\n",
       "  <thead>\n",
       "    <tr style=\"text-align: right;\">\n",
       "      <th></th>\n",
       "      <th>Length</th>\n",
       "      <th>EffectiveLength</th>\n",
       "      <th>TPM</th>\n",
       "      <th>NumReads</th>\n",
       "    </tr>\n",
       "  </thead>\n",
       "  <tbody>\n",
       "    <tr>\n",
       "      <th>count</th>\n",
       "      <td>93109.000000</td>\n",
       "      <td>93109.000000</td>\n",
       "      <td>93109.000000</td>\n",
       "      <td>9.310900e+04</td>\n",
       "    </tr>\n",
       "    <tr>\n",
       "      <th>mean</th>\n",
       "      <td>2008.924164</td>\n",
       "      <td>1810.144491</td>\n",
       "      <td>10.740100</td>\n",
       "      <td>3.579084e+02</td>\n",
       "    </tr>\n",
       "    <tr>\n",
       "      <th>std</th>\n",
       "      <td>2132.499138</td>\n",
       "      <td>2132.174682</td>\n",
       "      <td>201.478857</td>\n",
       "      <td>6.924434e+03</td>\n",
       "    </tr>\n",
       "    <tr>\n",
       "      <th>min</th>\n",
       "      <td>21.000000</td>\n",
       "      <td>9.784000</td>\n",
       "      <td>0.000000</td>\n",
       "      <td>0.000000e+00</td>\n",
       "    </tr>\n",
       "    <tr>\n",
       "      <th>25%</th>\n",
       "      <td>640.000000</td>\n",
       "      <td>441.002000</td>\n",
       "      <td>0.000000</td>\n",
       "      <td>0.000000e+00</td>\n",
       "    </tr>\n",
       "    <tr>\n",
       "      <th>50%</th>\n",
       "      <td>1344.000000</td>\n",
       "      <td>1144.991000</td>\n",
       "      <td>0.000000</td>\n",
       "      <td>0.000000e+00</td>\n",
       "    </tr>\n",
       "    <tr>\n",
       "      <th>75%</th>\n",
       "      <td>2640.000000</td>\n",
       "      <td>2439.991000</td>\n",
       "      <td>0.173865</td>\n",
       "      <td>6.000000e+00</td>\n",
       "    </tr>\n",
       "    <tr>\n",
       "      <th>max</th>\n",
       "      <td>109224.000000</td>\n",
       "      <td>109024.991000</td>\n",
       "      <td>23356.420222</td>\n",
       "      <td>1.109005e+06</td>\n",
       "    </tr>\n",
       "  </tbody>\n",
       "</table>\n",
       "</div>"
      ],
      "text/plain": [
       "              Length  EffectiveLength           TPM      NumReads\n",
       "count   93109.000000     93109.000000  93109.000000  9.310900e+04\n",
       "mean     2008.924164      1810.144491     10.740100  3.579084e+02\n",
       "std      2132.499138      2132.174682    201.478857  6.924434e+03\n",
       "min        21.000000         9.784000      0.000000  0.000000e+00\n",
       "25%       640.000000       441.002000      0.000000  0.000000e+00\n",
       "50%      1344.000000      1144.991000      0.000000  0.000000e+00\n",
       "75%      2640.000000      2439.991000      0.173865  6.000000e+00\n",
       "max    109224.000000    109024.991000  23356.420222  1.109005e+06"
      ]
     },
     "execution_count": 15,
     "metadata": {},
     "output_type": "execute_result"
    }
   ],
   "source": [
    "df.describe()"
   ]
  },
  {
   "cell_type": "code",
   "execution_count": null,
   "metadata": {
    "collapsed": true
   },
   "outputs": [],
   "source": []
  },
  {
   "cell_type": "code",
   "execution_count": null,
   "metadata": {
    "collapsed": true
   },
   "outputs": [],
   "source": [
    "# Eq_classes.txt: list of equivalence classes and their information"
   ]
  }
 ],
 "metadata": {
  "kernelspec": {
   "display_name": "Python 2",
   "language": "python",
   "name": "python2"
  },
  "language_info": {
   "codemirror_mode": {
    "name": "ipython",
    "version": 2
   },
   "file_extension": ".py",
   "mimetype": "text/x-python",
   "name": "python",
   "nbconvert_exporter": "python",
   "pygments_lexer": "ipython2",
   "version": "2.7.13"
  }
 },
 "nbformat": 4,
 "nbformat_minor": 2
}
