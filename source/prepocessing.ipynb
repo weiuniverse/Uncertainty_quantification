{
 "cells": [
  {
   "cell_type": "code",
   "execution_count": 1,
   "metadata": {
    "collapsed": true
   },
   "outputs": [],
   "source": [
    "import tsv"
   ]
  },
  {
   "cell_type": "code",
   "execution_count": 2,
   "metadata": {
    "collapsed": true
   },
   "outputs": [],
   "source": [
    "# Poly_truth.tsv: true counts for each transcript\n",
    "truth = tsv.TsvReader(open(\"../data/poly_mo/poly_truth.tsv\"))\n",
    "count1 = 0\n",
    "for parts in truth:\n",
    "    # Here parts is a list of strings, one per tab-separated column.\n",
    "    # Make sure you handle not having enough fields, or not being able to\n",
    "    # parse numbers where you expect them.\n",
    "    # print(\"Record with {} fields: {}\".format(len(parts), parts))\n",
    "    count1 = count1 + 1\n",
    "#     print parts"
   ]
  },
  {
   "cell_type": "code",
   "execution_count": 3,
   "metadata": {},
   "outputs": [
    {
     "name": "stdout",
     "output_type": "stream",
     "text": [
      "201\n"
     ]
    }
   ],
   "source": [
    "# Quant_bootstraps.tsv :containing the matrix of bootstrap experiments \n",
    "# containing the final count for each transcript in each round of bootstrapping \n",
    "# with a row be a bootstrap output and columns be list of transcripts.\n",
    "quant_bootstraps = tsv.TsvReader(open(\"../data/poly_mo/quant_bootstraps.tsv\"))\n",
    "count = 0\n",
    "for parts in quant_bootstraps:\n",
    "    # Here parts is a list of strings, one per tab-separated column.\n",
    "    # Make sure you handle not having enough fields, or not being able to\n",
    "    # parse numbers where you expect them.\n",
    "    # print(\"Record with {} fields: {}\".format(len(parts), parts))\n",
    "    count = count + 1\n",
    "    # print len(parts)\n",
    "print count"
   ]
  },
  {
   "cell_type": "code",
   "execution_count": 5,
   "metadata": {},
   "outputs": [],
   "source": [
    "# Quant.sf :estimated quantifications for each transcript\n",
    "quant = open(\"../data/poly_mo/quant.sf\")\n",
    "lines = quant.readlines()\n",
    "# print l\n",
    "for line in lines:\n",
    "    line = line[:-1]\n",
    "    l = line.split('\\t')\n",
    "#     print len(l)\n",
    "#     if len(l) <> 5:\n",
    "#         print \"error\"\n",
    "#         break"
   ]
  },
  {
   "cell_type": "code",
   "execution_count": null,
   "metadata": {
    "collapsed": true
   },
   "outputs": [],
   "source": [
    "# Eq_classes.txt: list of equivalence classes and their information"
   ]
  }
 ],
 "metadata": {
  "kernelspec": {
   "display_name": "Python 2",
   "language": "python",
   "name": "python2"
  },
  "language_info": {
   "codemirror_mode": {
    "name": "ipython",
    "version": 2
   },
   "file_extension": ".py",
   "mimetype": "text/x-python",
   "name": "python",
   "nbconvert_exporter": "python",
   "pygments_lexer": "ipython2",
   "version": "2.7.13"
  }
 },
 "nbformat": 4,
 "nbformat_minor": 2
}
