{
 "cells": [
  {
   "cell_type": "markdown",
   "metadata": {},
   "source": [
    "# Uncertainty Quantification"
   ]
  },
  {
   "cell_type": "markdown",
   "metadata": {},
   "source": [
    "## Overview\n",
    "    we will analyze why we cannot get the right count for some transcripts using the output of salmon. "
   ]
  },
  {
   "cell_type": "markdown",
   "metadata": {},
   "source": [
    "## Analyze tools\n",
    "    we will mainly use dataframe of pandas to analyze the data."
   ]
  },
  {
   "cell_type": "code",
   "execution_count": 1,
   "metadata": {
    "collapsed": true
   },
   "outputs": [],
   "source": [
    "import tsv\n",
    "import numpy as np\n",
    "import pandas as pd\n",
    "import matplotlib.pyplot as plt\n",
    "# import seaborn as sns\n",
    "# %matplotlib inline"
   ]
  },
  {
   "cell_type": "markdown",
   "metadata": {},
   "source": [
    "## root path"
   ]
  },
  {
   "cell_type": "code",
   "execution_count": 2,
   "metadata": {
    "collapsed": true
   },
   "outputs": [],
   "source": [
    "root_path = \"../data/poly_mo/\""
   ]
  },
  {
   "cell_type": "markdown",
   "metadata": {},
   "source": [
    "# data Preprocess"
   ]
  },
  {
   "cell_type": "markdown",
   "metadata": {},
   "source": [
    "## Poly Truth\n",
    "    Read the file poly_truth.tsv\n",
    "    Poly_truth.tsv: true counts for each transcript"
   ]
  },
  {
   "cell_type": "code",
   "execution_count": 3,
   "metadata": {
    "collapsed": true
   },
   "outputs": [],
   "source": [
    "# Poly_truth.tsv: true counts for each transcript\n",
    "poly_truth = open(root_path+\"poly_truth.tsv\")\n",
    "lines = poly_truth.readlines()\n",
    "poly_truth.close()\n",
    "# print l\n",
    "count = 0\n",
    "poly_truth = []\n",
    "for line in lines:\n",
    "    line = line[:-1]\n",
    "    l = line.split('\\t')\n",
    "    poly_truth.append(l)\n",
    "\n",
    "df_poly_truth = pd.DataFrame.from_records(poly_truth[1:], columns=poly_truth[0])"
   ]
  },
  {
   "cell_type": "code",
   "execution_count": 4,
   "metadata": {
    "collapsed": true
   },
   "outputs": [],
   "source": [
    "df_poly_truth['transcript_id']=df_poly_truth['transcript_id'].astype(str)\n",
    "df_poly_truth['count']=df_poly_truth['count'].astype(int)"
   ]
  },
  {
   "cell_type": "code",
   "execution_count": 5,
   "metadata": {
    "scrolled": false
   },
   "outputs": [
    {
     "data": {
      "text/html": [
       "<div>\n",
       "<style>\n",
       "    .dataframe thead tr:only-child th {\n",
       "        text-align: right;\n",
       "    }\n",
       "\n",
       "    .dataframe thead th {\n",
       "        text-align: left;\n",
       "    }\n",
       "\n",
       "    .dataframe tbody tr th {\n",
       "        vertical-align: top;\n",
       "    }\n",
       "</style>\n",
       "<table border=\"1\" class=\"dataframe\">\n",
       "  <thead>\n",
       "    <tr style=\"text-align: right;\">\n",
       "      <th></th>\n",
       "      <th>count</th>\n",
       "    </tr>\n",
       "  </thead>\n",
       "  <tbody>\n",
       "    <tr>\n",
       "      <th>count</th>\n",
       "      <td>2.695900e+04</td>\n",
       "    </tr>\n",
       "    <tr>\n",
       "      <th>mean</th>\n",
       "      <td>1.483678e+03</td>\n",
       "    </tr>\n",
       "    <tr>\n",
       "      <th>std</th>\n",
       "      <td>1.504054e+04</td>\n",
       "    </tr>\n",
       "    <tr>\n",
       "      <th>min</th>\n",
       "      <td>1.000000e+00</td>\n",
       "    </tr>\n",
       "    <tr>\n",
       "      <th>25%</th>\n",
       "      <td>1.700000e+01</td>\n",
       "    </tr>\n",
       "    <tr>\n",
       "      <th>50%</th>\n",
       "      <td>1.420000e+02</td>\n",
       "    </tr>\n",
       "    <tr>\n",
       "      <th>75%</th>\n",
       "      <td>7.350000e+02</td>\n",
       "    </tr>\n",
       "    <tr>\n",
       "      <th>max</th>\n",
       "      <td>1.316896e+06</td>\n",
       "    </tr>\n",
       "  </tbody>\n",
       "</table>\n",
       "</div>"
      ],
      "text/plain": [
       "              count\n",
       "count  2.695900e+04\n",
       "mean   1.483678e+03\n",
       "std    1.504054e+04\n",
       "min    1.000000e+00\n",
       "25%    1.700000e+01\n",
       "50%    1.420000e+02\n",
       "75%    7.350000e+02\n",
       "max    1.316896e+06"
      ]
     },
     "execution_count": 5,
     "metadata": {},
     "output_type": "execute_result"
    }
   ],
   "source": [
    "df_poly_truth.describe()"
   ]
  },
  {
   "cell_type": "code",
   "execution_count": 7,
   "metadata": {
    "scrolled": true
   },
   "outputs": [
    {
     "data": {
      "text/html": [
       "<div>\n",
       "<style>\n",
       "    .dataframe thead tr:only-child th {\n",
       "        text-align: right;\n",
       "    }\n",
       "\n",
       "    .dataframe thead th {\n",
       "        text-align: left;\n",
       "    }\n",
       "\n",
       "    .dataframe tbody tr th {\n",
       "        vertical-align: top;\n",
       "    }\n",
       "</style>\n",
       "<table border=\"1\" class=\"dataframe\">\n",
       "  <thead>\n",
       "    <tr style=\"text-align: right;\">\n",
       "      <th></th>\n",
       "      <th>transcript_id</th>\n",
       "      <th>count</th>\n",
       "    </tr>\n",
       "  </thead>\n",
       "  <tbody>\n",
       "    <tr>\n",
       "      <th>0</th>\n",
       "      <td>ENST00000608495</td>\n",
       "      <td>1</td>\n",
       "    </tr>\n",
       "    <tr>\n",
       "      <th>1</th>\n",
       "      <td>ENST00000382369</td>\n",
       "      <td>55</td>\n",
       "    </tr>\n",
       "    <tr>\n",
       "      <th>2</th>\n",
       "      <td>ENST00000360321</td>\n",
       "      <td>54</td>\n",
       "    </tr>\n",
       "    <tr>\n",
       "      <th>3</th>\n",
       "      <td>ENST00000400269</td>\n",
       "      <td>92</td>\n",
       "    </tr>\n",
       "    <tr>\n",
       "      <th>4</th>\n",
       "      <td>ENST00000382352</td>\n",
       "      <td>2653</td>\n",
       "    </tr>\n",
       "  </tbody>\n",
       "</table>\n",
       "</div>"
      ],
      "text/plain": [
       "     transcript_id  count\n",
       "0  ENST00000608495      1\n",
       "1  ENST00000382369     55\n",
       "2  ENST00000360321     54\n",
       "3  ENST00000400269     92\n",
       "4  ENST00000382352   2653"
      ]
     },
     "execution_count": 7,
     "metadata": {},
     "output_type": "execute_result"
    }
   ],
   "source": [
    "df_poly_truth.head(5)"
   ]
  },
  {
   "cell_type": "code",
   "execution_count": 5,
   "metadata": {
    "collapsed": true
   },
   "outputs": [],
   "source": [
    "truth_id = df_poly_truth.transcript_id"
   ]
  },
  {
   "cell_type": "markdown",
   "metadata": {},
   "source": [
    "## Quant_bootstraps\n",
    "    Read the file quant_bootstraps.tsv\n",
    "    Quant_bootstraps.tsv :containing the matrix of bootstrap experiments containing the final count for each transcript in each round of bootstrapping with a row be a bootstrap output and columns be list of transcripts. "
   ]
  },
  {
   "cell_type": "code",
   "execution_count": 6,
   "metadata": {},
   "outputs": [
    {
     "name": "stdout",
     "output_type": "stream",
     "text": [
      "201\n"
     ]
    }
   ],
   "source": [
    "# Quant_bootstraps.tsv :containing the matrix of bootstrap experiments \n",
    "# containing the final count for each transcript in each round of bootstrapping \n",
    "# with a row be a bootstrap output and columns be list of transcripts. \n",
    "\n",
    "quant_bootstraps = tsv.TsvReader(open(root_path+\"quant_bootstraps.tsv\"))\n",
    "count = 0\n",
    "quant_boot = []\n",
    "for parts in quant_bootstraps:\n",
    "    quant_boot.append(parts)\n",
    "#     print len(parts)\n",
    "print(len(quant_boot))"
   ]
  },
  {
   "cell_type": "code",
   "execution_count": 7,
   "metadata": {
    "collapsed": true
   },
   "outputs": [],
   "source": [
    "df_quant_boot = pd.DataFrame.from_records(quant_boot[1:], columns=quant_boot[0])\n",
    "# print(len(quant_boot[1,:]))"
   ]
  },
  {
   "cell_type": "code",
   "execution_count": 12,
   "metadata": {
    "scrolled": true
   },
   "outputs": [
    {
     "data": {
      "text/html": [
       "<div>\n",
       "<style>\n",
       "    .dataframe thead tr:only-child th {\n",
       "        text-align: right;\n",
       "    }\n",
       "\n",
       "    .dataframe thead th {\n",
       "        text-align: left;\n",
       "    }\n",
       "\n",
       "    .dataframe tbody tr th {\n",
       "        vertical-align: top;\n",
       "    }\n",
       "</style>\n",
       "<table border=\"1\" class=\"dataframe\">\n",
       "  <thead>\n",
       "    <tr style=\"text-align: right;\">\n",
       "      <th></th>\n",
       "      <th>ENST00000382410</th>\n",
       "      <th>ENST00000382398</th>\n",
       "      <th>ENST00000382388</th>\n",
       "      <th>ENST00000334391</th>\n",
       "      <th>ENST00000246105</th>\n",
       "      <th>ENST00000382376</th>\n",
       "      <th>ENST00000608495</th>\n",
       "      <th>ENST00000382369</th>\n",
       "      <th>ENST00000360321</th>\n",
       "      <th>ENST00000400269</th>\n",
       "      <th>...</th>\n",
       "      <th>ENST00000361739</th>\n",
       "      <th>ENST00000361851</th>\n",
       "      <th>ENST00000361899</th>\n",
       "      <th>ENST00000362079</th>\n",
       "      <th>ENST00000361227</th>\n",
       "      <th>ENST00000361335</th>\n",
       "      <th>ENST00000361381</th>\n",
       "      <th>ENST00000361567</th>\n",
       "      <th>ENST00000361681</th>\n",
       "      <th>ENST00000361789</th>\n",
       "    </tr>\n",
       "  </thead>\n",
       "  <tbody>\n",
       "    <tr>\n",
       "      <th>count</th>\n",
       "      <td>200</td>\n",
       "      <td>200</td>\n",
       "      <td>200</td>\n",
       "      <td>200</td>\n",
       "      <td>200</td>\n",
       "      <td>200</td>\n",
       "      <td>200</td>\n",
       "      <td>200</td>\n",
       "      <td>200</td>\n",
       "      <td>200</td>\n",
       "      <td>...</td>\n",
       "      <td>200</td>\n",
       "      <td>200</td>\n",
       "      <td>200</td>\n",
       "      <td>200</td>\n",
       "      <td>200</td>\n",
       "      <td>200</td>\n",
       "      <td>200</td>\n",
       "      <td>200</td>\n",
       "      <td>200</td>\n",
       "      <td>200</td>\n",
       "    </tr>\n",
       "    <tr>\n",
       "      <th>unique</th>\n",
       "      <td>1</td>\n",
       "      <td>1</td>\n",
       "      <td>1</td>\n",
       "      <td>1</td>\n",
       "      <td>1</td>\n",
       "      <td>1</td>\n",
       "      <td>1</td>\n",
       "      <td>200</td>\n",
       "      <td>200</td>\n",
       "      <td>200</td>\n",
       "      <td>...</td>\n",
       "      <td>190</td>\n",
       "      <td>148</td>\n",
       "      <td>187</td>\n",
       "      <td>187</td>\n",
       "      <td>172</td>\n",
       "      <td>165</td>\n",
       "      <td>191</td>\n",
       "      <td>180</td>\n",
       "      <td>185</td>\n",
       "      <td>187</td>\n",
       "    </tr>\n",
       "    <tr>\n",
       "      <th>top</th>\n",
       "      <td>0.0</td>\n",
       "      <td>0.0</td>\n",
       "      <td>0.0</td>\n",
       "      <td>0.0</td>\n",
       "      <td>0.0</td>\n",
       "      <td>0.0</td>\n",
       "      <td>0.0</td>\n",
       "      <td>31.137669328</td>\n",
       "      <td>17.2697468599</td>\n",
       "      <td>61.2402575227</td>\n",
       "      <td>...</td>\n",
       "      <td>340011.0</td>\n",
       "      <td>8220.0</td>\n",
       "      <td>226020.0</td>\n",
       "      <td>350241.0</td>\n",
       "      <td>30662.0</td>\n",
       "      <td>22438.0</td>\n",
       "      <td>415926.0</td>\n",
       "      <td>210106.0</td>\n",
       "      <td>72774.0</td>\n",
       "      <td>155444.0</td>\n",
       "    </tr>\n",
       "    <tr>\n",
       "      <th>freq</th>\n",
       "      <td>200</td>\n",
       "      <td>200</td>\n",
       "      <td>200</td>\n",
       "      <td>200</td>\n",
       "      <td>200</td>\n",
       "      <td>200</td>\n",
       "      <td>200</td>\n",
       "      <td>1</td>\n",
       "      <td>1</td>\n",
       "      <td>1</td>\n",
       "      <td>...</td>\n",
       "      <td>3</td>\n",
       "      <td>4</td>\n",
       "      <td>2</td>\n",
       "      <td>2</td>\n",
       "      <td>3</td>\n",
       "      <td>3</td>\n",
       "      <td>2</td>\n",
       "      <td>3</td>\n",
       "      <td>2</td>\n",
       "      <td>3</td>\n",
       "    </tr>\n",
       "  </tbody>\n",
       "</table>\n",
       "<p>4 rows × 93109 columns</p>\n",
       "</div>"
      ],
      "text/plain": [
       "       ENST00000382410 ENST00000382398 ENST00000382388 ENST00000334391  \\\n",
       "count              200             200             200             200   \n",
       "unique               1               1               1               1   \n",
       "top                0.0             0.0             0.0             0.0   \n",
       "freq               200             200             200             200   \n",
       "\n",
       "       ENST00000246105 ENST00000382376 ENST00000608495 ENST00000382369  \\\n",
       "count              200             200             200             200   \n",
       "unique               1               1               1             200   \n",
       "top                0.0             0.0             0.0    31.137669328   \n",
       "freq               200             200             200               1   \n",
       "\n",
       "       ENST00000360321 ENST00000400269       ...       ENST00000361739  \\\n",
       "count              200             200       ...                   200   \n",
       "unique             200             200       ...                   190   \n",
       "top      17.2697468599   61.2402575227       ...              340011.0   \n",
       "freq                 1               1       ...                     3   \n",
       "\n",
       "       ENST00000361851 ENST00000361899 ENST00000362079 ENST00000361227  \\\n",
       "count              200             200             200             200   \n",
       "unique             148             187             187             172   \n",
       "top             8220.0        226020.0        350241.0         30662.0   \n",
       "freq                 4               2               2               3   \n",
       "\n",
       "       ENST00000361335 ENST00000361381 ENST00000361567 ENST00000361681  \\\n",
       "count              200             200             200             200   \n",
       "unique             165             191             180             185   \n",
       "top            22438.0        415926.0        210106.0         72774.0   \n",
       "freq                 3               2               3               2   \n",
       "\n",
       "       ENST00000361789  \n",
       "count              200  \n",
       "unique             187  \n",
       "top           155444.0  \n",
       "freq                 3  \n",
       "\n",
       "[4 rows x 93109 columns]"
      ]
     },
     "execution_count": 12,
     "metadata": {},
     "output_type": "execute_result"
    }
   ],
   "source": [
    "df_quant_boot.describe()"
   ]
  },
  {
   "cell_type": "code",
   "execution_count": 8,
   "metadata": {
    "collapsed": true
   },
   "outputs": [],
   "source": [
    "id_qb = list(df_quant_boot.columns)"
   ]
  },
  {
   "cell_type": "markdown",
   "metadata": {},
   "source": [
    "### Sort the quant_boot Results\n",
    "#### Attention: there are some ids in truth_id but not in quant_boot"
   ]
  },
  {
   "cell_type": "code",
   "execution_count": 9,
   "metadata": {
    "collapsed": true
   },
   "outputs": [],
   "source": [
    "sort_qb = []\n",
    "use_id = []\n",
    "for id in truth_id:\n",
    "    try:\n",
    "        listed = list(df_quant_boot[id])        \n",
    "    except KeyError:\n",
    "#         print('has No '+id) # there are some ids in truth_id but not in quant_boot\n",
    "        pass\n",
    "    else:\n",
    "        use_id.append(id)\n",
    "        listed.sort()\n",
    "        sort_qb.append(listed)"
   ]
  },
  {
   "cell_type": "markdown",
   "metadata": {},
   "source": [
    "### reverse sort_qb"
   ]
  },
  {
   "cell_type": "code",
   "execution_count": 10,
   "metadata": {
    "collapsed": true
   },
   "outputs": [],
   "source": [
    "sort_qb = list(map(list,zip(*sort_qb)))"
   ]
  },
  {
   "cell_type": "markdown",
   "metadata": {},
   "source": [
    "### transfer to dataframe"
   ]
  },
  {
   "cell_type": "code",
   "execution_count": 11,
   "metadata": {
    "collapsed": true
   },
   "outputs": [],
   "source": [
    "df_qb_sorted = pd.DataFrame.from_records(sort_qb, columns=use_id)"
   ]
  },
  {
   "cell_type": "markdown",
   "metadata": {},
   "source": [
    "## Filter the False"
   ]
  },
  {
   "cell_type": "markdown",
   "metadata": {},
   "source": [
    "### find the value of 2.5% & 97.5% and the false transcript is out of this range"
   ]
  },
  {
   "cell_type": "code",
   "execution_count": 12,
   "metadata": {
    "collapsed": true
   },
   "outputs": [],
   "source": [
    "df_poly_truth = df_poly_truth.set_index(['transcript_id'])"
   ]
  },
  {
   "cell_type": "code",
   "execution_count": 13,
   "metadata": {},
   "outputs": [
    {
     "name": "stdout",
     "output_type": "stream",
     "text": [
      "5\n",
      "195\n"
     ]
    }
   ],
   "source": [
    "sum = len(sort_qb)\n",
    "print(int(sum*0.025))\n",
    "print(int(sum*0.975))\n",
    "percent2dot5 = df_qb_sorted.loc[int(sum*0.025)-1]\n",
    "percent97dot5 = df_qb_sorted.loc[int(sum*0.975)-1]"
   ]
  },
  {
   "cell_type": "markdown",
   "metadata": {},
   "source": [
    "## divide the transcript_id into two group\n",
    "    if the true_count of the id is in the range(2.5%,97.5%)，we will set it in the true_id group.\n",
    "    if the true_coutn of the id is out of the range(2.5%,97.5%), we set it in the false_id group."
   ]
  },
  {
   "cell_type": "code",
   "execution_count": 14,
   "metadata": {
    "collapsed": true
   },
   "outputs": [],
   "source": [
    "true_id = []\n",
    "false_id = []\n",
    "for id in use_id:\n",
    "    down = float(percent2dot5[id])\n",
    "    up = float(percent97dot5[id])\n",
    "    true_count = df_poly_truth.loc[id]\n",
    "    true_count = float(true_count)\n",
    "    if true_count>down and true_count<up:\n",
    "        true_id.append(id)\n",
    "    else:\n",
    "        false_id.append(id)"
   ]
  },
  {
   "cell_type": "markdown",
   "metadata": {},
   "source": [
    "### concatenate the true and false id\n",
    "    we put the true_id and false_id in the same list in sequence, and then we will add label for them."
   ]
  },
  {
   "cell_type": "code",
   "execution_count": 15,
   "metadata": {
    "collapsed": true
   },
   "outputs": [],
   "source": [
    "# concatenate the true and false id in one list\n",
    "all_id = list(true_id)\n",
    "all_id.extend(false_id)"
   ]
  },
  {
   "cell_type": "markdown",
   "metadata": {},
   "source": [
    "### add label for the list\n",
    "    set label for every transcript_id(success(true_id,set as 1),fail(false_id,set as 0))\n",
    "    And them we will merge this labeled list with list of properties in order to get a list which include both properties and label of every transcript."
   ]
  },
  {
   "cell_type": "code",
   "execution_count": 16,
   "metadata": {
    "collapsed": true
   },
   "outputs": [],
   "source": [
    "# add label for the id\n",
    "label = []\n",
    "for i in range(len(true_id)):\n",
    "    label.append(1)\n",
    "for i in range(len(false_id)):\n",
    "    label.append(0)\n",
    "    \n",
    "labeled_id = [all_id,label]\n",
    "labeled = list(map(list,zip(*labeled_id)))"
   ]
  },
  {
   "cell_type": "markdown",
   "metadata": {},
   "source": [
    "## Read Quant.sf\n",
    "    Read the quant.sf file.\n",
    "    Quant.sf :estimated quantifications for each transcript"
   ]
  },
  {
   "cell_type": "code",
   "execution_count": 17,
   "metadata": {
    "collapsed": true
   },
   "outputs": [],
   "source": [
    "# Quant.sf :estimated quantifications for each transcript\n",
    "quant_file = open(root_path+\"quant.sf\")\n",
    "lines = quant_file.readlines()\n",
    "quant_file.close()\n",
    "count = 0\n",
    "quant = []\n",
    "for line in lines:\n",
    "    line = line[:-1]\n",
    "    l = line.split('\\t')\n",
    "    quant.append(l)"
   ]
  },
  {
   "cell_type": "code",
   "execution_count": 18,
   "metadata": {
    "collapsed": true
   },
   "outputs": [],
   "source": [
    "df_quant = pd.DataFrame.from_records(quant[1:], columns=quant[0])"
   ]
  },
  {
   "cell_type": "code",
   "execution_count": 19,
   "metadata": {
    "collapsed": true
   },
   "outputs": [],
   "source": [
    "df_quant.Name = df_quant.Name.astype(str)\n",
    "df_quant.Length = df_quant.Length.astype(int)\n",
    "df_quant.EffectiveLength = df_quant.EffectiveLength.astype(float)\n",
    "df_quant.TPM = df_quant.TPM.astype(float)\n",
    "df_quant.NumReads = df_quant.NumReads.astype(float)"
   ]
  },
  {
   "cell_type": "markdown",
   "metadata": {},
   "source": [
    "## Merge quant.sf and labeled_id to get the useful data for training\n",
    "    labeled_id is a list of transcript_id togather with label(success(true，set as 1) or fail(flase,set as 0))  \n",
    "    And we will add the label with the protery from quant.sf in order to analyze the properties of different label.\n",
    "    Then it will be easy for us to analyze the relation between properties and label and the difference between group of different label."
   ]
  },
  {
   "cell_type": "markdown",
   "metadata": {},
   "source": [
    "#### merge the data"
   ]
  },
  {
   "cell_type": "code",
   "execution_count": 20,
   "metadata": {
    "collapsed": true
   },
   "outputs": [],
   "source": [
    "df_labeled_id = pd.DataFrame.from_records(labeled, columns=['Name','label'])\n",
    "df_labeled_id.Name = df_labeled_id.Name.astype(str)\n",
    "df_labeled = df_labeled_id.merge(df_quant, on='Name')"
   ]
  },
  {
   "cell_type": "markdown",
   "metadata": {},
   "source": [
    "#### put label as the last property"
   ]
  },
  {
   "cell_type": "code",
   "execution_count": 21,
   "metadata": {
    "collapsed": true
   },
   "outputs": [],
   "source": [
    "label = df_labeled.pop('label')\n",
    "df_labeled.insert(5,'label',label)"
   ]
  },
  {
   "cell_type": "markdown",
   "metadata": {},
   "source": [
    "#### set \"data = df_labeled\" for easy processing the data below "
   ]
  },
  {
   "cell_type": "code",
   "execution_count": 22,
   "metadata": {
    "collapsed": true
   },
   "outputs": [],
   "source": [
    "data = df_labeled"
   ]
  },
  {
   "cell_type": "markdown",
   "metadata": {},
   "source": [
    "## Analyze the difference between true & false data"
   ]
  },
  {
   "cell_type": "markdown",
   "metadata": {},
   "source": [
    "### we can easily found that some Stastistic value like mean,min,max,std of TPM & NumReads has great difference between false and true"
   ]
  },
  {
   "cell_type": "code",
   "execution_count": 23,
   "metadata": {
    "scrolled": true
   },
   "outputs": [
    {
     "data": {
      "text/html": [
       "<div>\n",
       "<style>\n",
       "    .dataframe thead tr:only-child th {\n",
       "        text-align: right;\n",
       "    }\n",
       "\n",
       "    .dataframe thead th {\n",
       "        text-align: left;\n",
       "    }\n",
       "\n",
       "    .dataframe tbody tr th {\n",
       "        vertical-align: top;\n",
       "    }\n",
       "</style>\n",
       "<table border=\"1\" class=\"dataframe\">\n",
       "  <thead>\n",
       "    <tr style=\"text-align: right;\">\n",
       "      <th></th>\n",
       "      <th>Length</th>\n",
       "      <th>EffectiveLength</th>\n",
       "      <th>TPM</th>\n",
       "      <th>NumReads</th>\n",
       "    </tr>\n",
       "    <tr>\n",
       "      <th>label</th>\n",
       "      <th></th>\n",
       "      <th></th>\n",
       "      <th></th>\n",
       "      <th></th>\n",
       "    </tr>\n",
       "  </thead>\n",
       "  <tbody>\n",
       "    <tr>\n",
       "      <th>0</th>\n",
       "      <td>2445.007350</td>\n",
       "      <td>2245.894343</td>\n",
       "      <td>52.556885</td>\n",
       "      <td>1784.370671</td>\n",
       "    </tr>\n",
       "    <tr>\n",
       "      <th>1</th>\n",
       "      <td>2018.732216</td>\n",
       "      <td>1819.722173</td>\n",
       "      <td>6.678858</td>\n",
       "      <td>152.544354</td>\n",
       "    </tr>\n",
       "  </tbody>\n",
       "</table>\n",
       "</div>"
      ],
      "text/plain": [
       "            Length  EffectiveLength        TPM     NumReads\n",
       "label                                                      \n",
       "0      2445.007350      2245.894343  52.556885  1784.370671\n",
       "1      2018.732216      1819.722173   6.678858   152.544354"
      ]
     },
     "execution_count": 23,
     "metadata": {},
     "output_type": "execute_result"
    }
   ],
   "source": [
    "data.groupby([data.label]).mean()"
   ]
  },
  {
   "cell_type": "code",
   "execution_count": 24,
   "metadata": {},
   "outputs": [
    {
     "data": {
      "text/html": [
       "<div>\n",
       "<style>\n",
       "    .dataframe thead tr:only-child th {\n",
       "        text-align: right;\n",
       "    }\n",
       "\n",
       "    .dataframe thead th {\n",
       "        text-align: left;\n",
       "    }\n",
       "\n",
       "    .dataframe tbody tr th {\n",
       "        vertical-align: top;\n",
       "    }\n",
       "</style>\n",
       "<table border=\"1\" class=\"dataframe\">\n",
       "  <thead>\n",
       "    <tr style=\"text-align: right;\">\n",
       "      <th></th>\n",
       "      <th>Name</th>\n",
       "      <th>Length</th>\n",
       "      <th>EffectiveLength</th>\n",
       "      <th>TPM</th>\n",
       "      <th>NumReads</th>\n",
       "    </tr>\n",
       "    <tr>\n",
       "      <th>label</th>\n",
       "      <th></th>\n",
       "      <th></th>\n",
       "      <th></th>\n",
       "      <th></th>\n",
       "      <th></th>\n",
       "    </tr>\n",
       "  </thead>\n",
       "  <tbody>\n",
       "    <tr>\n",
       "      <th>0</th>\n",
       "      <td>ENST00000610278</td>\n",
       "      <td>101518</td>\n",
       "      <td>101318.991</td>\n",
       "      <td>23356.420222</td>\n",
       "      <td>1.109005e+06</td>\n",
       "    </tr>\n",
       "    <tr>\n",
       "      <th>1</th>\n",
       "      <td>ENST00000610279</td>\n",
       "      <td>37027</td>\n",
       "      <td>36827.991</td>\n",
       "      <td>10710.459004</td>\n",
       "      <td>3.769085e+04</td>\n",
       "    </tr>\n",
       "  </tbody>\n",
       "</table>\n",
       "</div>"
      ],
      "text/plain": [
       "                  Name  Length  EffectiveLength           TPM      NumReads\n",
       "label                                                                      \n",
       "0      ENST00000610278  101518       101318.991  23356.420222  1.109005e+06\n",
       "1      ENST00000610279   37027        36827.991  10710.459004  3.769085e+04"
      ]
     },
     "execution_count": 24,
     "metadata": {},
     "output_type": "execute_result"
    }
   ],
   "source": [
    "data.groupby([data.label]).max()"
   ]
  },
  {
   "cell_type": "code",
   "execution_count": 25,
   "metadata": {},
   "outputs": [
    {
     "data": {
      "text/html": [
       "<div>\n",
       "<style>\n",
       "    .dataframe thead tr:only-child th {\n",
       "        text-align: right;\n",
       "    }\n",
       "\n",
       "    .dataframe thead th {\n",
       "        text-align: left;\n",
       "    }\n",
       "\n",
       "    .dataframe tbody tr th {\n",
       "        vertical-align: top;\n",
       "    }\n",
       "</style>\n",
       "<table border=\"1\" class=\"dataframe\">\n",
       "  <thead>\n",
       "    <tr style=\"text-align: right;\">\n",
       "      <th></th>\n",
       "      <th>Name</th>\n",
       "      <th>Length</th>\n",
       "      <th>EffectiveLength</th>\n",
       "      <th>TPM</th>\n",
       "      <th>NumReads</th>\n",
       "    </tr>\n",
       "    <tr>\n",
       "      <th>label</th>\n",
       "      <th></th>\n",
       "      <th></th>\n",
       "      <th></th>\n",
       "      <th></th>\n",
       "      <th></th>\n",
       "    </tr>\n",
       "  </thead>\n",
       "  <tbody>\n",
       "    <tr>\n",
       "      <th>0</th>\n",
       "      <td>ENST00000000233</td>\n",
       "      <td>158</td>\n",
       "      <td>10.987</td>\n",
       "      <td>0.0</td>\n",
       "      <td>0.0</td>\n",
       "    </tr>\n",
       "    <tr>\n",
       "      <th>1</th>\n",
       "      <td>ENST00000002165</td>\n",
       "      <td>82</td>\n",
       "      <td>9.804</td>\n",
       "      <td>0.0</td>\n",
       "      <td>0.0</td>\n",
       "    </tr>\n",
       "  </tbody>\n",
       "</table>\n",
       "</div>"
      ],
      "text/plain": [
       "                  Name  Length  EffectiveLength  TPM  NumReads\n",
       "label                                                         \n",
       "0      ENST00000000233     158           10.987  0.0       0.0\n",
       "1      ENST00000002165      82            9.804  0.0       0.0"
      ]
     },
     "execution_count": 25,
     "metadata": {},
     "output_type": "execute_result"
    }
   ],
   "source": [
    "data.groupby([data.label]).min()"
   ]
  },
  {
   "cell_type": "code",
   "execution_count": 28,
   "metadata": {},
   "outputs": [
    {
     "data": {
      "text/html": [
       "<div>\n",
       "<style>\n",
       "    .dataframe thead tr:only-child th {\n",
       "        text-align: right;\n",
       "    }\n",
       "\n",
       "    .dataframe thead th {\n",
       "        text-align: left;\n",
       "    }\n",
       "\n",
       "    .dataframe tbody tr th {\n",
       "        vertical-align: top;\n",
       "    }\n",
       "</style>\n",
       "<table border=\"1\" class=\"dataframe\">\n",
       "  <thead>\n",
       "    <tr style=\"text-align: right;\">\n",
       "      <th></th>\n",
       "      <th>Length</th>\n",
       "      <th>EffectiveLength</th>\n",
       "      <th>TPM</th>\n",
       "      <th>NumReads</th>\n",
       "    </tr>\n",
       "    <tr>\n",
       "      <th>label</th>\n",
       "      <th></th>\n",
       "      <th></th>\n",
       "      <th></th>\n",
       "      <th></th>\n",
       "    </tr>\n",
       "  </thead>\n",
       "  <tbody>\n",
       "    <tr>\n",
       "      <th>0</th>\n",
       "      <td>2380.728560</td>\n",
       "      <td>2380.669848</td>\n",
       "      <td>448.368497</td>\n",
       "      <td>15740.352178</td>\n",
       "    </tr>\n",
       "    <tr>\n",
       "      <th>1</th>\n",
       "      <td>2055.905694</td>\n",
       "      <td>2055.526264</td>\n",
       "      <td>45.873037</td>\n",
       "      <td>235.234059</td>\n",
       "    </tr>\n",
       "  </tbody>\n",
       "</table>\n",
       "</div>"
      ],
      "text/plain": [
       "            Length  EffectiveLength         TPM      NumReads\n",
       "label                                                        \n",
       "0      2380.728560      2380.669848  448.368497  15740.352178\n",
       "1      2055.905694      2055.526264   45.873037    235.234059"
      ]
     },
     "execution_count": 28,
     "metadata": {},
     "output_type": "execute_result"
    }
   ],
   "source": [
    "data.groupby([data.label]).std()"
   ]
  },
  {
   "cell_type": "code",
   "execution_count": 26,
   "metadata": {
    "scrolled": true
   },
   "outputs": [
    {
     "data": {
      "text/html": [
       "<div>\n",
       "<style>\n",
       "    .dataframe thead tr:only-child th {\n",
       "        text-align: right;\n",
       "    }\n",
       "\n",
       "    .dataframe thead th {\n",
       "        text-align: left;\n",
       "    }\n",
       "\n",
       "    .dataframe tbody tr th {\n",
       "        vertical-align: top;\n",
       "    }\n",
       "</style>\n",
       "<table border=\"1\" class=\"dataframe\">\n",
       "  <thead>\n",
       "    <tr style=\"text-align: right;\">\n",
       "      <th></th>\n",
       "      <th>Length</th>\n",
       "      <th>EffectiveLength</th>\n",
       "      <th>TPM</th>\n",
       "      <th>NumReads</th>\n",
       "      <th>label</th>\n",
       "    </tr>\n",
       "  </thead>\n",
       "  <tbody>\n",
       "    <tr>\n",
       "      <th>count</th>\n",
       "      <td>26889.000000</td>\n",
       "      <td>26889.000000</td>\n",
       "      <td>26889.000000</td>\n",
       "      <td>2.688900e+04</td>\n",
       "      <td>26889.000000</td>\n",
       "    </tr>\n",
       "    <tr>\n",
       "      <th>mean</th>\n",
       "      <td>2301.266912</td>\n",
       "      <td>2102.188625</td>\n",
       "      <td>37.086764</td>\n",
       "      <td>1.234117e+03</td>\n",
       "      <td>0.337201</td>\n",
       "    </tr>\n",
       "    <tr>\n",
       "      <th>std</th>\n",
       "      <td>2268.852362</td>\n",
       "      <td>2268.766111</td>\n",
       "      <td>373.615192</td>\n",
       "      <td>1.284316e+04</td>\n",
       "      <td>0.472763</td>\n",
       "    </tr>\n",
       "    <tr>\n",
       "      <th>min</th>\n",
       "      <td>82.000000</td>\n",
       "      <td>9.804000</td>\n",
       "      <td>0.000000</td>\n",
       "      <td>0.000000e+00</td>\n",
       "      <td>0.000000</td>\n",
       "    </tr>\n",
       "    <tr>\n",
       "      <th>25%</th>\n",
       "      <td>777.000000</td>\n",
       "      <td>577.998000</td>\n",
       "      <td>0.359912</td>\n",
       "      <td>1.304699e+01</td>\n",
       "      <td>0.000000</td>\n",
       "    </tr>\n",
       "    <tr>\n",
       "      <th>50%</th>\n",
       "      <td>1681.000000</td>\n",
       "      <td>1481.991000</td>\n",
       "      <td>2.837799</td>\n",
       "      <td>1.174560e+02</td>\n",
       "      <td>0.000000</td>\n",
       "    </tr>\n",
       "    <tr>\n",
       "      <th>75%</th>\n",
       "      <td>3016.000000</td>\n",
       "      <td>2816.991000</td>\n",
       "      <td>12.063695</td>\n",
       "      <td>5.993793e+02</td>\n",
       "      <td>1.000000</td>\n",
       "    </tr>\n",
       "    <tr>\n",
       "      <th>max</th>\n",
       "      <td>101518.000000</td>\n",
       "      <td>101318.991000</td>\n",
       "      <td>23356.420222</td>\n",
       "      <td>1.109005e+06</td>\n",
       "      <td>1.000000</td>\n",
       "    </tr>\n",
       "  </tbody>\n",
       "</table>\n",
       "</div>"
      ],
      "text/plain": [
       "              Length  EffectiveLength           TPM      NumReads  \\\n",
       "count   26889.000000     26889.000000  26889.000000  2.688900e+04   \n",
       "mean     2301.266912      2102.188625     37.086764  1.234117e+03   \n",
       "std      2268.852362      2268.766111    373.615192  1.284316e+04   \n",
       "min        82.000000         9.804000      0.000000  0.000000e+00   \n",
       "25%       777.000000       577.998000      0.359912  1.304699e+01   \n",
       "50%      1681.000000      1481.991000      2.837799  1.174560e+02   \n",
       "75%      3016.000000      2816.991000     12.063695  5.993793e+02   \n",
       "max    101518.000000    101318.991000  23356.420222  1.109005e+06   \n",
       "\n",
       "              label  \n",
       "count  26889.000000  \n",
       "mean       0.337201  \n",
       "std        0.472763  \n",
       "min        0.000000  \n",
       "25%        0.000000  \n",
       "50%        0.000000  \n",
       "75%        1.000000  \n",
       "max        1.000000  "
      ]
     },
     "execution_count": 26,
     "metadata": {},
     "output_type": "execute_result"
    }
   ],
   "source": [
    "data.describe()"
   ]
  },
  {
   "cell_type": "markdown",
   "metadata": {},
   "source": [
    "## Visualization\n",
    "    we will show the label data with NumReads and TPM as axis"
   ]
  },
  {
   "cell_type": "code",
   "execution_count": 27,
   "metadata": {
    "collapsed": true
   },
   "outputs": [],
   "source": [
    "true_data = data[data.label==1]\n",
    "false_data = data[(data.label==0)]\n",
    "# true_data = data[(data.label==1)&(data.TPM<8000)&(data.NumReads<300000)]\n",
    "# false_data = data[(data.label==0)&(data.TPM<8000)&(data.NumReads<300000)]"
   ]
  },
  {
   "cell_type": "code",
   "execution_count": 28,
   "metadata": {
    "collapsed": true
   },
   "outputs": [],
   "source": [
    "TPM_true = true_data.TPM\n",
    "NumReads_true = true_data.NumReads\n",
    "TPM_false = false_data.TPM\n",
    "NumReads_false = false_data.NumReads"
   ]
  },
  {
   "cell_type": "code",
   "execution_count": 29,
   "metadata": {},
   "outputs": [
    {
     "data": {
      "image/png": "[encoded data removed]",
      "text/plain": [
       "<matplotlib.figure.Figure at 0x2457759b860>"
      ]
     },
     "metadata": {},
     "output_type": "display_data"
    }
   ],
   "source": [
    "divide_data = plt.figure(1)  \n",
    "plt.scatter(TPM_false,NumReads_false,marker='x',color='yellow',label='false',s=15,alpha=0.5)\n",
    "plt.scatter(TPM_true,NumReads_true,marker='o',color='red',label='true',s=15,alpha=0.5)\n",
    "plt.xlim((-100, 10000))\n",
    "plt.ylim((-2000, 200000))\n",
    "plt.legend() # 展示图例\n",
    "plt.xlabel('TPM') # 给 x 轴添加标签\n",
    "plt.ylabel('NumReads') # 给 y 轴添加标签\n",
    "plt.title('divide data') # 添加图形标题\n",
    "plt.show()"
   ]
  },
  {
   "cell_type": "code",
   "execution_count": 30,
   "metadata": {},
   "outputs": [
    {
     "data": {
      "image/png": "[encoded data removed]",
      "text/plain": [
       "<matplotlib.figure.Figure at 0x24577571e80>"
      ]
     },
     "metadata": {},
     "output_type": "display_data"
    }
   ],
   "source": [
    "miniscale = plt.figure(2)\n",
    "plt.xlim((0, 1000))\n",
    "plt.ylim((0, 20000))\n",
    "plt.scatter(TPM_false,NumReads_false,marker='x',color='yellow',label='false',s=15,alpha=0.5)\n",
    "plt.scatter(TPM_true,NumReads_true,marker='o',color='red',label='true',s=15,alpha=0.5)\n",
    "plt.legend() # 展示图例\n",
    "plt.xlabel('TPM') # 给 x 轴添加标签\n",
    "plt.ylabel('NumReads') # 给 y 轴添加标签\n",
    "plt.show()"
   ]
  },
  {
   "cell_type": "code",
   "execution_count": 31,
   "metadata": {},
   "outputs": [
    {
     "data": {
      "image/png": "[encoded data removed]",
      "text/plain": [
       "<matplotlib.figure.Figure at 0x24577bd0748>"
      ]
     },
     "metadata": {},
     "output_type": "display_data"
    }
   ],
   "source": [
    "true_data = plt.figure(3)  \n",
    "plt.scatter(TPM_true,NumReads_true,color='red',label='true',s=15,alpha=1)\n",
    "plt.legend() # 展示图例\n",
    "plt.xlabel('TPM') # 给 x 轴添加标签\n",
    "plt.ylabel('NumReads') # 给 y 轴添加标签\n",
    "plt.title('true data')\n",
    "plt.show()"
   ]
  },
  {
   "cell_type": "code",
   "execution_count": 32,
   "metadata": {},
   "outputs": [
    {
     "data": {
      "image/png": "[encoded data removed]",
      "text/plain": [
       "<matplotlib.figure.Figure at 0x245775bd860>"
      ]
     },
     "metadata": {},
     "output_type": "display_data"
    }
   ],
   "source": [
    "flase_data = plt.figure(4)\n",
    "plt.scatter(TPM_false,NumReads_false,color='yellow',label='false',s=15,alpha=1)\n",
    "plt.legend() # 展示图例\n",
    "plt.xlabel('TPM') # 给 x 轴添加标签\n",
    "plt.ylabel('NumReads') # 给 y 轴添加标签\n",
    "plt.title('false data')\n",
    "plt.show()"
   ]
  },
  {
   "cell_type": "markdown",
   "metadata": {},
   "source": [
    "# Some Classification Models"
   ]
  },
  {
   "cell_type": "code",
   "execution_count": 33,
   "metadata": {},
   "outputs": [
    {
     "data": {
      "text/html": [
       "<div>\n",
       "<style>\n",
       "    .dataframe thead tr:only-child th {\n",
       "        text-align: right;\n",
       "    }\n",
       "\n",
       "    .dataframe thead th {\n",
       "        text-align: left;\n",
       "    }\n",
       "\n",
       "    .dataframe tbody tr th {\n",
       "        vertical-align: top;\n",
       "    }\n",
       "</style>\n",
       "<table border=\"1\" class=\"dataframe\">\n",
       "  <thead>\n",
       "    <tr style=\"text-align: right;\">\n",
       "      <th></th>\n",
       "      <th>Name</th>\n",
       "      <th>Length</th>\n",
       "      <th>EffectiveLength</th>\n",
       "      <th>TPM</th>\n",
       "      <th>NumReads</th>\n",
       "      <th>label</th>\n",
       "    </tr>\n",
       "  </thead>\n",
       "  <tbody>\n",
       "    <tr>\n",
       "      <th>0</th>\n",
       "      <td>ENST00000382369</td>\n",
       "      <td>1420</td>\n",
       "      <td>1220.991</td>\n",
       "      <td>1.180968</td>\n",
       "      <td>46.855146</td>\n",
       "      <td>1</td>\n",
       "    </tr>\n",
       "    <tr>\n",
       "      <th>1</th>\n",
       "      <td>ENST00000360321</td>\n",
       "      <td>1575</td>\n",
       "      <td>1375.991</td>\n",
       "      <td>0.912080</td>\n",
       "      <td>40.780781</td>\n",
       "      <td>1</td>\n",
       "    </tr>\n",
       "    <tr>\n",
       "      <th>2</th>\n",
       "      <td>ENST00000460062</td>\n",
       "      <td>552</td>\n",
       "      <td>353.005</td>\n",
       "      <td>15.124547</td>\n",
       "      <td>173.488438</td>\n",
       "      <td>1</td>\n",
       "    </tr>\n",
       "    <tr>\n",
       "      <th>3</th>\n",
       "      <td>ENST00000608066</td>\n",
       "      <td>577</td>\n",
       "      <td>378.005</td>\n",
       "      <td>3.340497</td>\n",
       "      <td>41.031309</td>\n",
       "      <td>1</td>\n",
       "    </tr>\n",
       "    <tr>\n",
       "      <th>4</th>\n",
       "      <td>ENST00000246104</td>\n",
       "      <td>3577</td>\n",
       "      <td>3377.991</td>\n",
       "      <td>0.036441</td>\n",
       "      <td>4.000000</td>\n",
       "      <td>1</td>\n",
       "    </tr>\n",
       "  </tbody>\n",
       "</table>\n",
       "</div>"
      ],
      "text/plain": [
       "              Name  Length  EffectiveLength        TPM    NumReads  label\n",
       "0  ENST00000382369    1420         1220.991   1.180968   46.855146      1\n",
       "1  ENST00000360321    1575         1375.991   0.912080   40.780781      1\n",
       "2  ENST00000460062     552          353.005  15.124547  173.488438      1\n",
       "3  ENST00000608066     577          378.005   3.340497   41.031309      1\n",
       "4  ENST00000246104    3577         3377.991   0.036441    4.000000      1"
      ]
     },
     "execution_count": 33,
     "metadata": {},
     "output_type": "execute_result"
    }
   ],
   "source": [
    "data.head(5)"
   ]
  },
  {
   "cell_type": "markdown",
   "metadata": {},
   "source": [
    "### prepare the training data"
   ]
  },
  {
   "cell_type": "code",
   "execution_count": 34,
   "metadata": {
    "collapsed": true
   },
   "outputs": [],
   "source": [
    "from sklearn.utils import shuffle  "
   ]
  },
  {
   "cell_type": "markdown",
   "metadata": {},
   "source": [
    "#### Shuffle the data"
   ]
  },
  {
   "cell_type": "code",
   "execution_count": 35,
   "metadata": {
    "collapsed": true
   },
   "outputs": [],
   "source": [
    "sfdata = shuffle(data) # make the data random\n",
    "input_data = sfdata[['Length','EffectiveLength','TPM','NumReads']]\n",
    "input_label = sfdata['label']"
   ]
  },
  {
   "cell_type": "code",
   "execution_count": 36,
   "metadata": {
    "collapsed": true
   },
   "outputs": [],
   "source": [
    "train = int(len(input_data)*9/10)\n",
    "test = train+1\n",
    "train_data = input_data[0:train]\n",
    "train_label = input_label[0:train]\n",
    "test_data = input_data[test:]\n",
    "test_label = input_label[test:]"
   ]
  },
  {
   "cell_type": "code",
   "execution_count": 37,
   "metadata": {
    "collapsed": true
   },
   "outputs": [],
   "source": [
    "def trans_onehot(labels):\n",
    "    onehot_labels = []\n",
    "    for label in labels:\n",
    "        if label==0:\n",
    "            onehot_labels.append([0,1])\n",
    "        else:\n",
    "            onehot_labels.append([1,0])\n",
    "    return onehot_labels"
   ]
  },
  {
   "cell_type": "code",
   "execution_count": 38,
   "metadata": {
    "collapsed": true
   },
   "outputs": [],
   "source": [
    "train_onehot_label = trans_onehot(train_label)\n",
    "test_onehot_label = trans_onehot(test_label)"
   ]
  },
  {
   "cell_type": "code",
   "execution_count": 39,
   "metadata": {
    "collapsed": true
   },
   "outputs": [],
   "source": [
    "def square(x):\n",
    "    return x**2\n",
    "\n",
    "\n",
    "def cal_mse(regr,test_label):\n",
    "    error = (regr-test_label)\n",
    "    error_sq = error.apply(square)\n",
    "    mse = error_sq.sum()/len(error)\n",
    "    return mse\n",
    "\n",
    "def cal_pred(regr,alpha):\n",
    "    pred=[]\n",
    "    for x in regr:\n",
    "        if x>=alpha:\n",
    "            pred.append(1)\n",
    "        else:\n",
    "            pred.append(0)\n",
    "    return pred\n",
    "\n",
    "def cal_accuracy(pred,test_label):\n",
    "    diff = pred-test_label\n",
    "    diff=diff.as_matrix()\n",
    "    diff = diff.tolist()\n",
    "    right_count = diff.count(0)\n",
    "#     print(right_count)\n",
    "    accuracy = right_count/len(diff)\n",
    "    return accuracy"
   ]
  },
  {
   "cell_type": "markdown",
   "metadata": {},
   "source": [
    "### Nerual Network"
   ]
  },
  {
   "cell_type": "markdown",
   "metadata": {},
   "source": [
    "#### with tensorflow"
   ]
  },
  {
   "cell_type": "code",
   "execution_count": 40,
   "metadata": {},
   "outputs": [
    {
     "name": "stderr",
     "output_type": "stream",
     "text": [
      "Using TensorFlow backend.\n"
     ]
    }
   ],
   "source": [
    "import tensorflow as tf\n",
    "import keras"
   ]
  },
  {
   "cell_type": "code",
   "execution_count": 41,
   "metadata": {
    "collapsed": true
   },
   "outputs": [],
   "source": [
    "# Training Data\n",
    "train_X = train_data.as_matrix()\n",
    "train_Y = train_label.as_matrix()\n",
    "train_X = np.reshape(train_X,(len(train_X),4))  \n",
    "train_Y = np.reshape(train_Y,(len(train_Y),1))  \n",
    "n_samples = train_X.shape[0]"
   ]
  },
  {
   "cell_type": "code",
   "execution_count": 386,
   "metadata": {
    "collapsed": true
   },
   "outputs": [],
   "source": [
    "# train_Y = np.array(train_Y)"
   ]
  },
  {
   "cell_type": "code",
   "execution_count": 42,
   "metadata": {
    "collapsed": true
   },
   "outputs": [],
   "source": [
    "from keras.models import Sequential\n",
    "from keras.layers import Dense\n",
    "from keras.layers import Activation\n",
    "from keras.layers import Dropout"
   ]
  },
  {
   "cell_type": "code",
   "execution_count": 43,
   "metadata": {
    "collapsed": true
   },
   "outputs": [],
   "source": [
    "model = Sequential()\n",
    "model.add(Dense(16, input_shape=(4,)))\n",
    "model.add(Activation('tanh'))\n",
    "model.add(Dense(32))\n",
    "model.add(Activation('tanh'))\n",
    "model.add(Dense(16))\n",
    "model.add(Dense(4))\n",
    "model.add(Dense(1))\n",
    "# model.add(Activation('softmax'))"
   ]
  },
  {
   "cell_type": "code",
   "execution_count": 44,
   "metadata": {
    "collapsed": true
   },
   "outputs": [],
   "source": [
    "model.compile(optimizer='rmsprop',\n",
    "              loss='mse')"
   ]
  },
  {
   "cell_type": "code",
   "execution_count": 45,
   "metadata": {},
   "outputs": [
    {
     "name": "stdout",
     "output_type": "stream",
     "text": [
      "Epoch 1/100\n",
      "24200/24200 [==============================] - 0s - loss: 0.2042     \n",
      "Epoch 2/100\n",
      "24200/24200 [==============================] - 0s - loss: 0.1905     \n",
      "Epoch 3/100\n",
      "24200/24200 [==============================] - 0s - loss: 0.1900     \n",
      "Epoch 4/100\n",
      "24200/24200 [==============================] - 0s - loss: 0.1901     \n",
      "Epoch 5/100\n",
      "24200/24200 [==============================] - 0s - loss: 0.1890     \n",
      "Epoch 6/100\n",
      "24200/24200 [==============================] - 0s - loss: 0.1884     \n",
      "Epoch 7/100\n",
      "24200/24200 [==============================] - 0s - loss: 0.1880     \n",
      "Epoch 8/100\n",
      "24200/24200 [==============================] - 0s - loss: 0.1900     \n",
      "Epoch 9/100\n",
      "24200/24200 [==============================] - 0s - loss: 0.1883     \n",
      "Epoch 10/100\n",
      "24200/24200 [==============================] - 0s - loss: 0.1883     \n",
      "Epoch 11/100\n",
      "24200/24200 [==============================] - 0s - loss: 0.1883     \n",
      "Epoch 12/100\n",
      "24200/24200 [==============================] - 0s - loss: 0.1881     \n",
      "Epoch 13/100\n",
      "24200/24200 [==============================] - 0s - loss: 0.1863     \n",
      "Epoch 14/100\n",
      "24200/24200 [==============================] - 0s - loss: 0.1872     \n",
      "Epoch 15/100\n",
      "24200/24200 [==============================] - 0s - loss: 0.1862     \n",
      "Epoch 16/100\n",
      "24200/24200 [==============================] - 0s - loss: 0.1863     \n",
      "Epoch 17/100\n",
      "24200/24200 [==============================] - 0s - loss: 0.1855     \n",
      "Epoch 18/100\n",
      "24200/24200 [==============================] - 0s - loss: 0.1865     \n",
      "Epoch 19/100\n",
      "24200/24200 [==============================] - 0s - loss: 0.1854     \n",
      "Epoch 20/100\n",
      "24200/24200 [==============================] - 0s - loss: 0.1844     \n",
      "Epoch 21/100\n",
      "24200/24200 [==============================] - 0s - loss: 0.1816     \n",
      "Epoch 22/100\n",
      "24200/24200 [==============================] - 0s - loss: 0.1856     \n",
      "Epoch 23/100\n",
      "24200/24200 [==============================] - 0s - loss: 0.1812     \n",
      "Epoch 24/100\n",
      "24200/24200 [==============================] - 0s - loss: 0.1810     \n",
      "Epoch 25/100\n",
      "24200/24200 [==============================] - 0s - loss: 0.1782     \n",
      "Epoch 26/100\n",
      "24200/24200 [==============================] - 0s - loss: 0.1815     \n",
      "Epoch 27/100\n",
      "24200/24200 [==============================] - 0s - loss: 0.1812     \n",
      "Epoch 28/100\n",
      "24200/24200 [==============================] - 0s - loss: 0.1796     \n",
      "Epoch 29/100\n",
      "24200/24200 [==============================] - 0s - loss: 0.1802     \n",
      "Epoch 30/100\n",
      "24200/24200 [==============================] - 0s - loss: 0.1795     \n",
      "Epoch 31/100\n",
      "24200/24200 [==============================] - 0s - loss: 0.1786     \n",
      "Epoch 32/100\n",
      "24200/24200 [==============================] - 0s - loss: 0.1799     \n",
      "Epoch 33/100\n",
      "24200/24200 [==============================] - 0s - loss: 0.1801     \n",
      "Epoch 34/100\n",
      "24200/24200 [==============================] - 0s - loss: 0.1837     \n",
      "Epoch 35/100\n",
      "24200/24200 [==============================] - 0s - loss: 0.1851     \n",
      "Epoch 36/100\n",
      "24200/24200 [==============================] - 0s - loss: 0.1842     \n",
      "Epoch 37/100\n",
      "24200/24200 [==============================] - 0s - loss: 0.1832     \n",
      "Epoch 38/100\n",
      "24200/24200 [==============================] - 0s - loss: 0.1841     \n",
      "Epoch 39/100\n",
      "24200/24200 [==============================] - 0s - loss: 0.1849     \n",
      "Epoch 40/100\n",
      "24200/24200 [==============================] - 0s - loss: 0.1829     \n",
      "Epoch 41/100\n",
      "24200/24200 [==============================] - 0s - loss: 0.1841     \n",
      "Epoch 42/100\n",
      "24200/24200 [==============================] - 0s - loss: 0.1825     \n",
      "Epoch 43/100\n",
      "24200/24200 [==============================] - 0s - loss: 0.1853     \n",
      "Epoch 44/100\n",
      "24200/24200 [==============================] - 0s - loss: 0.1835     \n",
      "Epoch 45/100\n",
      "24200/24200 [==============================] - 0s - loss: 0.1836     \n",
      "Epoch 46/100\n",
      "24200/24200 [==============================] - 0s - loss: 0.1854     \n",
      "Epoch 47/100\n",
      "24200/24200 [==============================] - 0s - loss: 0.1821     \n",
      "Epoch 48/100\n",
      "24200/24200 [==============================] - 0s - loss: 0.1841     \n",
      "Epoch 49/100\n",
      "24200/24200 [==============================] - 0s - loss: 0.1855     \n",
      "Epoch 50/100\n",
      "24200/24200 [==============================] - 0s - loss: 0.1836     \n",
      "Epoch 51/100\n",
      "24200/24200 [==============================] - 0s - loss: 0.1830     \n",
      "Epoch 52/100\n",
      "24200/24200 [==============================] - 0s - loss: 0.1816     \n",
      "Epoch 53/100\n",
      "24200/24200 [==============================] - 0s - loss: 0.1811     \n",
      "Epoch 54/100\n",
      "24200/24200 [==============================] - 0s - loss: 0.1796     \n",
      "Epoch 55/100\n",
      "24200/24200 [==============================] - 0s - loss: 0.1828     \n",
      "Epoch 56/100\n",
      "24200/24200 [==============================] - 0s - loss: 0.1821     \n",
      "Epoch 57/100\n",
      "24200/24200 [==============================] - 0s - loss: 0.1839     \n",
      "Epoch 58/100\n",
      "24200/24200 [==============================] - 0s - loss: 0.1818     \n",
      "Epoch 59/100\n",
      "24200/24200 [==============================] - 0s - loss: 0.1831     \n",
      "Epoch 60/100\n",
      "24200/24200 [==============================] - 0s - loss: 0.1815     \n",
      "Epoch 61/100\n",
      "24200/24200 [==============================] - 0s - loss: 0.1840     \n",
      "Epoch 62/100\n",
      "24200/24200 [==============================] - 0s - loss: 0.1833     \n",
      "Epoch 63/100\n",
      "24200/24200 [==============================] - 0s - loss: 0.1817     \n",
      "Epoch 64/100\n",
      "24200/24200 [==============================] - 0s - loss: 0.1834     \n",
      "Epoch 65/100\n",
      "24200/24200 [==============================] - 0s - loss: 0.1824     \n",
      "Epoch 66/100\n",
      "24200/24200 [==============================] - 0s - loss: 0.1813     \n",
      "Epoch 67/100\n",
      "24200/24200 [==============================] - 0s - loss: 0.1822     \n",
      "Epoch 68/100\n",
      "24200/24200 [==============================] - 0s - loss: 0.1809     \n",
      "Epoch 69/100\n",
      "24200/24200 [==============================] - 0s - loss: 0.1803     \n",
      "Epoch 70/100\n",
      "24200/24200 [==============================] - 0s - loss: 0.1818     \n",
      "Epoch 71/100\n",
      "24200/24200 [==============================] - 0s - loss: 0.1791     \n",
      "Epoch 72/100\n",
      "24200/24200 [==============================] - 0s - loss: 0.1819     \n",
      "Epoch 73/100\n",
      "24200/24200 [==============================] - 0s - loss: 0.1795     \n",
      "Epoch 74/100\n",
      "24200/24200 [==============================] - 0s - loss: 0.1807     \n",
      "Epoch 75/100\n",
      "24200/24200 [==============================] - 0s - loss: 0.1843     \n",
      "Epoch 76/100\n",
      "24200/24200 [==============================] - 0s - loss: 0.1809     \n",
      "Epoch 77/100\n",
      "24200/24200 [==============================] - 0s - loss: 0.1826     \n",
      "Epoch 78/100\n",
      "24200/24200 [==============================] - 0s - loss: 0.1784     \n",
      "Epoch 79/100\n",
      "24200/24200 [==============================] - 0s - loss: 0.1801     \n",
      "Epoch 80/100\n",
      "24200/24200 [==============================] - 0s - loss: 0.1794     - ETA: 0s - loss: 0.18\n",
      "Epoch 81/100\n",
      "24200/24200 [==============================] - 0s - loss: 0.1802     \n",
      "Epoch 82/100\n",
      "24200/24200 [==============================] - 0s - loss: 0.1822     \n",
      "Epoch 83/100\n",
      "24200/24200 [==============================] - 0s - loss: 0.1809     \n",
      "Epoch 84/100\n",
      "24200/24200 [==============================] - 0s - loss: 0.1812     \n",
      "Epoch 85/100\n",
      "24200/24200 [==============================] - 0s - loss: 0.1792     \n",
      "Epoch 86/100\n",
      "24200/24200 [==============================] - 0s - loss: 0.1789     \n",
      "Epoch 87/100\n",
      "24200/24200 [==============================] - 0s - loss: 0.1790     \n",
      "Epoch 88/100\n",
      "24200/24200 [==============================] - 0s - loss: 0.1817     \n",
      "Epoch 89/100\n",
      "24200/24200 [==============================] - 0s - loss: 0.1806     \n",
      "Epoch 90/100\n",
      "24200/24200 [==============================] - 0s - loss: 0.1793     \n",
      "Epoch 91/100\n",
      "24200/24200 [==============================] - 0s - loss: 0.1797     \n",
      "Epoch 92/100\n",
      "24200/24200 [==============================] - 0s - loss: 0.1798     \n",
      "Epoch 93/100\n",
      "24200/24200 [==============================] - 0s - loss: 0.1816     \n",
      "Epoch 94/100\n",
      "24200/24200 [==============================] - 0s - loss: 0.1803     \n",
      "Epoch 95/100\n",
      "24200/24200 [==============================] - 0s - loss: 0.1817     \n",
      "Epoch 96/100\n",
      "24200/24200 [==============================] - 0s - loss: 0.1824     \n",
      "Epoch 97/100\n",
      "24200/24200 [==============================] - 0s - loss: 0.1813     \n",
      "Epoch 98/100\n",
      "24200/24200 [==============================] - 0s - loss: 0.1804     - ETA: 0s - loss: 0.18\n",
      "Epoch 99/100\n"
     ]
    },
    {
     "name": "stdout",
     "output_type": "stream",
     "text": [
      "24200/24200 [==============================] - 0s - loss: 0.1818     \n",
      "Epoch 100/100\n",
      "24200/24200 [==============================] - 0s - loss: 0.1834     \n"
     ]
    },
    {
     "data": {
      "text/plain": [
       "<keras.callbacks.History at 0x2457cbf3b70>"
      ]
     },
     "execution_count": 45,
     "metadata": {},
     "output_type": "execute_result"
    }
   ],
   "source": [
    "model.fit(train_X, train_Y, epochs=100, batch_size=64)"
   ]
  },
  {
   "cell_type": "code",
   "execution_count": 46,
   "metadata": {
    "collapsed": true
   },
   "outputs": [],
   "source": [
    "Test = test_data.as_matrix()\n",
    "Test_label = test_label.as_matrix()"
   ]
  },
  {
   "cell_type": "code",
   "execution_count": 47,
   "metadata": {
    "collapsed": true
   },
   "outputs": [],
   "source": [
    "nn_regr = model.predict(Test)"
   ]
  },
  {
   "cell_type": "code",
   "execution_count": 48,
   "metadata": {},
   "outputs": [
    {
     "name": "stdout",
     "output_type": "stream",
     "text": [
      "Nerual Network: accuracy 0.7425595238095238\n"
     ]
    }
   ],
   "source": [
    "nn_pred = cal_pred(nn_regr,0.5)\n",
    "nn_pred = cal_pred(nn_regr,0.5)\n",
    "diff = nn_pred-Test_label\n",
    "diff = diff.tolist()\n",
    "right_count = diff.count(0)\n",
    "nn_accuracy = right_count/len(diff)\n",
    "print('Nerual Network: accuracy',nn_accuracy)"
   ]
  },
  {
   "cell_type": "markdown",
   "metadata": {},
   "source": [
    "### Linear Regression "
   ]
  },
  {
   "cell_type": "markdown",
   "metadata": {},
   "source": [
    "#### with sklearn"
   ]
  },
  {
   "cell_type": "code",
   "execution_count": 49,
   "metadata": {
    "collapsed": true
   },
   "outputs": [],
   "source": [
    "import sklearn"
   ]
  },
  {
   "cell_type": "code",
   "execution_count": 50,
   "metadata": {
    "collapsed": true
   },
   "outputs": [],
   "source": [
    "from sklearn.linear_model import LinearRegression"
   ]
  },
  {
   "cell_type": "code",
   "execution_count": 51,
   "metadata": {
    "collapsed": true
   },
   "outputs": [],
   "source": [
    "lr = LinearRegression(fit_intercept=True, normalize=False, copy_X=True, n_jobs=1)"
   ]
  },
  {
   "cell_type": "code",
   "execution_count": 52,
   "metadata": {},
   "outputs": [
    {
     "data": {
      "text/plain": [
       "LinearRegression(copy_X=True, fit_intercept=True, n_jobs=1, normalize=False)"
      ]
     },
     "execution_count": 52,
     "metadata": {},
     "output_type": "execute_result"
    }
   ],
   "source": [
    "lr.fit(train_data,train_label)"
   ]
  },
  {
   "cell_type": "code",
   "execution_count": 53,
   "metadata": {
    "collapsed": true
   },
   "outputs": [],
   "source": [
    "lr_regr = lr.predict(test_data)"
   ]
  },
  {
   "cell_type": "code",
   "execution_count": 55,
   "metadata": {},
   "outputs": [],
   "source": [
    "# pred = [x>0.5 for x in regr]\n",
    "# lr_alpha = len(data[label==1])/len(data)\n",
    "lr_alpha = 0.5\n",
    "lr_pred = cal_pred(lr_regr,lr_alpha)"
   ]
  },
  {
   "cell_type": "code",
   "execution_count": 56,
   "metadata": {},
   "outputs": [
    {
     "name": "stdout",
     "output_type": "stream",
     "text": [
      "linear_regr: mse= 0.22089787203848651\n",
      "linear_regr: accuracy= 0.6595982142857143\n"
     ]
    }
   ],
   "source": [
    "lr_mse = cal_mse(lr_regr,test_label)\n",
    "print(\"linear_regr: mse=\",lr_mse)\n",
    "lr_accuracy = cal_accuracy(lr_pred,test_label)\n",
    "print(\"linear_regr: accuracy=\",lr_accuracy)"
   ]
  },
  {
   "cell_type": "markdown",
   "metadata": {},
   "source": [
    "We can see the result of linear regression is not so good. So the model may not be linear, then we will try SVR a nonlinear model to do classification"
   ]
  },
  {
   "cell_type": "markdown",
   "metadata": {},
   "source": [
    "### SVR"
   ]
  },
  {
   "cell_type": "code",
   "execution_count": 65,
   "metadata": {
    "collapsed": true
   },
   "outputs": [],
   "source": [
    "from sklearn.svm import SVR\n",
    "from sklearn.externals import joblib"
   ]
  },
  {
   "cell_type": "code",
   "execution_count": 58,
   "metadata": {},
   "outputs": [
    {
     "data": {
      "text/plain": [
       "SVR(C=1.0, cache_size=200, coef0=0.0, degree=3, epsilon=0.2, gamma='auto',\n",
       "  kernel='rbf', max_iter=-1, shrinking=True, tol=0.001, verbose=False)"
      ]
     },
     "execution_count": 58,
     "metadata": {},
     "output_type": "execute_result"
    }
   ],
   "source": [
    "clf = SVR(C=1.0, epsilon=0.2)\n",
    "clf.fit(train_data,train_label)"
   ]
  },
  {
   "cell_type": "code",
   "execution_count": 67,
   "metadata": {},
   "outputs": [],
   "source": [
    "# clf=joblib.load( '../save/clf_svr.pkl')"
   ]
  },
  {
   "cell_type": "code",
   "execution_count": 70,
   "metadata": {
    "collapsed": true
   },
   "outputs": [],
   "source": [
    "svr_regr = clf.predict(test_data)"
   ]
  },
  {
   "cell_type": "code",
   "execution_count": 71,
   "metadata": {},
   "outputs": [
    {
     "name": "stdout",
     "output_type": "stream",
     "text": [
      "SVR: mse= 0.08918395454019791\n",
      "SVR: accuracy= 0.9188988095238095\n"
     ]
    }
   ],
   "source": [
    "svr_alpha = len(data[label==0])/len(data)\n",
    "# print(svr_alpha)\n",
    "svr_mse = cal_mse(svr_regr,test_label)\n",
    "print('SVR: mse=',svr_mse)\n",
    "# svr_alpha = \n",
    "svr_pred = cal_pred(svr_regr,svr_alpha)\n",
    "svr_accuracy = cal_accuracy(svr_pred,test_label)\n",
    "print('SVR: accuracy=',svr_accuracy)"
   ]
  },
  {
   "cell_type": "code",
   "execution_count": 72,
   "metadata": {},
   "outputs": [
    {
     "data": {
      "text/plain": [
       "['../save/clf_svr_nondrop.pkl']"
      ]
     },
     "execution_count": 72,
     "metadata": {},
     "output_type": "execute_result"
    }
   ],
   "source": [
    "joblib.dump(clf, '../save/clf_svr_nondrop.pkl')"
   ]
  },
  {
   "cell_type": "markdown",
   "metadata": {
    "collapsed": true
   },
   "source": [
    "## Eq_classes.txt\n",
    "    Eq_classes.txt: list of equivalence classes and their information"
   ]
  },
  {
   "cell_type": "code",
   "execution_count": 25,
   "metadata": {
    "collapsed": true
   },
   "outputs": [],
   "source": [
    "file = open(root_path+\"eq_classes.txt\")\n",
    "lines = file.readlines()\n",
    "file.close()"
   ]
  },
  {
   "cell_type": "code",
   "execution_count": 26,
   "metadata": {
    "collapsed": true
   },
   "outputs": [],
   "source": [
    "counts_transcript = lines[0]\n",
    "counts_transcript = int(counts_transcript[:-1])\n",
    "counts_class = lines[1]\n",
    "counts_class = int(counts_class[:-1])"
   ]
  },
  {
   "cell_type": "code",
   "execution_count": 27,
   "metadata": {
    "collapsed": true
   },
   "outputs": [],
   "source": [
    "lines = lines[2:]"
   ]
  },
  {
   "cell_type": "markdown",
   "metadata": {},
   "source": [
    "### get the sequence and order of id"
   ]
  },
  {
   "cell_type": "code",
   "execution_count": 28,
   "metadata": {
    "collapsed": true
   },
   "outputs": [],
   "source": [
    "seq_id=[]\n",
    "for id in lines[0:counts_transcript]:\n",
    "    seq_id.append(id[:-1])"
   ]
  },
  {
   "cell_type": "code",
   "execution_count": 29,
   "metadata": {
    "collapsed": true
   },
   "outputs": [],
   "source": [
    "lines = lines[counts_transcript:]"
   ]
  },
  {
   "cell_type": "code",
   "execution_count": 33,
   "metadata": {},
   "outputs": [
    {
     "data": {
      "text/plain": [
       "'1\\t61539\\t385\\n'"
      ]
     },
     "execution_count": 33,
     "metadata": {},
     "output_type": "execute_result"
    }
   ],
   "source": [
    "lines[0]"
   ]
  },
  {
   "cell_type": "code",
   "execution_count": 34,
   "metadata": {
    "collapsed": true
   },
   "outputs": [],
   "source": [
    "list_class = []\n",
    "for line in lines:\n",
    "    li = line[:-1].split('\\t')\n",
    "    list_class.append(li)"
   ]
  },
  {
   "cell_type": "code",
   "execution_count": 35,
   "metadata": {},
   "outputs": [
    {
     "data": {
      "text/plain": [
       "['1', '61539', '385']"
      ]
     },
     "execution_count": 35,
     "metadata": {},
     "output_type": "execute_result"
    }
   ],
   "source": [
    "list_class[0]"
   ]
  },
  {
   "cell_type": "code",
   "execution_count": 36,
   "metadata": {},
   "outputs": [
    {
     "data": {
      "text/plain": [
       "['5', '83713', '83714', '83715', '83716', '83717', '128']"
      ]
     },
     "execution_count": 36,
     "metadata": {},
     "output_type": "execute_result"
    }
   ],
   "source": [
    "list_class[-1]"
   ]
  }
 ],
 "metadata": {
  "kernelspec": {
   "display_name": "Python 3",
   "language": "python",
   "name": "python3"
  },
  "language_info": {
   "codemirror_mode": {
    "name": "ipython",
    "version": 3
   },
   "file_extension": ".py",
   "mimetype": "text/x-python",
   "name": "python",
   "nbconvert_exporter": "python",
   "pygments_lexer": "ipython3",
   "version": "3.6.3"
  }
 },
 "nbformat": 4,
 "nbformat_minor": 2
}
