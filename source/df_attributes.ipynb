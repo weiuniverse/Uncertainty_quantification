{
 "cells": [
  {
   "cell_type": "code",
   "execution_count": 1,
   "metadata": {
    "collapsed": true
   },
   "outputs": [],
   "source": [
    "import math\n",
    "import tsv\n",
    "import numpy as np\n",
    "import pandas as pd\n",
    "import matplotlib.pyplot as plt\n",
    "\n",
    "root_path = \"../data/poly_mo/\"\n",
    "\n",
    "# preprocess data files\n",
    "\n",
    "# Quant_bootstraps.tsv :containing the matrix of bootstrap experiments \n",
    "# containing the final count for each transcript in each round of bootstrapping \n",
    "# with a row be a bootstrap output and columns be list of transcripts. \n",
    "quant_bootstraps = tsv.TsvReader(open(root_path+\"quant_bootstraps.tsv\"))\n",
    "count = 0\n",
    "quant_boot = []\n",
    "for parts in quant_bootstraps:\n",
    "    quant_boot.append(parts)\n",
    "df_quant_boot = pd.DataFrame.from_records(quant_boot[1:], columns=quant_boot[0])\n",
    "df_quant_boot = df_quant_boot.astype('float')\n",
    "df_quant_boot_mean = df_quant_boot.mean()\n",
    "df_quant_boot_std = df_quant_boot.std()\n",
    "id_in_quant_boot = list(df_quant_boot.columns)\n",
    "\n",
    "# Quant.sf :estimated quantifications for each transcript\n",
    "quant_file = open(root_path+\"quant.sf\")\n",
    "lines = quant_file.readlines()\n",
    "quant_file.close()\n",
    "count = 0\n",
    "quant = []\n",
    "for line in lines:\n",
    "    line = line[:-1]\n",
    "    l = line.split('\\t')\n",
    "    quant.append(l)\n",
    "\n",
    "df_quant = pd.DataFrame.from_records(quant[1:], columns=quant[0])\n",
    "df_quant.Name = df_quant.Name.astype(str)\n",
    "df_quant.Length = df_quant.Length.astype(int)\n",
    "df_quant.EffectiveLength = df_quant.EffectiveLength.astype(float)\n",
    "df_quant.TPM = df_quant.TPM.astype(float)\n",
    "df_quant.NumReads = df_quant.NumReads.astype(float)\n",
    "\n",
    "# eq_classes\n"
   ]
  },
  {
   "cell_type": "code",
   "execution_count": 2,
   "metadata": {},
   "outputs": [
    {
     "name": "stdout",
     "output_type": "stream",
     "text": [
      "5\n",
      "195\n"
     ]
    }
   ],
   "source": [
    "fixed_dfquant_boot = df_quant_boot.copy()\n",
    "columns = fixed_dfquant_boot.columns\n",
    "\n",
    "sort_qb = []\n",
    "for id in columns:\n",
    "    try:\n",
    "        listed = list(df_quant_boot[id])        \n",
    "    except KeyError:\n",
    "        pass\n",
    "    else:\n",
    "        listed.sort()\n",
    "        sort_qb.append(listed)\n",
    "sort_qb = list(map(list,zip(*sort_qb)))\n",
    "\n",
    "df_qb_sorted = pd.DataFrame.from_records(sort_qb, columns=columns)\n",
    "\n",
    "sum = len(sort_qb)\n",
    "print(int(sum*0.025))\n",
    "print(int(sum*0.975))\n",
    "percent2dot5 = df_qb_sorted.loc[int(sum*0.025)-1]\n",
    "percent97dot5 = df_qb_sorted.loc[int(sum*0.975)-1]\n",
    "\n",
    "remove_ids = []\n",
    "for id in columns:\n",
    "    if float(percent97dot5[id]) == 0:\n",
    "        remove_ids.append(id)\n",
    "\n",
    "new_columns = list(set(columns) - set(remove_ids))\n",
    "fixed_dfquant_boot = fixed_dfquant_boot[new_columns] \n",
    "fixed_dfquant_boot = fixed_dfquant_boot.astype('float')"
   ]
  },
  {
   "cell_type": "code",
   "execution_count": null,
   "metadata": {},
   "outputs": [
    {
     "name": "stdout",
     "output_type": "stream",
     "text": [
      "93109\n"
     ]
    }
   ],
   "source": [
    "fixed_dfquant = df_quant.copy()\n",
    "print(len(fixed_dfquant.Name)) # 93109\n",
    "for rid in remove_ids:  # too slow\n",
    "    fixed_dfquant = fixed_dfquant[fixed_dfquant.Name != rid]\n",
    "print(len(fixed_dfquant.Name)) # 33965\n",
    "\n",
    "# we now have:\n",
    "# fixed_dfquant_boot from df_quant_boot\n",
    "# fixed_dfquant from from df_quant\n",
    "# mean: fixed_dfquant_boot.mean()\n",
    "# std:  fixed_dfquant_boot.std()\n",
    "# fixed_dfquant.Name\n",
    "# fixed_dfquant.Length\n",
    "# fixed_dfquant.EffectiveLength\n",
    "# fixed_dfquant.TPM\n",
    "# fixed_dfquant.NumReads\n",
    "\n",
    "df_attributes = fixed_dfquant.copy()\n",
    "fixed_qb_mean = fixed_dfquant_boot.mean()\n",
    "fixed_qb_std = fixed_dfquant_boot.std()\n",
    "fixed_qb_mean = fixed_qb_mean.tolist()\n",
    "fixed_qb_std = fixed_qb_std.tolist()\n",
    "\n",
    "df_attributes.insert(5,'quant_boot_mean', fixed_qb_mean)\n",
    "df_attributes.insert(6,'quant_boot_std', fixed_qb_std)"
   ]
  },
  {
   "cell_type": "code",
   "execution_count": null,
   "metadata": {
    "collapsed": true
   },
   "outputs": [],
   "source": []
  }
 ],
 "metadata": {
  "kernelspec": {
   "display_name": "Python 3",
   "language": "python",
   "name": "python3"
  },
  "language_info": {
   "codemirror_mode": {
    "name": "ipython",
    "version": 3
   },
   "file_extension": ".py",
   "mimetype": "text/x-python",
   "name": "python",
   "nbconvert_exporter": "python",
   "pygments_lexer": "ipython3",
   "version": "3.6.2"
  }
 },
 "nbformat": 4,
 "nbformat_minor": 2
}
